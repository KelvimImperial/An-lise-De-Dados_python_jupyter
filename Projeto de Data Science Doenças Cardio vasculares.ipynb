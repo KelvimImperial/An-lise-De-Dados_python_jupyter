{
 "cells": [
  {
   "cell_type": "markdown",
   "id": "20ab1c70",
   "metadata": {},
   "source": [
    "# Projeto De Data Science-Doenças Cardiovasculares"
   ]
  },
  {
   "cell_type": "markdown",
   "id": "83d1dfc3",
   "metadata": {},
   "source": [
    "O especialista acrescenta que as mulheres são protegidas pelos hormônios em sua idade fértil. “A incidência e o índice de doença coronariana nas mulheres é um terço do total dos homens. Ela tende a se igualar por volta dos 70 anos. Nós podemos considerar que desde o dia que nascemos começamos a sofrer algum processo de degeneração das nossas artérias, mas as mulheres são protegidas pela fertilidade”.\n",
    "\n",
    "Outro fator é que os homens fumam e bebem mais. “Além disso, são mais propensos a obesidade e ao estresse. Fora isso, na sociedade, grande parte dos postos de trabalho são assumidos pelo sexo masculino que acaba pagando o ônus por isso, sendo acometidos por doenças cardiovasculares e, provavelmente, essas patologias estão associadas a esses fatores de risco”."
   ]
  },
  {
   "cell_type": "markdown",
   "id": "9e6ee5fb",
   "metadata": {},
   "source": [
    "Quais são as doenças cardiovasculares?\n",
    "São várias as patologias que fazem parte do grupo de doenças cardiovasculares. A princípio, elas podem ser divididas de duas formas: \n",
    "\n",
    "as que apresentam sintomas: geralmente dor no peito, alterações no ritmo cardíaco, dificuldade em respirar, desmaio ou inchaço nas pernas; \n",
    "as assintomáticas: progridem sem que a pessoa perceba qualquer alteração no funcionamento do corpo.\n",
    "Para as primeiras, os sintomas chamam a atenção para a necessidade, muitas vezes urgente, de atendimento médico. Já as segundas somente são detectadas em exames clínicos, também por isso a importância de fazer check-ups regularmente.\n",
    "\n",
    "### Entre as diversas doenças cardiovasculares estão:\n",
    "\n",
    "infarto agudo do miocárdio (IAM);\n",
    "acidente vascular cerebral (AVC);\n",
    "doenças nas válvulas cardíacas;\n",
    "doenças cardíacas congênitas;\n",
    "doença arterial periférica;\n",
    "cardiopatia hipertensiva; \n",
    "cardiopatia congênita;\n",
    "tumores no coração;\n",
    "aneurisma da aorta;\n",
    "arritmias cardíacas;\n",
    "trombose venosa;\n",
    "febre reumática;\n",
    "angina de peito;\n",
    "miocardiopatia;\n",
    "valvulopatias;\n",
    "hipertensão;\n",
    "endocardite;\n",
    "miocardite;\n",
    "cardite.\n",
    "\n"
   ]
  },
  {
   "cell_type": "markdown",
   "id": "5eb86122",
   "metadata": {},
   "source": [
    "Apesar de ser uma das principais causas de morte em todo o mundo, estima-se que cerca de 90% das doenças cardiovasculares poderiam ser evitadas por meio da adoção de algumas medidas e mudanças no lifestyle.\n",
    "\n",
    "Existem hoje várias pesquisas na área de Machine Learning visando a construções de modelos preditivos que ajudem os médicos a descobrirem doenças cardiovasculares em seus pacientes.\n",
    "\n",
    "Estudos publicados na revista na revista Nature Biomedical Engineering mostram que algoritmos de Deep Learning foram capazes de antecipar doenças cardíacas em até 5 anos.\n",
    "\n",
    "Definitivamente, o uso de Inteligência Artificial tem impactado profundamente a área da saúde, e tem proporcionado aos profissionais médicos insumos de inteligência cada vez mais precisos."
   ]
  },
  {
   "cell_type": "markdown",
   "id": "310bd75a",
   "metadata": {},
   "source": [
    "### Importando os Dados"
   ]
  },
  {
   "cell_type": "code",
   "execution_count": 23,
   "id": "65a2683c",
   "metadata": {},
   "outputs": [],
   "source": [
    "\n",
    "import pandas as pd\n",
    "import numpy as np\n",
    "import matplotlib.pyplot as plt\n",
    "import seaborn as sns\n",
    "from pywaffle import Waffle\n",
    "\n",
    "\n",
    "%matplotlib inline\n",
    "sns.set_style()\n",
    "sns.set()\n"
   ]
  },
  {
   "cell_type": "code",
   "execution_count": 24,
   "id": "3ae5e48c",
   "metadata": {},
   "outputs": [],
   "source": [
    "dcv=pd.read_csv(\"heart-disease-uci.csv\")#Dataset doenças cardio vasculares"
   ]
  },
  {
   "cell_type": "code",
   "execution_count": 25,
   "id": "6df166e3",
   "metadata": {},
   "outputs": [],
   "source": [
    "mdcv=pd.read_csv(\"mortes_doencas_cardiovasculares.csv\")#Dataset Morte de doenças cardio vasculares"
   ]
  },
  {
   "cell_type": "markdown",
   "id": "57d3a46b",
   "metadata": {},
   "source": [
    "## Mortes  por Ano"
   ]
  },
  {
   "cell_type": "code",
   "execution_count": 26,
   "id": "f908c1e6",
   "metadata": {},
   "outputs": [],
   "source": [
    "mdcv.sort_values(\"ano\",inplace=True)"
   ]
  },
  {
   "cell_type": "code",
   "execution_count": 27,
   "id": "d7d16ded",
   "metadata": {},
   "outputs": [],
   "source": [
    "mdcv.set_index(\"ano\",inplace=True)"
   ]
  },
  {
   "cell_type": "code",
   "execution_count": 28,
   "id": "d7654bac",
   "metadata": {},
   "outputs": [
    {
     "data": {
      "text/html": [
       "<div>\n",
       "<style scoped>\n",
       "    .dataframe tbody tr th:only-of-type {\n",
       "        vertical-align: middle;\n",
       "    }\n",
       "\n",
       "    .dataframe tbody tr th {\n",
       "        vertical-align: top;\n",
       "    }\n",
       "\n",
       "    .dataframe thead th {\n",
       "        text-align: right;\n",
       "    }\n",
       "</style>\n",
       "<table border=\"1\" class=\"dataframe\">\n",
       "  <thead>\n",
       "    <tr style=\"text-align: right;\">\n",
       "      <th></th>\n",
       "      <th>mortes_doencas_cardio</th>\n",
       "    </tr>\n",
       "    <tr>\n",
       "      <th>ano</th>\n",
       "      <th></th>\n",
       "    </tr>\n",
       "  </thead>\n",
       "  <tbody>\n",
       "    <tr>\n",
       "      <th>2004</th>\n",
       "      <td>285.543</td>\n",
       "    </tr>\n",
       "    <tr>\n",
       "      <th>2005</th>\n",
       "      <td>283.927</td>\n",
       "    </tr>\n",
       "    <tr>\n",
       "      <th>2006</th>\n",
       "      <td>302.817</td>\n",
       "    </tr>\n",
       "    <tr>\n",
       "      <th>2007</th>\n",
       "      <td>308.466</td>\n",
       "    </tr>\n",
       "    <tr>\n",
       "      <th>2008</th>\n",
       "      <td>317.797</td>\n",
       "    </tr>\n",
       "  </tbody>\n",
       "</table>\n",
       "</div>"
      ],
      "text/plain": [
       "      mortes_doencas_cardio\n",
       "ano                        \n",
       "2004                285.543\n",
       "2005                283.927\n",
       "2006                302.817\n",
       "2007                308.466\n",
       "2008                317.797"
      ]
     },
     "execution_count": 28,
     "metadata": {},
     "output_type": "execute_result"
    }
   ],
   "source": [
    "mdcv.head()"
   ]
  },
  {
   "cell_type": "code",
   "execution_count": 29,
   "id": "8371578b",
   "metadata": {},
   "outputs": [
    {
     "data": {
      "image/png": "[encoded data removed]",
      "text/plain": [
       "<Figure size 936x432 with 2 Axes>"
      ]
     },
     "metadata": {},
     "output_type": "display_data"
    }
   ],
   "source": [
    "#fig,(ax1,ax2)=plt.subplots(nrows=1,ncols=2,figsize=(13,6))\n",
    "\n",
    "#mdcv.plot(kind=\"bar\",ax=ax1)\n",
    "#mdcv.plot(kind=\"line\",ax=ax2)\n",
    "\n",
    "#ax1.axes.get_yaxis().set_visible(False)\n",
    "#ax2.axes.get_yaxis().set_visible(False)\n",
    "fig,(ax1,ax2)=plt.subplots(nrows=1,ncols=2,figsize=(13,6))\n",
    "\n",
    "#ax1.text(\n",
    "    \n",
    "    #x=-3,\n",
    "   # y=430,\n",
    "    #s=\"Gráfico De Barra Sobre Mortes De Doenças Cardio Vasculares\",\n",
    "    #fontsize=12,\n",
    "    #weight=\"bold\",\n",
    "    #color=\"#787878\")\n",
    "\n",
    "#ax2.text(\n",
    "    \n",
    "    #x=2,\n",
    "    #y=430,\n",
    "    #s=\"Gráfico De Linha Sobre Mortes De Doenças Cardio Vasculares\",\n",
    "    #fontsize=12,\n",
    "   # weight=\"bold\",\n",
    "    #color=\"#787878\")\n",
    "\n",
    "ax1.text(\n",
    "    \n",
    "    x=31,\n",
    "    y=400,\n",
    "    s=\"$\\\\bf{Mortes}$\\n\",\n",
    "    verticalalignment=\"top\",\n",
    "    fontsize=12,\n",
    "    \n",
    "    color=\"#253760\")\n",
    "\n",
    "ax1.text(\n",
    "    \n",
    "    x=31,\n",
    "    y=360,\n",
    "    s=\"veja que doenças cardio vasculares\\n\"\n",
    "      \"continuam aumentando por ano.\",\n",
    "    verticalalignment=\"top\",\n",
    "    fontsize=12,\n",
    "    \n",
    "    color=\"#787878\")\n",
    "\n",
    "\n",
    "mdcv.plot(kind=\"bar\",ax=ax1,rot=30)\n",
    "mdcv.plot(kind=\"line\",ax=ax2)\n",
    "\n",
    "ax1.set_title(\"Gráfico De Barra Sobre Mortes De Doenças Cardio Vasculares\",fontdict={'fontsize':11,\"fontweight\":\"bold\"})\n",
    "\n",
    "ax2.set_title(\"Gráfico De Linha Sobre Mortes De Doenças Cardio Vasculares\",fontdict={'fontsize':11,\"fontweight\":\"bold\"})\n",
    "\n",
    "ax1.axes.get_yaxis().set_visible(False)\n",
    "ax2.axes.get_yaxis().set_visible(False)\n",
    "#ax.axes.get_yaxis().set_visible(False)\n",
    "#plt.grid(True,lw=3,ls=\"--\")\n",
    "\n",
    "#plt.tight_layout()\n",
    "plt.show()\n",
    "#mdcv.plot(kind=\"bar\",ax=ax)"
   ]
  },
  {
   "cell_type": "markdown",
   "id": "13069d1a",
   "metadata": {},
   "source": [
    "Veja que este gráfico de barra ja nos diz tudo, isso torna-se preocupante visto que o número de mortes por doenças cardio vasculares aumenta por ano, talvès chegou o momento de dizermos basta a está situação e seguir as indicações dos médicos sobre como podemos nós prevenir destes tipos de doenças"
   ]
  },
  {
   "cell_type": "markdown",
   "id": "c72de4e4",
   "metadata": {},
   "source": [
    "## Doenças Cardio Vasculares"
   ]
  },
  {
   "cell_type": "markdown",
   "id": "bfbbb40c",
   "metadata": {},
   "source": [
    "### Análise Exploratoria Dos Dados"
   ]
  },
  {
   "cell_type": "markdown",
   "id": "3f6a26ca",
   "metadata": {},
   "source": [
    "**Tamanho dos Dados**"
   ]
  },
  {
   "cell_type": "code",
   "execution_count": 30,
   "id": "7201ebff",
   "metadata": {},
   "outputs": [
    {
     "name": "stdout",
     "output_type": "stream",
     "text": [
      "Linhas: 303\n",
      "Colunas: 14\n"
     ]
    }
   ],
   "source": [
    "print(f\"Linhas: {dcv.shape[0]}\\nColunas: {dcv.shape[1]}\")"
   ]
  },
  {
   "cell_type": "markdown",
   "id": "24cb4a14",
   "metadata": {},
   "source": [
    "**Ver os tipos de cada variavel**"
   ]
  },
  {
   "cell_type": "code",
   "execution_count": 31,
   "id": "c9e5e7ce",
   "metadata": {},
   "outputs": [
    {
     "data": {
      "text/plain": [
       "age         float64\n",
       "sex         float64\n",
       "cp          float64\n",
       "trestbps    float64\n",
       "chol        float64\n",
       "fbs         float64\n",
       "restecg     float64\n",
       "thalach     float64\n",
       "exang       float64\n",
       "oldpeak     float64\n",
       "slope       float64\n",
       "ca          float64\n",
       "thal        float64\n",
       "num           int64\n",
       "dtype: object"
      ]
     },
     "execution_count": 31,
     "metadata": {},
     "output_type": "execute_result"
    }
   ],
   "source": [
    "dcv.dtypes"
   ]
  },
  {
   "cell_type": "markdown",
   "id": "e010f719",
   "metadata": {},
   "source": [
    "**Visualizar as 5 primeiras Linhas e as últimas primeiras Linhas**"
   ]
  },
  {
   "cell_type": "markdown",
   "id": "676e0c83",
   "metadata": {},
   "source": [
    "Olhando acima as informações sobre os atributos, percebemos que nossa variável alvo ('num') possui cinco valores possíveis: [0, 1, 2, 3, 4].\n",
    "\n",
    "No entanto, seguindo a maioria das pesquisas que utilizaram esse dataset, iremos considerar apenas duas situações possíveis:\n",
    "\n",
    "0 - não há doença cardíaca\n",
    "1 - há doença cardíaca\n",
    "Então, iremos igualar a 1 os valores compreendidos entre 1-4."
   ]
  },
  {
   "cell_type": "code",
   "execution_count": 32,
   "id": "372bf0bb",
   "metadata": {},
   "outputs": [],
   "source": [
    "dcv.loc[dcv.num!=0,\"num\"]=1\n",
    "\n",
    "#df.loc[doencas_cardio_vasculares.num!=0,\"num\"]=1"
   ]
  },
  {
   "cell_type": "code",
   "execution_count": 33,
   "id": "42d341d6",
   "metadata": {},
   "outputs": [
    {
     "data": {
      "text/html": [
       "<div>\n",
       "<style scoped>\n",
       "    .dataframe tbody tr th:only-of-type {\n",
       "        vertical-align: middle;\n",
       "    }\n",
       "\n",
       "    .dataframe tbody tr th {\n",
       "        vertical-align: top;\n",
       "    }\n",
       "\n",
       "    .dataframe thead th {\n",
       "        text-align: right;\n",
       "    }\n",
       "</style>\n",
       "<table border=\"1\" class=\"dataframe\">\n",
       "  <thead>\n",
       "    <tr style=\"text-align: right;\">\n",
       "      <th></th>\n",
       "      <th>age</th>\n",
       "      <th>sex</th>\n",
       "      <th>cp</th>\n",
       "      <th>trestbps</th>\n",
       "      <th>chol</th>\n",
       "      <th>fbs</th>\n",
       "      <th>restecg</th>\n",
       "      <th>thalach</th>\n",
       "      <th>exang</th>\n",
       "      <th>oldpeak</th>\n",
       "      <th>slope</th>\n",
       "      <th>ca</th>\n",
       "      <th>thal</th>\n",
       "      <th>num</th>\n",
       "    </tr>\n",
       "  </thead>\n",
       "  <tbody>\n",
       "    <tr>\n",
       "      <th>0</th>\n",
       "      <td>63.0</td>\n",
       "      <td>1.0</td>\n",
       "      <td>1.0</td>\n",
       "      <td>145.0</td>\n",
       "      <td>233.0</td>\n",
       "      <td>1.0</td>\n",
       "      <td>2.0</td>\n",
       "      <td>150.0</td>\n",
       "      <td>0.0</td>\n",
       "      <td>2.3</td>\n",
       "      <td>3.0</td>\n",
       "      <td>0.0</td>\n",
       "      <td>6.0</td>\n",
       "      <td>0</td>\n",
       "    </tr>\n",
       "    <tr>\n",
       "      <th>1</th>\n",
       "      <td>67.0</td>\n",
       "      <td>1.0</td>\n",
       "      <td>4.0</td>\n",
       "      <td>160.0</td>\n",
       "      <td>286.0</td>\n",
       "      <td>0.0</td>\n",
       "      <td>2.0</td>\n",
       "      <td>108.0</td>\n",
       "      <td>1.0</td>\n",
       "      <td>1.5</td>\n",
       "      <td>2.0</td>\n",
       "      <td>3.0</td>\n",
       "      <td>3.0</td>\n",
       "      <td>1</td>\n",
       "    </tr>\n",
       "    <tr>\n",
       "      <th>2</th>\n",
       "      <td>67.0</td>\n",
       "      <td>1.0</td>\n",
       "      <td>4.0</td>\n",
       "      <td>120.0</td>\n",
       "      <td>229.0</td>\n",
       "      <td>0.0</td>\n",
       "      <td>2.0</td>\n",
       "      <td>129.0</td>\n",
       "      <td>1.0</td>\n",
       "      <td>2.6</td>\n",
       "      <td>2.0</td>\n",
       "      <td>2.0</td>\n",
       "      <td>7.0</td>\n",
       "      <td>1</td>\n",
       "    </tr>\n",
       "    <tr>\n",
       "      <th>3</th>\n",
       "      <td>37.0</td>\n",
       "      <td>1.0</td>\n",
       "      <td>3.0</td>\n",
       "      <td>130.0</td>\n",
       "      <td>250.0</td>\n",
       "      <td>0.0</td>\n",
       "      <td>0.0</td>\n",
       "      <td>187.0</td>\n",
       "      <td>0.0</td>\n",
       "      <td>3.5</td>\n",
       "      <td>3.0</td>\n",
       "      <td>0.0</td>\n",
       "      <td>3.0</td>\n",
       "      <td>0</td>\n",
       "    </tr>\n",
       "    <tr>\n",
       "      <th>4</th>\n",
       "      <td>41.0</td>\n",
       "      <td>0.0</td>\n",
       "      <td>2.0</td>\n",
       "      <td>130.0</td>\n",
       "      <td>204.0</td>\n",
       "      <td>0.0</td>\n",
       "      <td>2.0</td>\n",
       "      <td>172.0</td>\n",
       "      <td>0.0</td>\n",
       "      <td>1.4</td>\n",
       "      <td>1.0</td>\n",
       "      <td>0.0</td>\n",
       "      <td>3.0</td>\n",
       "      <td>0</td>\n",
       "    </tr>\n",
       "  </tbody>\n",
       "</table>\n",
       "</div>"
      ],
      "text/plain": [
       "    age  sex   cp  trestbps   chol  fbs  restecg  thalach  exang  oldpeak  \\\n",
       "0  63.0  1.0  1.0     145.0  233.0  1.0      2.0    150.0    0.0      2.3   \n",
       "1  67.0  1.0  4.0     160.0  286.0  0.0      2.0    108.0    1.0      1.5   \n",
       "2  67.0  1.0  4.0     120.0  229.0  0.0      2.0    129.0    1.0      2.6   \n",
       "3  37.0  1.0  3.0     130.0  250.0  0.0      0.0    187.0    0.0      3.5   \n",
       "4  41.0  0.0  2.0     130.0  204.0  0.0      2.0    172.0    0.0      1.4   \n",
       "\n",
       "   slope   ca  thal  num  \n",
       "0    3.0  0.0   6.0    0  \n",
       "1    2.0  3.0   3.0    1  \n",
       "2    2.0  2.0   7.0    1  \n",
       "3    3.0  0.0   3.0    0  \n",
       "4    1.0  0.0   3.0    0  "
      ]
     },
     "execution_count": 33,
     "metadata": {},
     "output_type": "execute_result"
    }
   ],
   "source": [
    "dcv.head()"
   ]
  },
  {
   "cell_type": "code",
   "execution_count": 34,
   "id": "cba12e81",
   "metadata": {},
   "outputs": [
    {
     "data": {
      "text/html": [
       "<div>\n",
       "<style scoped>\n",
       "    .dataframe tbody tr th:only-of-type {\n",
       "        vertical-align: middle;\n",
       "    }\n",
       "\n",
       "    .dataframe tbody tr th {\n",
       "        vertical-align: top;\n",
       "    }\n",
       "\n",
       "    .dataframe thead th {\n",
       "        text-align: right;\n",
       "    }\n",
       "</style>\n",
       "<table border=\"1\" class=\"dataframe\">\n",
       "  <thead>\n",
       "    <tr style=\"text-align: right;\">\n",
       "      <th></th>\n",
       "      <th>age</th>\n",
       "      <th>sex</th>\n",
       "      <th>cp</th>\n",
       "      <th>trestbps</th>\n",
       "      <th>chol</th>\n",
       "      <th>fbs</th>\n",
       "      <th>restecg</th>\n",
       "      <th>thalach</th>\n",
       "      <th>exang</th>\n",
       "      <th>oldpeak</th>\n",
       "      <th>slope</th>\n",
       "      <th>ca</th>\n",
       "      <th>thal</th>\n",
       "      <th>num</th>\n",
       "    </tr>\n",
       "  </thead>\n",
       "  <tbody>\n",
       "    <tr>\n",
       "      <th>298</th>\n",
       "      <td>45.0</td>\n",
       "      <td>1.0</td>\n",
       "      <td>1.0</td>\n",
       "      <td>110.0</td>\n",
       "      <td>264.0</td>\n",
       "      <td>0.0</td>\n",
       "      <td>0.0</td>\n",
       "      <td>132.0</td>\n",
       "      <td>0.0</td>\n",
       "      <td>1.2</td>\n",
       "      <td>2.0</td>\n",
       "      <td>0.0</td>\n",
       "      <td>7.0</td>\n",
       "      <td>1</td>\n",
       "    </tr>\n",
       "    <tr>\n",
       "      <th>299</th>\n",
       "      <td>68.0</td>\n",
       "      <td>1.0</td>\n",
       "      <td>4.0</td>\n",
       "      <td>144.0</td>\n",
       "      <td>193.0</td>\n",
       "      <td>1.0</td>\n",
       "      <td>0.0</td>\n",
       "      <td>141.0</td>\n",
       "      <td>0.0</td>\n",
       "      <td>3.4</td>\n",
       "      <td>2.0</td>\n",
       "      <td>2.0</td>\n",
       "      <td>7.0</td>\n",
       "      <td>1</td>\n",
       "    </tr>\n",
       "    <tr>\n",
       "      <th>300</th>\n",
       "      <td>57.0</td>\n",
       "      <td>1.0</td>\n",
       "      <td>4.0</td>\n",
       "      <td>130.0</td>\n",
       "      <td>131.0</td>\n",
       "      <td>0.0</td>\n",
       "      <td>0.0</td>\n",
       "      <td>115.0</td>\n",
       "      <td>1.0</td>\n",
       "      <td>1.2</td>\n",
       "      <td>2.0</td>\n",
       "      <td>1.0</td>\n",
       "      <td>7.0</td>\n",
       "      <td>1</td>\n",
       "    </tr>\n",
       "    <tr>\n",
       "      <th>301</th>\n",
       "      <td>57.0</td>\n",
       "      <td>0.0</td>\n",
       "      <td>2.0</td>\n",
       "      <td>130.0</td>\n",
       "      <td>236.0</td>\n",
       "      <td>0.0</td>\n",
       "      <td>2.0</td>\n",
       "      <td>174.0</td>\n",
       "      <td>0.0</td>\n",
       "      <td>0.0</td>\n",
       "      <td>2.0</td>\n",
       "      <td>1.0</td>\n",
       "      <td>3.0</td>\n",
       "      <td>1</td>\n",
       "    </tr>\n",
       "    <tr>\n",
       "      <th>302</th>\n",
       "      <td>38.0</td>\n",
       "      <td>1.0</td>\n",
       "      <td>3.0</td>\n",
       "      <td>138.0</td>\n",
       "      <td>175.0</td>\n",
       "      <td>0.0</td>\n",
       "      <td>0.0</td>\n",
       "      <td>173.0</td>\n",
       "      <td>0.0</td>\n",
       "      <td>0.0</td>\n",
       "      <td>1.0</td>\n",
       "      <td>0.0</td>\n",
       "      <td>3.0</td>\n",
       "      <td>0</td>\n",
       "    </tr>\n",
       "  </tbody>\n",
       "</table>\n",
       "</div>"
      ],
      "text/plain": [
       "      age  sex   cp  trestbps   chol  fbs  restecg  thalach  exang  oldpeak  \\\n",
       "298  45.0  1.0  1.0     110.0  264.0  0.0      0.0    132.0    0.0      1.2   \n",
       "299  68.0  1.0  4.0     144.0  193.0  1.0      0.0    141.0    0.0      3.4   \n",
       "300  57.0  1.0  4.0     130.0  131.0  0.0      0.0    115.0    1.0      1.2   \n",
       "301  57.0  0.0  2.0     130.0  236.0  0.0      2.0    174.0    0.0      0.0   \n",
       "302  38.0  1.0  3.0     138.0  175.0  0.0      0.0    173.0    0.0      0.0   \n",
       "\n",
       "     slope   ca  thal  num  \n",
       "298    2.0  0.0   7.0    1  \n",
       "299    2.0  2.0   7.0    1  \n",
       "300    2.0  1.0   7.0    1  \n",
       "301    2.0  1.0   3.0    1  \n",
       "302    1.0  0.0   3.0    0  "
      ]
     },
     "execution_count": 34,
     "metadata": {},
     "output_type": "execute_result"
    }
   ],
   "source": [
    "dcv.tail()"
   ]
  },
  {
   "cell_type": "markdown",
   "id": "6e850669",
   "metadata": {},
   "source": [
    "**Vendo quantidade de pessoas com \"Não há doenças cardiacas\" e \"há doenças cardiacas\"**"
   ]
  },
  {
   "cell_type": "markdown",
   "id": "3e1b77da",
   "metadata": {},
   "source": [
    "**Verificando valores NAN e Soluciona-los**"
   ]
  },
  {
   "cell_type": "code",
   "execution_count": 35,
   "id": "1c270639",
   "metadata": {},
   "outputs": [
    {
     "data": {
      "text/plain": [
       "age         0\n",
       "sex         0\n",
       "cp          0\n",
       "trestbps    0\n",
       "chol        0\n",
       "fbs         0\n",
       "restecg     0\n",
       "thalach     0\n",
       "exang       0\n",
       "oldpeak     0\n",
       "slope       0\n",
       "ca          0\n",
       "thal        0\n",
       "num         0\n",
       "dtype: int64"
      ]
     },
     "execution_count": 35,
     "metadata": {},
     "output_type": "execute_result"
    }
   ],
   "source": [
    "dcv.isnull().sum()"
   ]
  },
  {
   "cell_type": "markdown",
   "id": "650b2342",
   "metadata": {},
   "source": [
    "**Podemos ver que dentro deste nosso Dataset, não temos valores NAN**"
   ]
  },
  {
   "cell_type": "code",
   "execution_count": 36,
   "id": "b63b59fc",
   "metadata": {},
   "outputs": [],
   "source": [
    "ha_nao_ha=dcv[\"num\"].value_counts()"
   ]
  },
  {
   "cell_type": "code",
   "execution_count": 37,
   "id": "af75e0d2",
   "metadata": {},
   "outputs": [
    {
     "data": {
      "text/plain": [
       "0    164\n",
       "1    139\n",
       "Name: num, dtype: int64"
      ]
     },
     "execution_count": 37,
     "metadata": {},
     "output_type": "execute_result"
    }
   ],
   "source": [
    "ha_nao_ha"
   ]
  },
  {
   "cell_type": "code",
   "execution_count": 38,
   "id": "9f31b71d",
   "metadata": {},
   "outputs": [],
   "source": [
    "labels=[\"Não há doença\",\"há doença\"]\n",
    "labels1=[\"Há Doença\",\"Não Há Doença\"]"
   ]
  },
  {
   "cell_type": "code",
   "execution_count": null,
   "id": "e2a4476e",
   "metadata": {},
   "outputs": [],
   "source": []
  },
  {
   "cell_type": "code",
   "execution_count": 39,
   "id": "77316194",
   "metadata": {},
   "outputs": [
    {
     "data": {
      "image/png": "[encoded data removed]",
      "text/plain": [
       "<Figure size 432x288 with 1 Axes>"
      ]
     },
     "metadata": {},
     "output_type": "display_data"
    }
   ],
   "source": [
    "fig,ax=plt.subplots()\n",
    "\n",
    "ha_nao_ha.plot(kind=\"bar\",ax=ax,rot=30)\n",
    "\n",
    "\n",
    "ax.text(\n",
    "    \n",
    "    x=-2,\n",
    "    y=200,\n",
    "    s=\"Gráfico de Barra sobre contação de quantas pessoas têm doença e quantas não têm doença\",\n",
    "    fontsize=16,\n",
    "    color=\"#787878\",\n",
    "    verticalalignment=\"top\"\n",
    "    )\n",
    "\n",
    "ax.text(\n",
    "        x=1.8,\n",
    "        y=160,\n",
    "        s=\"$\\\\bf{Alivio}$\\n\",\n",
    "        verticalalignment=\"top\",\n",
    "        fontsize=12,\n",
    "    \n",
    "        color=\"#253760\")\n",
    "\n",
    "ax.text(\n",
    "        x=1.8,\n",
    "        y=140,\n",
    "        s=\"Com Base ao gráfico podemos ver que há menos pessoas com este tipo de doença\",\n",
    "        verticalalignment=\"top\",\n",
    "        fontsize=14,\n",
    "    \n",
    "        color=\"#787878\")\n",
    "\n",
    "\n",
    "\n",
    "ax.axes.get_yaxis().set_visible(False)\n",
    "ax.set_xlabel(\"Doenças\")\n",
    "ax.set_label(\"kelvim\")\n",
    "\n",
    "ax.set_xticklabels(labels)\n",
    "#plt.tight_layout();\n",
    "\n",
    "plt.show();\n",
    "\n",
    "\n"
   ]
  },
  {
   "cell_type": "markdown",
   "id": "501925ec",
   "metadata": {},
   "source": [
    "### Ver Quantidade de Homem e de Mulher"
   ]
  },
  {
   "cell_type": "code",
   "execution_count": 40,
   "id": "a8e9a17a",
   "metadata": {},
   "outputs": [],
   "source": [
    "sexo_mais_pega=dcv[\"sex\"]"
   ]
  },
  {
   "cell_type": "code",
   "execution_count": 41,
   "id": "706f37f2",
   "metadata": {},
   "outputs": [
    {
     "data": {
      "text/plain": [
       "0      1.0\n",
       "1      1.0\n",
       "2      1.0\n",
       "3      1.0\n",
       "4      0.0\n",
       "      ... \n",
       "298    1.0\n",
       "299    1.0\n",
       "300    1.0\n",
       "301    0.0\n",
       "302    1.0\n",
       "Name: sex, Length: 303, dtype: float64"
      ]
     },
     "execution_count": 41,
     "metadata": {},
     "output_type": "execute_result"
    }
   ],
   "source": [
    "sexo_mais_pega"
   ]
  },
  {
   "cell_type": "code",
   "execution_count": 42,
   "id": "3a484e6f",
   "metadata": {},
   "outputs": [],
   "source": [
    "sexo_mais_pega.replace([1.0,0.0],[\"Homem\",\"Mulher\"],inplace=True)"
   ]
  },
  {
   "cell_type": "code",
   "execution_count": 43,
   "id": "28fd4106",
   "metadata": {},
   "outputs": [],
   "source": [
    "cont_sexo=sexo_mais_pega.value_counts().to_dict()\n",
    "explode=(0.2,0)"
   ]
  },
  {
   "cell_type": "code",
   "execution_count": 44,
   "id": "4606a4e0",
   "metadata": {},
   "outputs": [
    {
     "data": {
      "image/png": "[encoded data removed]",
      "text/plain": [
       "<Waffle size 432x288 with 1 Axes>"
      ]
     },
     "metadata": {},
     "output_type": "display_data"
    },
    {
     "data": {
      "image/png": "[encoded data removed]",
      "text/plain": [
       "<Figure size 432x288 with 1 Axes>"
      ]
     },
     "metadata": {},
     "output_type": "display_data"
    }
   ],
   "source": [
    "fig=plt.figure(FigureClass=Waffle,\n",
    "              rows=15,values=cont_sexo,\n",
    "              colors=(\"#232066\",\"#983D3D\"),\n",
    "              legend={\"loc\":\"upper left\",\n",
    "              \"bbox_to_anchor\":(1,1)},\n",
    "              icons=\"child\",\n",
    "              icon_size=15,\n",
    "              icon_legend=True)\n",
    "fig.text(x=1.1,\n",
    "        y=1,\n",
    "        s=\"Olhando este gráfico podemos ver que tem mais homem morrendo de doenças \\ncardio vasculares do que mulher\\n\\n\\n\\n\\n\"\n",
    "           f\"{sexo_mais_pega.value_counts()}\",\n",
    "        verticalalignment=\"center_baseline\",\n",
    "        fontsize=14,\n",
    "    \n",
    "        color=\"#787878\")\n",
    "\n",
    "\n",
    "\n",
    "\n",
    "fig.set_tight_layout(False)\n",
    "plt.show();\n",
    "\n",
    "\n",
    "\n",
    "\n",
    "plt.pie(sexo_mais_pega.value_counts(),labels=[\"Homem\",\"Mulher\"],autopct=\"%1.1f%%\",explode=explode,shadow=True)\n",
    "plt.title(\"Sexo Que Mais Pega Doenças Cardio Vasculares\",fontdict={'fontsize':11,\"fontweight\":\"bold\",\"color\":\"#787878\"})\n",
    "\n",
    "plt.tight_layout();\n"
   ]
  },
  {
   "cell_type": "markdown",
   "id": "5aa0ea54",
   "metadata": {},
   "source": [
    "Análisando esses dois gráficos podemos ver que há mais homens apanhando doenças Cardio Vasculares do que mulheres, talvés isso devi-se ao fato de o homem estar sempre na linha da frente e não ter tempo para se alimentar bem e fazer exercícios Físicos.\n",
    "\n",
    "O especialista acrescenta que as mulheres são protegidas pelos hormônios em sua idade fértil. “A incidência e o índice de doença coronariana nas mulheres é um terço do total dos homens. Ela tende a se igualar por volta dos 70 anos. Nós podemos considerar que desde o dia que nascemos começamos a sofrer algum processo de degeneração das nossas artérias, mas as mulheres são protegidas pela fertilidade”.\n",
    "\n",
    "Outro fator é que os homens fumam e bebem mais. “Além disso, são mais propensos a obesidade e ao estresse. Fora isso, na sociedade, grande parte dos postos de trabalho são assumidos pelo sexo masculino que acaba pagando o ônus por isso, sendo acometidos por doenças cardiovasculares e, provavelmente, essas patologias estão associadas a esses fatores de risco”."
   ]
  },
  {
   "cell_type": "markdown",
   "id": "36a70886",
   "metadata": {},
   "source": [
    "# Conclusão"
   ]
  },
  {
   "cell_type": "markdown",
   "id": "d4ecd3bf",
   "metadata": {},
   "source": [
    "A prevenção de doenças cardiovasculares é composta por atitudes simples e facilmente incorporadas no seu dia a dia. Boa alimentação, cuidados com o corpo e acompanhamento médico são as chaves para ter uma vida melhor e mais saudável.\n",
    "\n",
    "Mas infelizmente muitas pessoas ainda se abstêm desses cuidados, levando-as a grandes chances de desenvolverem algum problema cardíaco, muitos com necessidade de atendimento emergencial. \n",
    "\n",
    "Quando isso acontece, é fundamental que quem esteja por perto saiba como socorrer corretamente e, dessa forma, aumentar suas chances de sobrevivência.\n",
    "\n"
   ]
  },
  {
   "cell_type": "code",
   "execution_count": null,
   "id": "d942bfb1",
   "metadata": {},
   "outputs": [],
   "source": []
  }
 ],
 "metadata": {
  "kernelspec": {
   "display_name": "Python 3 (ipykernel)",
   "language": "python",
   "name": "python3"
  },
  "language_info": {
   "codemirror_mode": {
    "name": "ipython",
    "version": 3
   },
   "file_extension": ".py",
   "mimetype": "text/x-python",
   "name": "python",
   "nbconvert_exporter": "python",
   "pygments_lexer": "ipython3",
   "version": "3.8.10"
  }
 },
 "nbformat": 4,
 "nbformat_minor": 5
}
