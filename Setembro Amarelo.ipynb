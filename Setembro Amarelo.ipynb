{
 "cells": [
  {
   "cell_type": "markdown",
   "id": "06ee975b",
   "metadata": {},
   "source": [
    "<img src=\"setembro_amarelo.png\">"
   ]
  },
  {
   "cell_type": "markdown",
   "id": "5132a88a",
   "metadata": {},
   "source": []
  },
  {
   "cell_type": "markdown",
   "id": "d7a82b36",
   "metadata": {},
   "source": [
    "<img src=\"setembro_amarelo.png\">"
   ]
  },
  {
   "cell_type": "markdown",
   "id": "00e2570c",
   "metadata": {},
   "source": [
    "<img src=\"setembro_amarelo.png\">"
   ]
  },
  {
   "cell_type": "markdown",
   "id": "928f5fe2",
   "metadata": {},
   "source": [
    "# Setembro Amarelo: análise do suicídio no Brasil com Data Science\n",
    "\n",
    "\n",
    "Todos os anos, mais de 12 mil pessoas tiram suas próprias vidas no Brasil. Em um cenário mundial, esse número ultrapassa 1 milhão de pessoas, levando o suicídio a ser considerado um problema de saúde pública.\n",
    "\n",
    "Para você ter noção da dimensão desses números, saiba que o suicídio tem uma taxa maior do que vítimas de AIDS e da maioria dos tipos de câncer. Segundo a Organização Mundial da Saúde (OMS), o Brasil ocupa o oitavo lugar no número de suicídios no mundo: São 32 brasileiros por dia.\n",
    "\n",
    "\n",
    "Setembro Amarelo é uma iniciativa da Associação Brasileira de Psiquiatria (ABP), em parceria com o Conselho Federal de Medicina (CFM), para divulgar e alertar a população sobre o problema.\n",
    "\n",
    "Oficialmente, o Dia Mundial de Prevenção ao Suicídio ocorre no dia 10 de setembro, porém durante o mês inteiro são promovidos debates, campanhas e ações para a conscientização sobre o suicídio.\n",
    "\n",
    "O que trago neste artigo é muito mais que apenas um artigo de Ciência de Dados. É uma pequena contribuição que visa ajudar a entender a extensão desse problema no Brasil, além de incentivar o Setembro Amarelo dentro da comunidade Python e Data Science."
   ]
  },
  {
   "cell_type": "markdown",
   "id": "bd3f2402",
   "metadata": {},
   "source": [
    "# Descrição dos dados sobre suicídio\n",
    "\n",
    "O melhor conjunto de dados que eu encontrei na internet está hospedado nesta página, e traz informações sobre vários países. O dataset contempla o período entre os anos de 1985 e 2016.\n",
    "\n",
    "Esse dataset, na verdade, é um compilado de outros 4 datasets. A pessoa que disponibilizou o mesmo fez um grande trabalho de limpeza e padronização. Caso você deseje tenha interesse em conhecer as fontes que deram origem a este único arquivo, são elas:\n",
    "\n",
    "    .United Nations Development Program. (2018). Human development index - HDI.\n",
    "    .World Bank. (2018). World development indicators: GDP (current US$) by country:1985 to 2016.\n",
    "    .Suicide in the Twenty-First Century (Szamil, 2017).\n",
    "    .World Health Organization. (2018). Suicide prevention."
   ]
  },
  {
   "cell_type": "code",
   "execution_count": 1,
   "id": "26f4dfe6",
   "metadata": {},
   "outputs": [],
   "source": [
    "import pandas as pd\n",
    "import matplotlib.pyplot as plt\n",
    "from pywaffle import Waffle\n",
    "import matplotlib\n",
    "\n",
    "%matplotlib inline"
   ]
  },
  {
   "cell_type": "markdown",
   "id": "81966a3c",
   "metadata": {},
   "source": [
    "## Pegando os Dados "
   ]
  },
  {
   "cell_type": "code",
   "execution_count": 2,
   "id": "16453d3b",
   "metadata": {},
   "outputs": [],
   "source": [
    "dados=pd.read_csv(\"suicide_rates.csv\")"
   ]
  },
  {
   "cell_type": "markdown",
   "id": "57a8a2aa",
   "metadata": {},
   "source": [
    "## Vendo Algumas informações do nosso dataset\n",
    "\n",
    "Vendo algumas informações do nosso dataset podemos ver que temos 27820 Linhas e 12 colunas"
   ]
  },
  {
   "cell_type": "code",
   "execution_count": 3,
   "id": "6a855ada",
   "metadata": {},
   "outputs": [
    {
     "name": "stdout",
     "output_type": "stream",
     "text": [
      "Linhas: 27820\n",
      "Colunas:12\n"
     ]
    }
   ],
   "source": [
    "print(f\"Linhas: {dados.shape[0]}\\nColunas:{dados.shape[1]}\")"
   ]
  },
  {
   "cell_type": "markdown",
   "id": "ddbe64ef",
   "metadata": {},
   "source": [
    "## Vendo as 5 primeiras e ultimas Linhas"
   ]
  },
  {
   "cell_type": "code",
   "execution_count": 4,
   "id": "5f1dc379",
   "metadata": {},
   "outputs": [
    {
     "data": {
      "text/html": [
       "<div>\n",
       "<style scoped>\n",
       "    .dataframe tbody tr th:only-of-type {\n",
       "        vertical-align: middle;\n",
       "    }\n",
       "\n",
       "    .dataframe tbody tr th {\n",
       "        vertical-align: top;\n",
       "    }\n",
       "\n",
       "    .dataframe thead th {\n",
       "        text-align: right;\n",
       "    }\n",
       "</style>\n",
       "<table border=\"1\" class=\"dataframe\">\n",
       "  <thead>\n",
       "    <tr style=\"text-align: right;\">\n",
       "      <th></th>\n",
       "      <th>country</th>\n",
       "      <th>year</th>\n",
       "      <th>sex</th>\n",
       "      <th>age</th>\n",
       "      <th>suicides_no</th>\n",
       "      <th>population</th>\n",
       "      <th>suicides/100k pop</th>\n",
       "      <th>country-year</th>\n",
       "      <th>HDI for year</th>\n",
       "      <th>gdp_for_year ($)</th>\n",
       "      <th>gdp_per_capita ($)</th>\n",
       "      <th>generation</th>\n",
       "    </tr>\n",
       "  </thead>\n",
       "  <tbody>\n",
       "    <tr>\n",
       "      <th>0</th>\n",
       "      <td>Albania</td>\n",
       "      <td>1987</td>\n",
       "      <td>male</td>\n",
       "      <td>15-24 years</td>\n",
       "      <td>21</td>\n",
       "      <td>312900</td>\n",
       "      <td>6.71</td>\n",
       "      <td>Albania1987</td>\n",
       "      <td>NaN</td>\n",
       "      <td>2,156,624,900</td>\n",
       "      <td>796</td>\n",
       "      <td>Generation X</td>\n",
       "    </tr>\n",
       "    <tr>\n",
       "      <th>1</th>\n",
       "      <td>Albania</td>\n",
       "      <td>1987</td>\n",
       "      <td>male</td>\n",
       "      <td>35-54 years</td>\n",
       "      <td>16</td>\n",
       "      <td>308000</td>\n",
       "      <td>5.19</td>\n",
       "      <td>Albania1987</td>\n",
       "      <td>NaN</td>\n",
       "      <td>2,156,624,900</td>\n",
       "      <td>796</td>\n",
       "      <td>Silent</td>\n",
       "    </tr>\n",
       "    <tr>\n",
       "      <th>2</th>\n",
       "      <td>Albania</td>\n",
       "      <td>1987</td>\n",
       "      <td>female</td>\n",
       "      <td>15-24 years</td>\n",
       "      <td>14</td>\n",
       "      <td>289700</td>\n",
       "      <td>4.83</td>\n",
       "      <td>Albania1987</td>\n",
       "      <td>NaN</td>\n",
       "      <td>2,156,624,900</td>\n",
       "      <td>796</td>\n",
       "      <td>Generation X</td>\n",
       "    </tr>\n",
       "    <tr>\n",
       "      <th>3</th>\n",
       "      <td>Albania</td>\n",
       "      <td>1987</td>\n",
       "      <td>male</td>\n",
       "      <td>75+ years</td>\n",
       "      <td>1</td>\n",
       "      <td>21800</td>\n",
       "      <td>4.59</td>\n",
       "      <td>Albania1987</td>\n",
       "      <td>NaN</td>\n",
       "      <td>2,156,624,900</td>\n",
       "      <td>796</td>\n",
       "      <td>G.I. Generation</td>\n",
       "    </tr>\n",
       "    <tr>\n",
       "      <th>4</th>\n",
       "      <td>Albania</td>\n",
       "      <td>1987</td>\n",
       "      <td>male</td>\n",
       "      <td>25-34 years</td>\n",
       "      <td>9</td>\n",
       "      <td>274300</td>\n",
       "      <td>3.28</td>\n",
       "      <td>Albania1987</td>\n",
       "      <td>NaN</td>\n",
       "      <td>2,156,624,900</td>\n",
       "      <td>796</td>\n",
       "      <td>Boomers</td>\n",
       "    </tr>\n",
       "  </tbody>\n",
       "</table>\n",
       "</div>"
      ],
      "text/plain": [
       "   country  year     sex          age  suicides_no  population  \\\n",
       "0  Albania  1987    male  15-24 years           21      312900   \n",
       "1  Albania  1987    male  35-54 years           16      308000   \n",
       "2  Albania  1987  female  15-24 years           14      289700   \n",
       "3  Albania  1987    male    75+ years            1       21800   \n",
       "4  Albania  1987    male  25-34 years            9      274300   \n",
       "\n",
       "   suicides/100k pop country-year  HDI for year  gdp_for_year ($)   \\\n",
       "0               6.71  Albania1987           NaN      2,156,624,900   \n",
       "1               5.19  Albania1987           NaN      2,156,624,900   \n",
       "2               4.83  Albania1987           NaN      2,156,624,900   \n",
       "3               4.59  Albania1987           NaN      2,156,624,900   \n",
       "4               3.28  Albania1987           NaN      2,156,624,900   \n",
       "\n",
       "   gdp_per_capita ($)       generation  \n",
       "0                 796     Generation X  \n",
       "1                 796           Silent  \n",
       "2                 796     Generation X  \n",
       "3                 796  G.I. Generation  \n",
       "4                 796          Boomers  "
      ]
     },
     "execution_count": 4,
     "metadata": {},
     "output_type": "execute_result"
    }
   ],
   "source": [
    "dados.head()"
   ]
  },
  {
   "cell_type": "code",
   "execution_count": 5,
   "id": "c2a7e5aa",
   "metadata": {},
   "outputs": [
    {
     "data": {
      "text/html": [
       "<div>\n",
       "<style scoped>\n",
       "    .dataframe tbody tr th:only-of-type {\n",
       "        vertical-align: middle;\n",
       "    }\n",
       "\n",
       "    .dataframe tbody tr th {\n",
       "        vertical-align: top;\n",
       "    }\n",
       "\n",
       "    .dataframe thead th {\n",
       "        text-align: right;\n",
       "    }\n",
       "</style>\n",
       "<table border=\"1\" class=\"dataframe\">\n",
       "  <thead>\n",
       "    <tr style=\"text-align: right;\">\n",
       "      <th></th>\n",
       "      <th>country</th>\n",
       "      <th>year</th>\n",
       "      <th>sex</th>\n",
       "      <th>age</th>\n",
       "      <th>suicides_no</th>\n",
       "      <th>population</th>\n",
       "      <th>suicides/100k pop</th>\n",
       "      <th>country-year</th>\n",
       "      <th>HDI for year</th>\n",
       "      <th>gdp_for_year ($)</th>\n",
       "      <th>gdp_per_capita ($)</th>\n",
       "      <th>generation</th>\n",
       "    </tr>\n",
       "  </thead>\n",
       "  <tbody>\n",
       "    <tr>\n",
       "      <th>27815</th>\n",
       "      <td>Uzbekistan</td>\n",
       "      <td>2014</td>\n",
       "      <td>female</td>\n",
       "      <td>35-54 years</td>\n",
       "      <td>107</td>\n",
       "      <td>3620833</td>\n",
       "      <td>2.96</td>\n",
       "      <td>Uzbekistan2014</td>\n",
       "      <td>0.675</td>\n",
       "      <td>63,067,077,179</td>\n",
       "      <td>2309</td>\n",
       "      <td>Generation X</td>\n",
       "    </tr>\n",
       "    <tr>\n",
       "      <th>27816</th>\n",
       "      <td>Uzbekistan</td>\n",
       "      <td>2014</td>\n",
       "      <td>female</td>\n",
       "      <td>75+ years</td>\n",
       "      <td>9</td>\n",
       "      <td>348465</td>\n",
       "      <td>2.58</td>\n",
       "      <td>Uzbekistan2014</td>\n",
       "      <td>0.675</td>\n",
       "      <td>63,067,077,179</td>\n",
       "      <td>2309</td>\n",
       "      <td>Silent</td>\n",
       "    </tr>\n",
       "    <tr>\n",
       "      <th>27817</th>\n",
       "      <td>Uzbekistan</td>\n",
       "      <td>2014</td>\n",
       "      <td>male</td>\n",
       "      <td>5-14 years</td>\n",
       "      <td>60</td>\n",
       "      <td>2762158</td>\n",
       "      <td>2.17</td>\n",
       "      <td>Uzbekistan2014</td>\n",
       "      <td>0.675</td>\n",
       "      <td>63,067,077,179</td>\n",
       "      <td>2309</td>\n",
       "      <td>Generation Z</td>\n",
       "    </tr>\n",
       "    <tr>\n",
       "      <th>27818</th>\n",
       "      <td>Uzbekistan</td>\n",
       "      <td>2014</td>\n",
       "      <td>female</td>\n",
       "      <td>5-14 years</td>\n",
       "      <td>44</td>\n",
       "      <td>2631600</td>\n",
       "      <td>1.67</td>\n",
       "      <td>Uzbekistan2014</td>\n",
       "      <td>0.675</td>\n",
       "      <td>63,067,077,179</td>\n",
       "      <td>2309</td>\n",
       "      <td>Generation Z</td>\n",
       "    </tr>\n",
       "    <tr>\n",
       "      <th>27819</th>\n",
       "      <td>Uzbekistan</td>\n",
       "      <td>2014</td>\n",
       "      <td>female</td>\n",
       "      <td>55-74 years</td>\n",
       "      <td>21</td>\n",
       "      <td>1438935</td>\n",
       "      <td>1.46</td>\n",
       "      <td>Uzbekistan2014</td>\n",
       "      <td>0.675</td>\n",
       "      <td>63,067,077,179</td>\n",
       "      <td>2309</td>\n",
       "      <td>Boomers</td>\n",
       "    </tr>\n",
       "  </tbody>\n",
       "</table>\n",
       "</div>"
      ],
      "text/plain": [
       "          country  year     sex          age  suicides_no  population  \\\n",
       "27815  Uzbekistan  2014  female  35-54 years          107     3620833   \n",
       "27816  Uzbekistan  2014  female    75+ years            9      348465   \n",
       "27817  Uzbekistan  2014    male   5-14 years           60     2762158   \n",
       "27818  Uzbekistan  2014  female   5-14 years           44     2631600   \n",
       "27819  Uzbekistan  2014  female  55-74 years           21     1438935   \n",
       "\n",
       "       suicides/100k pop    country-year  HDI for year  gdp_for_year ($)   \\\n",
       "27815               2.96  Uzbekistan2014         0.675     63,067,077,179   \n",
       "27816               2.58  Uzbekistan2014         0.675     63,067,077,179   \n",
       "27817               2.17  Uzbekistan2014         0.675     63,067,077,179   \n",
       "27818               1.67  Uzbekistan2014         0.675     63,067,077,179   \n",
       "27819               1.46  Uzbekistan2014         0.675     63,067,077,179   \n",
       "\n",
       "       gdp_per_capita ($)    generation  \n",
       "27815                2309  Generation X  \n",
       "27816                2309        Silent  \n",
       "27817                2309  Generation Z  \n",
       "27818                2309  Generation Z  \n",
       "27819                2309       Boomers  "
      ]
     },
     "execution_count": 5,
     "metadata": {},
     "output_type": "execute_result"
    }
   ],
   "source": [
    "dados.tail()"
   ]
  },
  {
   "cell_type": "markdown",
   "id": "d8ce5185",
   "metadata": {},
   "source": [
    "## Alterando Nome Das Colunas"
   ]
  },
  {
   "cell_type": "code",
   "execution_count": 6,
   "id": "7269f918",
   "metadata": {},
   "outputs": [
    {
     "data": {
      "text/plain": [
       "Index(['country', 'year', 'sex', 'age', 'suicides_no', 'population',\n",
       "       'suicides/100k pop', 'country-year', 'HDI for year',\n",
       "       ' gdp_for_year ($) ', 'gdp_per_capita ($)', 'generation'],\n",
       "      dtype='object')"
      ]
     },
     "execution_count": 6,
     "metadata": {},
     "output_type": "execute_result"
    }
   ],
   "source": [
    "dados.columns"
   ]
  },
  {
   "cell_type": "code",
   "execution_count": 7,
   "id": "12384d4d",
   "metadata": {},
   "outputs": [],
   "source": [
    "colunas={\"country\":\"País\",\"year\":\"Ano\",\"sex\":\"Sexo\",\"age\":\"Idades\",\"suicides_no\":\"Numero_de_suicidio\",\n",
    "        \"population\":\"Populacao\",\"suicides/100k pop\":\"número-de-suicídios-por-100-mil-habitantes\",\n",
    "        \"country-year\":\"País-Ano\",\"HDI for year\":\"Índice-de-Desenvolvimento-Humano-(IDH)-para-o-ano\",\n",
    "        \"gdp_for_year\":\"Produto-Interno-Bruto-(PIB)-para-o-ano\",\"gdp_per_capita\":\"Produto-Interno-Bruto-(PIB)-per-capita\",\n",
    "        \"generation\":\"Generation\"}\n",
    "\n"
   ]
  },
  {
   "cell_type": "code",
   "execution_count": 8,
   "id": "54bc7eb9",
   "metadata": {},
   "outputs": [],
   "source": [
    "dados.rename(columns=colunas,inplace=True)"
   ]
  },
  {
   "cell_type": "code",
   "execution_count": 9,
   "id": "296a5815",
   "metadata": {},
   "outputs": [
    {
     "data": {
      "text/html": [
       "<div>\n",
       "<style scoped>\n",
       "    .dataframe tbody tr th:only-of-type {\n",
       "        vertical-align: middle;\n",
       "    }\n",
       "\n",
       "    .dataframe tbody tr th {\n",
       "        vertical-align: top;\n",
       "    }\n",
       "\n",
       "    .dataframe thead th {\n",
       "        text-align: right;\n",
       "    }\n",
       "</style>\n",
       "<table border=\"1\" class=\"dataframe\">\n",
       "  <thead>\n",
       "    <tr style=\"text-align: right;\">\n",
       "      <th></th>\n",
       "      <th>País</th>\n",
       "      <th>Ano</th>\n",
       "      <th>Sexo</th>\n",
       "      <th>Idades</th>\n",
       "      <th>Numero_de_suicidio</th>\n",
       "      <th>Populacao</th>\n",
       "      <th>número-de-suicídios-por-100-mil-habitantes</th>\n",
       "      <th>País-Ano</th>\n",
       "      <th>Índice-de-Desenvolvimento-Humano-(IDH)-para-o-ano</th>\n",
       "      <th>gdp_for_year ($)</th>\n",
       "      <th>gdp_per_capita ($)</th>\n",
       "      <th>Generation</th>\n",
       "    </tr>\n",
       "  </thead>\n",
       "  <tbody>\n",
       "    <tr>\n",
       "      <th>0</th>\n",
       "      <td>Albania</td>\n",
       "      <td>1987</td>\n",
       "      <td>male</td>\n",
       "      <td>15-24 years</td>\n",
       "      <td>21</td>\n",
       "      <td>312900</td>\n",
       "      <td>6.71</td>\n",
       "      <td>Albania1987</td>\n",
       "      <td>NaN</td>\n",
       "      <td>2,156,624,900</td>\n",
       "      <td>796</td>\n",
       "      <td>Generation X</td>\n",
       "    </tr>\n",
       "    <tr>\n",
       "      <th>1</th>\n",
       "      <td>Albania</td>\n",
       "      <td>1987</td>\n",
       "      <td>male</td>\n",
       "      <td>35-54 years</td>\n",
       "      <td>16</td>\n",
       "      <td>308000</td>\n",
       "      <td>5.19</td>\n",
       "      <td>Albania1987</td>\n",
       "      <td>NaN</td>\n",
       "      <td>2,156,624,900</td>\n",
       "      <td>796</td>\n",
       "      <td>Silent</td>\n",
       "    </tr>\n",
       "    <tr>\n",
       "      <th>2</th>\n",
       "      <td>Albania</td>\n",
       "      <td>1987</td>\n",
       "      <td>female</td>\n",
       "      <td>15-24 years</td>\n",
       "      <td>14</td>\n",
       "      <td>289700</td>\n",
       "      <td>4.83</td>\n",
       "      <td>Albania1987</td>\n",
       "      <td>NaN</td>\n",
       "      <td>2,156,624,900</td>\n",
       "      <td>796</td>\n",
       "      <td>Generation X</td>\n",
       "    </tr>\n",
       "    <tr>\n",
       "      <th>3</th>\n",
       "      <td>Albania</td>\n",
       "      <td>1987</td>\n",
       "      <td>male</td>\n",
       "      <td>75+ years</td>\n",
       "      <td>1</td>\n",
       "      <td>21800</td>\n",
       "      <td>4.59</td>\n",
       "      <td>Albania1987</td>\n",
       "      <td>NaN</td>\n",
       "      <td>2,156,624,900</td>\n",
       "      <td>796</td>\n",
       "      <td>G.I. Generation</td>\n",
       "    </tr>\n",
       "    <tr>\n",
       "      <th>4</th>\n",
       "      <td>Albania</td>\n",
       "      <td>1987</td>\n",
       "      <td>male</td>\n",
       "      <td>25-34 years</td>\n",
       "      <td>9</td>\n",
       "      <td>274300</td>\n",
       "      <td>3.28</td>\n",
       "      <td>Albania1987</td>\n",
       "      <td>NaN</td>\n",
       "      <td>2,156,624,900</td>\n",
       "      <td>796</td>\n",
       "      <td>Boomers</td>\n",
       "    </tr>\n",
       "  </tbody>\n",
       "</table>\n",
       "</div>"
      ],
      "text/plain": [
       "      País   Ano    Sexo       Idades  Numero_de_suicidio  Populacao  \\\n",
       "0  Albania  1987    male  15-24 years                  21     312900   \n",
       "1  Albania  1987    male  35-54 years                  16     308000   \n",
       "2  Albania  1987  female  15-24 years                  14     289700   \n",
       "3  Albania  1987    male    75+ years                   1      21800   \n",
       "4  Albania  1987    male  25-34 years                   9     274300   \n",
       "\n",
       "   número-de-suicídios-por-100-mil-habitantes     País-Ano  \\\n",
       "0                                        6.71  Albania1987   \n",
       "1                                        5.19  Albania1987   \n",
       "2                                        4.83  Albania1987   \n",
       "3                                        4.59  Albania1987   \n",
       "4                                        3.28  Albania1987   \n",
       "\n",
       "   Índice-de-Desenvolvimento-Humano-(IDH)-para-o-ano  gdp_for_year ($)   \\\n",
       "0                                                NaN      2,156,624,900   \n",
       "1                                                NaN      2,156,624,900   \n",
       "2                                                NaN      2,156,624,900   \n",
       "3                                                NaN      2,156,624,900   \n",
       "4                                                NaN      2,156,624,900   \n",
       "\n",
       "   gdp_per_capita ($)       Generation  \n",
       "0                 796     Generation X  \n",
       "1                 796           Silent  \n",
       "2                 796     Generation X  \n",
       "3                 796  G.I. Generation  \n",
       "4                 796          Boomers  "
      ]
     },
     "execution_count": 9,
     "metadata": {},
     "output_type": "execute_result"
    }
   ],
   "source": [
    "dados.head()"
   ]
  },
  {
   "cell_type": "markdown",
   "id": "bf4fac02",
   "metadata": {},
   "source": [
    "## Vendo todos os países que compoẽm este dataset"
   ]
  },
  {
   "cell_type": "code",
   "execution_count": 10,
   "id": "fcc929b4",
   "metadata": {},
   "outputs": [
    {
     "data": {
      "text/plain": [
       "array(['Albania', 'Antigua and Barbuda', 'Argentina', 'Armenia', 'Aruba',\n",
       "       'Australia', 'Austria', 'Azerbaijan', 'Bahamas', 'Bahrain',\n",
       "       'Barbados', 'Belarus', 'Belgium', 'Belize',\n",
       "       'Bosnia and Herzegovina', 'Brazil', 'Bulgaria', 'Cabo Verde',\n",
       "       'Canada', 'Chile', 'Colombia', 'Costa Rica', 'Croatia', 'Cuba',\n",
       "       'Cyprus', 'Czech Republic', 'Denmark', 'Dominica', 'Ecuador',\n",
       "       'El Salvador', 'Estonia', 'Fiji', 'Finland', 'France', 'Georgia',\n",
       "       'Germany', 'Greece', 'Grenada', 'Guatemala', 'Guyana', 'Hungary',\n",
       "       'Iceland', 'Ireland', 'Israel', 'Italy', 'Jamaica', 'Japan',\n",
       "       'Kazakhstan', 'Kiribati', 'Kuwait', 'Kyrgyzstan', 'Latvia',\n",
       "       'Lithuania', 'Luxembourg', 'Macau', 'Maldives', 'Malta',\n",
       "       'Mauritius', 'Mexico', 'Mongolia', 'Montenegro', 'Netherlands',\n",
       "       'New Zealand', 'Nicaragua', 'Norway', 'Oman', 'Panama', 'Paraguay',\n",
       "       'Philippines', 'Poland', 'Portugal', 'Puerto Rico', 'Qatar',\n",
       "       'Republic of Korea', 'Romania', 'Russian Federation',\n",
       "       'Saint Kitts and Nevis', 'Saint Lucia',\n",
       "       'Saint Vincent and Grenadines', 'San Marino', 'Serbia',\n",
       "       'Seychelles', 'Singapore', 'Slovakia', 'Slovenia', 'South Africa',\n",
       "       'Spain', 'Sri Lanka', 'Suriname', 'Sweden', 'Switzerland',\n",
       "       'Thailand', 'Trinidad and Tobago', 'Turkey', 'Turkmenistan',\n",
       "       'Ukraine', 'United Arab Emirates', 'United Kingdom',\n",
       "       'United States', 'Uruguay', 'Uzbekistan'], dtype=object)"
      ]
     },
     "execution_count": 10,
     "metadata": {},
     "output_type": "execute_result"
    }
   ],
   "source": [
    "dados[\"País\"].unique()"
   ]
  },
  {
   "cell_type": "markdown",
   "id": "0db91626",
   "metadata": {},
   "source": [
    "## Vamos Transformar a coluna País em Indice ficando:"
   ]
  },
  {
   "cell_type": "code",
   "execution_count": 11,
   "id": "096cc41b",
   "metadata": {},
   "outputs": [],
   "source": [
    "dados.set_index(\"País\",inplace=True)"
   ]
  },
  {
   "cell_type": "code",
   "execution_count": 12,
   "id": "19c1c4d8",
   "metadata": {},
   "outputs": [
    {
     "data": {
      "text/html": [
       "<div>\n",
       "<style scoped>\n",
       "    .dataframe tbody tr th:only-of-type {\n",
       "        vertical-align: middle;\n",
       "    }\n",
       "\n",
       "    .dataframe tbody tr th {\n",
       "        vertical-align: top;\n",
       "    }\n",
       "\n",
       "    .dataframe thead th {\n",
       "        text-align: right;\n",
       "    }\n",
       "</style>\n",
       "<table border=\"1\" class=\"dataframe\">\n",
       "  <thead>\n",
       "    <tr style=\"text-align: right;\">\n",
       "      <th></th>\n",
       "      <th>Ano</th>\n",
       "      <th>Sexo</th>\n",
       "      <th>Idades</th>\n",
       "      <th>Numero_de_suicidio</th>\n",
       "      <th>Populacao</th>\n",
       "      <th>número-de-suicídios-por-100-mil-habitantes</th>\n",
       "      <th>País-Ano</th>\n",
       "      <th>Índice-de-Desenvolvimento-Humano-(IDH)-para-o-ano</th>\n",
       "      <th>gdp_for_year ($)</th>\n",
       "      <th>gdp_per_capita ($)</th>\n",
       "      <th>Generation</th>\n",
       "    </tr>\n",
       "    <tr>\n",
       "      <th>País</th>\n",
       "      <th></th>\n",
       "      <th></th>\n",
       "      <th></th>\n",
       "      <th></th>\n",
       "      <th></th>\n",
       "      <th></th>\n",
       "      <th></th>\n",
       "      <th></th>\n",
       "      <th></th>\n",
       "      <th></th>\n",
       "      <th></th>\n",
       "    </tr>\n",
       "  </thead>\n",
       "  <tbody>\n",
       "    <tr>\n",
       "      <th>Albania</th>\n",
       "      <td>1987</td>\n",
       "      <td>male</td>\n",
       "      <td>15-24 years</td>\n",
       "      <td>21</td>\n",
       "      <td>312900</td>\n",
       "      <td>6.71</td>\n",
       "      <td>Albania1987</td>\n",
       "      <td>NaN</td>\n",
       "      <td>2,156,624,900</td>\n",
       "      <td>796</td>\n",
       "      <td>Generation X</td>\n",
       "    </tr>\n",
       "    <tr>\n",
       "      <th>Albania</th>\n",
       "      <td>1987</td>\n",
       "      <td>male</td>\n",
       "      <td>35-54 years</td>\n",
       "      <td>16</td>\n",
       "      <td>308000</td>\n",
       "      <td>5.19</td>\n",
       "      <td>Albania1987</td>\n",
       "      <td>NaN</td>\n",
       "      <td>2,156,624,900</td>\n",
       "      <td>796</td>\n",
       "      <td>Silent</td>\n",
       "    </tr>\n",
       "    <tr>\n",
       "      <th>Albania</th>\n",
       "      <td>1987</td>\n",
       "      <td>female</td>\n",
       "      <td>15-24 years</td>\n",
       "      <td>14</td>\n",
       "      <td>289700</td>\n",
       "      <td>4.83</td>\n",
       "      <td>Albania1987</td>\n",
       "      <td>NaN</td>\n",
       "      <td>2,156,624,900</td>\n",
       "      <td>796</td>\n",
       "      <td>Generation X</td>\n",
       "    </tr>\n",
       "    <tr>\n",
       "      <th>Albania</th>\n",
       "      <td>1987</td>\n",
       "      <td>male</td>\n",
       "      <td>75+ years</td>\n",
       "      <td>1</td>\n",
       "      <td>21800</td>\n",
       "      <td>4.59</td>\n",
       "      <td>Albania1987</td>\n",
       "      <td>NaN</td>\n",
       "      <td>2,156,624,900</td>\n",
       "      <td>796</td>\n",
       "      <td>G.I. Generation</td>\n",
       "    </tr>\n",
       "    <tr>\n",
       "      <th>Albania</th>\n",
       "      <td>1987</td>\n",
       "      <td>male</td>\n",
       "      <td>25-34 years</td>\n",
       "      <td>9</td>\n",
       "      <td>274300</td>\n",
       "      <td>3.28</td>\n",
       "      <td>Albania1987</td>\n",
       "      <td>NaN</td>\n",
       "      <td>2,156,624,900</td>\n",
       "      <td>796</td>\n",
       "      <td>Boomers</td>\n",
       "    </tr>\n",
       "  </tbody>\n",
       "</table>\n",
       "</div>"
      ],
      "text/plain": [
       "          Ano    Sexo       Idades  Numero_de_suicidio  Populacao  \\\n",
       "País                                                                \n",
       "Albania  1987    male  15-24 years                  21     312900   \n",
       "Albania  1987    male  35-54 years                  16     308000   \n",
       "Albania  1987  female  15-24 years                  14     289700   \n",
       "Albania  1987    male    75+ years                   1      21800   \n",
       "Albania  1987    male  25-34 years                   9     274300   \n",
       "\n",
       "         número-de-suicídios-por-100-mil-habitantes     País-Ano  \\\n",
       "País                                                               \n",
       "Albania                                        6.71  Albania1987   \n",
       "Albania                                        5.19  Albania1987   \n",
       "Albania                                        4.83  Albania1987   \n",
       "Albania                                        4.59  Albania1987   \n",
       "Albania                                        3.28  Albania1987   \n",
       "\n",
       "         Índice-de-Desenvolvimento-Humano-(IDH)-para-o-ano  gdp_for_year ($)   \\\n",
       "País                                                                            \n",
       "Albania                                                NaN      2,156,624,900   \n",
       "Albania                                                NaN      2,156,624,900   \n",
       "Albania                                                NaN      2,156,624,900   \n",
       "Albania                                                NaN      2,156,624,900   \n",
       "Albania                                                NaN      2,156,624,900   \n",
       "\n",
       "         gdp_per_capita ($)       Generation  \n",
       "País                                          \n",
       "Albania                 796     Generation X  \n",
       "Albania                 796           Silent  \n",
       "Albania                 796     Generation X  \n",
       "Albania                 796  G.I. Generation  \n",
       "Albania                 796          Boomers  "
      ]
     },
     "execution_count": 12,
     "metadata": {},
     "output_type": "execute_result"
    }
   ],
   "source": [
    "dados.head()"
   ]
  },
  {
   "cell_type": "markdown",
   "id": "e93af105",
   "metadata": {},
   "source": [
    "# Informações do nosso dataset"
   ]
  },
  {
   "cell_type": "markdown",
   "id": "1a1a2e32",
   "metadata": {},
   "source": [
    "**Vendo os tipos das colunas**"
   ]
  },
  {
   "cell_type": "code",
   "execution_count": 13,
   "id": "0e10f807",
   "metadata": {},
   "outputs": [
    {
     "data": {
      "text/plain": [
       "Ano                                                    int64\n",
       "Sexo                                                  object\n",
       "Idades                                                object\n",
       "Numero_de_suicidio                                     int64\n",
       "Populacao                                              int64\n",
       "número-de-suicídios-por-100-mil-habitantes           float64\n",
       "País-Ano                                              object\n",
       "Índice-de-Desenvolvimento-Humano-(IDH)-para-o-ano    float64\n",
       " gdp_for_year ($)                                     object\n",
       "gdp_per_capita ($)                                     int64\n",
       "Generation                                            object\n",
       "dtype: object"
      ]
     },
     "execution_count": 13,
     "metadata": {},
     "output_type": "execute_result"
    }
   ],
   "source": [
    "dados.dtypes"
   ]
  },
  {
   "cell_type": "markdown",
   "id": "eb745b5e",
   "metadata": {},
   "source": [
    "**Vendo a contação de cada coluna**, análisando bem podemos ver que na coluna Índice-de-Desenvolvimento-Humano-(IDH)-para-o-ano existem valores NAN"
   ]
  },
  {
   "cell_type": "code",
   "execution_count": 14,
   "id": "2d6c1a3c",
   "metadata": {},
   "outputs": [
    {
     "data": {
      "text/plain": [
       "Ano                                                  27820\n",
       "Sexo                                                 27820\n",
       "Idades                                               27820\n",
       "Numero_de_suicidio                                   27820\n",
       "Populacao                                            27820\n",
       "número-de-suicídios-por-100-mil-habitantes           27820\n",
       "País-Ano                                             27820\n",
       "Índice-de-Desenvolvimento-Humano-(IDH)-para-o-ano     8364\n",
       " gdp_for_year ($)                                    27820\n",
       "gdp_per_capita ($)                                   27820\n",
       "Generation                                           27820\n",
       "dtype: int64"
      ]
     },
     "execution_count": 14,
     "metadata": {},
     "output_type": "execute_result"
    }
   ],
   "source": [
    "dados.count()"
   ]
  },
  {
   "cell_type": "markdown",
   "id": "b5943007",
   "metadata": {},
   "source": [
    "**Informação Geral:**"
   ]
  },
  {
   "cell_type": "code",
   "execution_count": 15,
   "id": "f2d40abb",
   "metadata": {},
   "outputs": [
    {
     "name": "stdout",
     "output_type": "stream",
     "text": [
      "<class 'pandas.core.frame.DataFrame'>\n",
      "Index: 27820 entries, Albania to Uzbekistan\n",
      "Data columns (total 11 columns):\n",
      " #   Column                                             Non-Null Count  Dtype  \n",
      "---  ------                                             --------------  -----  \n",
      " 0   Ano                                                27820 non-null  int64  \n",
      " 1   Sexo                                               27820 non-null  object \n",
      " 2   Idades                                             27820 non-null  object \n",
      " 3   Numero_de_suicidio                                 27820 non-null  int64  \n",
      " 4   Populacao                                          27820 non-null  int64  \n",
      " 5   número-de-suicídios-por-100-mil-habitantes         27820 non-null  float64\n",
      " 6   País-Ano                                           27820 non-null  object \n",
      " 7   Índice-de-Desenvolvimento-Humano-(IDH)-para-o-ano  8364 non-null   float64\n",
      " 8    gdp_for_year ($)                                  27820 non-null  object \n",
      " 9   gdp_per_capita ($)                                 27820 non-null  int64  \n",
      " 10  Generation                                         27820 non-null  object \n",
      "dtypes: float64(2), int64(4), object(5)\n",
      "memory usage: 2.5+ MB\n"
     ]
    }
   ],
   "source": [
    "dados.info()"
   ]
  },
  {
   "cell_type": "code",
   "execution_count": 16,
   "id": "da65b5cc",
   "metadata": {},
   "outputs": [],
   "source": [
    "dados_Brasil=dados.loc[\"Brazil\"]"
   ]
  },
  {
   "cell_type": "code",
   "execution_count": 17,
   "id": "e6eddb26",
   "metadata": {},
   "outputs": [
    {
     "data": {
      "text/html": [
       "<div>\n",
       "<style scoped>\n",
       "    .dataframe tbody tr th:only-of-type {\n",
       "        vertical-align: middle;\n",
       "    }\n",
       "\n",
       "    .dataframe tbody tr th {\n",
       "        vertical-align: top;\n",
       "    }\n",
       "\n",
       "    .dataframe thead th {\n",
       "        text-align: right;\n",
       "    }\n",
       "</style>\n",
       "<table border=\"1\" class=\"dataframe\">\n",
       "  <thead>\n",
       "    <tr style=\"text-align: right;\">\n",
       "      <th></th>\n",
       "      <th>Ano</th>\n",
       "      <th>Sexo</th>\n",
       "      <th>Idades</th>\n",
       "      <th>Numero_de_suicidio</th>\n",
       "      <th>Populacao</th>\n",
       "      <th>número-de-suicídios-por-100-mil-habitantes</th>\n",
       "      <th>País-Ano</th>\n",
       "      <th>Índice-de-Desenvolvimento-Humano-(IDH)-para-o-ano</th>\n",
       "      <th>gdp_for_year ($)</th>\n",
       "      <th>gdp_per_capita ($)</th>\n",
       "      <th>Generation</th>\n",
       "    </tr>\n",
       "    <tr>\n",
       "      <th>País</th>\n",
       "      <th></th>\n",
       "      <th></th>\n",
       "      <th></th>\n",
       "      <th></th>\n",
       "      <th></th>\n",
       "      <th></th>\n",
       "      <th></th>\n",
       "      <th></th>\n",
       "      <th></th>\n",
       "      <th></th>\n",
       "      <th></th>\n",
       "    </tr>\n",
       "  </thead>\n",
       "  <tbody>\n",
       "    <tr>\n",
       "      <th>Brazil</th>\n",
       "      <td>1985</td>\n",
       "      <td>male</td>\n",
       "      <td>75+ years</td>\n",
       "      <td>129</td>\n",
       "      <td>840300</td>\n",
       "      <td>15.35</td>\n",
       "      <td>Brazil1985</td>\n",
       "      <td>0.576</td>\n",
       "      <td>222,942,790,435</td>\n",
       "      <td>1898</td>\n",
       "      <td>G.I. Generation</td>\n",
       "    </tr>\n",
       "    <tr>\n",
       "      <th>Brazil</th>\n",
       "      <td>1985</td>\n",
       "      <td>male</td>\n",
       "      <td>55-74 years</td>\n",
       "      <td>535</td>\n",
       "      <td>5364900</td>\n",
       "      <td>9.97</td>\n",
       "      <td>Brazil1985</td>\n",
       "      <td>0.576</td>\n",
       "      <td>222,942,790,435</td>\n",
       "      <td>1898</td>\n",
       "      <td>G.I. Generation</td>\n",
       "    </tr>\n",
       "    <tr>\n",
       "      <th>Brazil</th>\n",
       "      <td>1985</td>\n",
       "      <td>male</td>\n",
       "      <td>35-54 years</td>\n",
       "      <td>1011</td>\n",
       "      <td>11986300</td>\n",
       "      <td>8.43</td>\n",
       "      <td>Brazil1985</td>\n",
       "      <td>0.576</td>\n",
       "      <td>222,942,790,435</td>\n",
       "      <td>1898</td>\n",
       "      <td>Silent</td>\n",
       "    </tr>\n",
       "    <tr>\n",
       "      <th>Brazil</th>\n",
       "      <td>1985</td>\n",
       "      <td>male</td>\n",
       "      <td>25-34 years</td>\n",
       "      <td>791</td>\n",
       "      <td>10762900</td>\n",
       "      <td>7.35</td>\n",
       "      <td>Brazil1985</td>\n",
       "      <td>0.576</td>\n",
       "      <td>222,942,790,435</td>\n",
       "      <td>1898</td>\n",
       "      <td>Boomers</td>\n",
       "    </tr>\n",
       "    <tr>\n",
       "      <th>Brazil</th>\n",
       "      <td>1985</td>\n",
       "      <td>male</td>\n",
       "      <td>15-24 years</td>\n",
       "      <td>661</td>\n",
       "      <td>13834000</td>\n",
       "      <td>4.78</td>\n",
       "      <td>Brazil1985</td>\n",
       "      <td>0.576</td>\n",
       "      <td>222,942,790,435</td>\n",
       "      <td>1898</td>\n",
       "      <td>Generation X</td>\n",
       "    </tr>\n",
       "  </tbody>\n",
       "</table>\n",
       "</div>"
      ],
      "text/plain": [
       "         Ano  Sexo       Idades  Numero_de_suicidio  Populacao  \\\n",
       "País                                                             \n",
       "Brazil  1985  male    75+ years                 129     840300   \n",
       "Brazil  1985  male  55-74 years                 535    5364900   \n",
       "Brazil  1985  male  35-54 years                1011   11986300   \n",
       "Brazil  1985  male  25-34 years                 791   10762900   \n",
       "Brazil  1985  male  15-24 years                 661   13834000   \n",
       "\n",
       "        número-de-suicídios-por-100-mil-habitantes    País-Ano  \\\n",
       "País                                                             \n",
       "Brazil                                       15.35  Brazil1985   \n",
       "Brazil                                        9.97  Brazil1985   \n",
       "Brazil                                        8.43  Brazil1985   \n",
       "Brazil                                        7.35  Brazil1985   \n",
       "Brazil                                        4.78  Brazil1985   \n",
       "\n",
       "        Índice-de-Desenvolvimento-Humano-(IDH)-para-o-ano  gdp_for_year ($)   \\\n",
       "País                                                                           \n",
       "Brazil                                              0.576    222,942,790,435   \n",
       "Brazil                                              0.576    222,942,790,435   \n",
       "Brazil                                              0.576    222,942,790,435   \n",
       "Brazil                                              0.576    222,942,790,435   \n",
       "Brazil                                              0.576    222,942,790,435   \n",
       "\n",
       "        gdp_per_capita ($)       Generation  \n",
       "País                                         \n",
       "Brazil                1898  G.I. Generation  \n",
       "Brazil                1898  G.I. Generation  \n",
       "Brazil                1898           Silent  \n",
       "Brazil                1898          Boomers  \n",
       "Brazil                1898     Generation X  "
      ]
     },
     "execution_count": 17,
     "metadata": {},
     "output_type": "execute_result"
    }
   ],
   "source": [
    "dados_Brasil.head()"
   ]
  },
  {
   "cell_type": "code",
   "execution_count": 18,
   "id": "61762178",
   "metadata": {},
   "outputs": [
    {
     "data": {
      "text/html": [
       "<div>\n",
       "<style scoped>\n",
       "    .dataframe tbody tr th:only-of-type {\n",
       "        vertical-align: middle;\n",
       "    }\n",
       "\n",
       "    .dataframe tbody tr th {\n",
       "        vertical-align: top;\n",
       "    }\n",
       "\n",
       "    .dataframe thead th {\n",
       "        text-align: right;\n",
       "    }\n",
       "</style>\n",
       "<table border=\"1\" class=\"dataframe\">\n",
       "  <thead>\n",
       "    <tr style=\"text-align: right;\">\n",
       "      <th></th>\n",
       "      <th>Ano</th>\n",
       "      <th>Sexo</th>\n",
       "      <th>Idades</th>\n",
       "      <th>Numero_de_suicidio</th>\n",
       "      <th>Populacao</th>\n",
       "      <th>número-de-suicídios-por-100-mil-habitantes</th>\n",
       "      <th>País-Ano</th>\n",
       "      <th>Índice-de-Desenvolvimento-Humano-(IDH)-para-o-ano</th>\n",
       "      <th>gdp_for_year ($)</th>\n",
       "      <th>gdp_per_capita ($)</th>\n",
       "      <th>Generation</th>\n",
       "    </tr>\n",
       "    <tr>\n",
       "      <th>País</th>\n",
       "      <th></th>\n",
       "      <th></th>\n",
       "      <th></th>\n",
       "      <th></th>\n",
       "      <th></th>\n",
       "      <th></th>\n",
       "      <th></th>\n",
       "      <th></th>\n",
       "      <th></th>\n",
       "      <th></th>\n",
       "      <th></th>\n",
       "    </tr>\n",
       "  </thead>\n",
       "  <tbody>\n",
       "    <tr>\n",
       "      <th>Brazil</th>\n",
       "      <td>2015</td>\n",
       "      <td>female</td>\n",
       "      <td>25-34 years</td>\n",
       "      <td>466</td>\n",
       "      <td>17546090</td>\n",
       "      <td>2.66</td>\n",
       "      <td>Brazil2015</td>\n",
       "      <td>NaN</td>\n",
       "      <td>1,802,214,373,741</td>\n",
       "      <td>9431</td>\n",
       "      <td>Millenials</td>\n",
       "    </tr>\n",
       "    <tr>\n",
       "      <th>Brazil</th>\n",
       "      <td>2015</td>\n",
       "      <td>female</td>\n",
       "      <td>75+ years</td>\n",
       "      <td>89</td>\n",
       "      <td>3802086</td>\n",
       "      <td>2.34</td>\n",
       "      <td>Brazil2015</td>\n",
       "      <td>NaN</td>\n",
       "      <td>1,802,214,373,741</td>\n",
       "      <td>9431</td>\n",
       "      <td>Silent</td>\n",
       "    </tr>\n",
       "    <tr>\n",
       "      <th>Brazil</th>\n",
       "      <td>2015</td>\n",
       "      <td>female</td>\n",
       "      <td>15-24 years</td>\n",
       "      <td>397</td>\n",
       "      <td>17047218</td>\n",
       "      <td>2.33</td>\n",
       "      <td>Brazil2015</td>\n",
       "      <td>NaN</td>\n",
       "      <td>1,802,214,373,741</td>\n",
       "      <td>9431</td>\n",
       "      <td>Millenials</td>\n",
       "    </tr>\n",
       "    <tr>\n",
       "      <th>Brazil</th>\n",
       "      <td>2015</td>\n",
       "      <td>male</td>\n",
       "      <td>5-14 years</td>\n",
       "      <td>79</td>\n",
       "      <td>16057040</td>\n",
       "      <td>0.49</td>\n",
       "      <td>Brazil2015</td>\n",
       "      <td>NaN</td>\n",
       "      <td>1,802,214,373,741</td>\n",
       "      <td>9431</td>\n",
       "      <td>Generation Z</td>\n",
       "    </tr>\n",
       "    <tr>\n",
       "      <th>Brazil</th>\n",
       "      <td>2015</td>\n",
       "      <td>female</td>\n",
       "      <td>5-14 years</td>\n",
       "      <td>56</td>\n",
       "      <td>15430579</td>\n",
       "      <td>0.36</td>\n",
       "      <td>Brazil2015</td>\n",
       "      <td>NaN</td>\n",
       "      <td>1,802,214,373,741</td>\n",
       "      <td>9431</td>\n",
       "      <td>Generation Z</td>\n",
       "    </tr>\n",
       "  </tbody>\n",
       "</table>\n",
       "</div>"
      ],
      "text/plain": [
       "         Ano    Sexo       Idades  Numero_de_suicidio  Populacao  \\\n",
       "País                                                               \n",
       "Brazil  2015  female  25-34 years                 466   17546090   \n",
       "Brazil  2015  female    75+ years                  89    3802086   \n",
       "Brazil  2015  female  15-24 years                 397   17047218   \n",
       "Brazil  2015    male   5-14 years                  79   16057040   \n",
       "Brazil  2015  female   5-14 years                  56   15430579   \n",
       "\n",
       "        número-de-suicídios-por-100-mil-habitantes    País-Ano  \\\n",
       "País                                                             \n",
       "Brazil                                        2.66  Brazil2015   \n",
       "Brazil                                        2.34  Brazil2015   \n",
       "Brazil                                        2.33  Brazil2015   \n",
       "Brazil                                        0.49  Brazil2015   \n",
       "Brazil                                        0.36  Brazil2015   \n",
       "\n",
       "        Índice-de-Desenvolvimento-Humano-(IDH)-para-o-ano  gdp_for_year ($)   \\\n",
       "País                                                                           \n",
       "Brazil                                                NaN  1,802,214,373,741   \n",
       "Brazil                                                NaN  1,802,214,373,741   \n",
       "Brazil                                                NaN  1,802,214,373,741   \n",
       "Brazil                                                NaN  1,802,214,373,741   \n",
       "Brazil                                                NaN  1,802,214,373,741   \n",
       "\n",
       "        gdp_per_capita ($)    Generation  \n",
       "País                                      \n",
       "Brazil                9431    Millenials  \n",
       "Brazil                9431        Silent  \n",
       "Brazil                9431    Millenials  \n",
       "Brazil                9431  Generation Z  \n",
       "Brazil                9431  Generation Z  "
      ]
     },
     "execution_count": 18,
     "metadata": {},
     "output_type": "execute_result"
    }
   ],
   "source": [
    "dados_Brasil.tail()"
   ]
  },
  {
   "cell_type": "markdown",
   "id": "76b6aaef",
   "metadata": {},
   "source": [
    "# Análise Exploratoria De Dados"
   ]
  },
  {
   "cell_type": "markdown",
   "id": "7c167e5e",
   "metadata": {},
   "source": [
    "Nesta étapa iremos análisar de cima a baixo o nosso dataset, preencher valores ausentes, transformar algumas coluna etc.."
   ]
  },
  {
   "cell_type": "markdown",
   "id": "37b1c213",
   "metadata": {},
   "source": [
    "## Preenchendo Valores NAN"
   ]
  },
  {
   "cell_type": "code",
   "execution_count": 19,
   "id": "0be68cd9",
   "metadata": {},
   "outputs": [],
   "source": [
    "dados.fillna(0,inplace=True)"
   ]
  },
  {
   "cell_type": "code",
   "execution_count": 20,
   "id": "91ecd1bb",
   "metadata": {},
   "outputs": [
    {
     "data": {
      "text/plain": [
       "Ano                                                  0.0\n",
       "Sexo                                                 0.0\n",
       "Idades                                               0.0\n",
       "Numero_de_suicidio                                   0.0\n",
       "Populacao                                            0.0\n",
       "número-de-suicídios-por-100-mil-habitantes           0.0\n",
       "País-Ano                                             0.0\n",
       "Índice-de-Desenvolvimento-Humano-(IDH)-para-o-ano    0.0\n",
       " gdp_for_year ($)                                    0.0\n",
       "gdp_per_capita ($)                                   0.0\n",
       "Generation                                           0.0\n",
       "dtype: float64"
      ]
     },
     "execution_count": 20,
     "metadata": {},
     "output_type": "execute_result"
    }
   ],
   "source": [
    "(dados.isnull().sum())/dados.shape[0]"
   ]
  },
  {
   "cell_type": "markdown",
   "id": "7430a8b3",
   "metadata": {},
   "source": [
    "## Vendo o Ano com Mais ocorrencia de suicidios"
   ]
  },
  {
   "cell_type": "code",
   "execution_count": 21,
   "id": "8671727e",
   "metadata": {},
   "outputs": [
    {
     "data": {
      "image/png": "[encoded data removed]",
      "text/plain": [
       "<Figure size 1152x576 with 1 Axes>"
      ]
     },
     "metadata": {
      "needs_background": "light"
     },
     "output_type": "display_data"
    }
   ],
   "source": [
    "fig,ax=plt.subplots(figsize=(16,8))\n",
    "dados_Brasil.plot(x=\"Ano\",y=\"Numero_de_suicidio\",kind=\"area\",ax=ax,stacked=True)\n",
    "ax.set_title(\"Ano com mais taxa de suicidios\")\n",
    "ax.set_ylabel(\"Numero de vezes por ano\")\n",
    "\n",
    "plt.tight_layout();"
   ]
  },
  {
   "cell_type": "markdown",
   "id": "52e85397",
   "metadata": {},
   "source": [
    "Mesmo visualmente é fácil identificar, podemos ver que o ano que teve maior taixa de suicidio de 1985 até 2015, foi o ano de 2015"
   ]
  },
  {
   "cell_type": "markdown",
   "id": "47396206",
   "metadata": {},
   "source": [
    "## Idade Que Mais Comete Suicidio"
   ]
  },
  {
   "cell_type": "code",
   "execution_count": 22,
   "id": "67a66b20",
   "metadata": {},
   "outputs": [
    {
     "data": {
      "text/html": [
       "<div>\n",
       "<style scoped>\n",
       "    .dataframe tbody tr th:only-of-type {\n",
       "        vertical-align: middle;\n",
       "    }\n",
       "\n",
       "    .dataframe tbody tr th {\n",
       "        vertical-align: top;\n",
       "    }\n",
       "\n",
       "    .dataframe thead th {\n",
       "        text-align: right;\n",
       "    }\n",
       "</style>\n",
       "<table border=\"1\" class=\"dataframe\">\n",
       "  <thead>\n",
       "    <tr style=\"text-align: right;\">\n",
       "      <th></th>\n",
       "      <th>Ano</th>\n",
       "      <th>Sexo</th>\n",
       "      <th>Idades</th>\n",
       "      <th>Numero_de_suicidio</th>\n",
       "      <th>Populacao</th>\n",
       "      <th>número-de-suicídios-por-100-mil-habitantes</th>\n",
       "      <th>País-Ano</th>\n",
       "      <th>Índice-de-Desenvolvimento-Humano-(IDH)-para-o-ano</th>\n",
       "      <th>gdp_for_year ($)</th>\n",
       "      <th>gdp_per_capita ($)</th>\n",
       "      <th>Generation</th>\n",
       "    </tr>\n",
       "    <tr>\n",
       "      <th>País</th>\n",
       "      <th></th>\n",
       "      <th></th>\n",
       "      <th></th>\n",
       "      <th></th>\n",
       "      <th></th>\n",
       "      <th></th>\n",
       "      <th></th>\n",
       "      <th></th>\n",
       "      <th></th>\n",
       "      <th></th>\n",
       "      <th></th>\n",
       "    </tr>\n",
       "  </thead>\n",
       "  <tbody>\n",
       "    <tr>\n",
       "      <th>Brazil</th>\n",
       "      <td>1985</td>\n",
       "      <td>male</td>\n",
       "      <td>75+ years</td>\n",
       "      <td>129</td>\n",
       "      <td>840300</td>\n",
       "      <td>15.35</td>\n",
       "      <td>Brazil1985</td>\n",
       "      <td>0.576</td>\n",
       "      <td>222,942,790,435</td>\n",
       "      <td>1898</td>\n",
       "      <td>G.I. Generation</td>\n",
       "    </tr>\n",
       "    <tr>\n",
       "      <th>Brazil</th>\n",
       "      <td>1985</td>\n",
       "      <td>male</td>\n",
       "      <td>55-74 years</td>\n",
       "      <td>535</td>\n",
       "      <td>5364900</td>\n",
       "      <td>9.97</td>\n",
       "      <td>Brazil1985</td>\n",
       "      <td>0.576</td>\n",
       "      <td>222,942,790,435</td>\n",
       "      <td>1898</td>\n",
       "      <td>G.I. Generation</td>\n",
       "    </tr>\n",
       "    <tr>\n",
       "      <th>Brazil</th>\n",
       "      <td>1985</td>\n",
       "      <td>male</td>\n",
       "      <td>35-54 years</td>\n",
       "      <td>1011</td>\n",
       "      <td>11986300</td>\n",
       "      <td>8.43</td>\n",
       "      <td>Brazil1985</td>\n",
       "      <td>0.576</td>\n",
       "      <td>222,942,790,435</td>\n",
       "      <td>1898</td>\n",
       "      <td>Silent</td>\n",
       "    </tr>\n",
       "    <tr>\n",
       "      <th>Brazil</th>\n",
       "      <td>1985</td>\n",
       "      <td>male</td>\n",
       "      <td>25-34 years</td>\n",
       "      <td>791</td>\n",
       "      <td>10762900</td>\n",
       "      <td>7.35</td>\n",
       "      <td>Brazil1985</td>\n",
       "      <td>0.576</td>\n",
       "      <td>222,942,790,435</td>\n",
       "      <td>1898</td>\n",
       "      <td>Boomers</td>\n",
       "    </tr>\n",
       "    <tr>\n",
       "      <th>Brazil</th>\n",
       "      <td>1985</td>\n",
       "      <td>male</td>\n",
       "      <td>15-24 years</td>\n",
       "      <td>661</td>\n",
       "      <td>13834000</td>\n",
       "      <td>4.78</td>\n",
       "      <td>Brazil1985</td>\n",
       "      <td>0.576</td>\n",
       "      <td>222,942,790,435</td>\n",
       "      <td>1898</td>\n",
       "      <td>Generation X</td>\n",
       "    </tr>\n",
       "  </tbody>\n",
       "</table>\n",
       "</div>"
      ],
      "text/plain": [
       "         Ano  Sexo       Idades  Numero_de_suicidio  Populacao  \\\n",
       "País                                                             \n",
       "Brazil  1985  male    75+ years                 129     840300   \n",
       "Brazil  1985  male  55-74 years                 535    5364900   \n",
       "Brazil  1985  male  35-54 years                1011   11986300   \n",
       "Brazil  1985  male  25-34 years                 791   10762900   \n",
       "Brazil  1985  male  15-24 years                 661   13834000   \n",
       "\n",
       "        número-de-suicídios-por-100-mil-habitantes    País-Ano  \\\n",
       "País                                                             \n",
       "Brazil                                       15.35  Brazil1985   \n",
       "Brazil                                        9.97  Brazil1985   \n",
       "Brazil                                        8.43  Brazil1985   \n",
       "Brazil                                        7.35  Brazil1985   \n",
       "Brazil                                        4.78  Brazil1985   \n",
       "\n",
       "        Índice-de-Desenvolvimento-Humano-(IDH)-para-o-ano  gdp_for_year ($)   \\\n",
       "País                                                                           \n",
       "Brazil                                              0.576    222,942,790,435   \n",
       "Brazil                                              0.576    222,942,790,435   \n",
       "Brazil                                              0.576    222,942,790,435   \n",
       "Brazil                                              0.576    222,942,790,435   \n",
       "Brazil                                              0.576    222,942,790,435   \n",
       "\n",
       "        gdp_per_capita ($)       Generation  \n",
       "País                                         \n",
       "Brazil                1898  G.I. Generation  \n",
       "Brazil                1898  G.I. Generation  \n",
       "Brazil                1898           Silent  \n",
       "Brazil                1898          Boomers  \n",
       "Brazil                1898     Generation X  "
      ]
     },
     "execution_count": 22,
     "metadata": {},
     "output_type": "execute_result"
    }
   ],
   "source": [
    "dados_Brasil.head()"
   ]
  },
  {
   "cell_type": "code",
   "execution_count": 23,
   "id": "f693c2eb",
   "metadata": {},
   "outputs": [],
   "source": [
    "idade_mais_suicidio=pd.pivot_table(dados_Brasil,index=\"Ano\",columns=\"Idades\",values=\"Numero_de_suicidio\")"
   ]
  },
  {
   "cell_type": "code",
   "execution_count": 24,
   "id": "41bb3719",
   "metadata": {},
   "outputs": [
    {
     "data": {
      "text/html": [
       "<div>\n",
       "<style scoped>\n",
       "    .dataframe tbody tr th:only-of-type {\n",
       "        vertical-align: middle;\n",
       "    }\n",
       "\n",
       "    .dataframe tbody tr th {\n",
       "        vertical-align: top;\n",
       "    }\n",
       "\n",
       "    .dataframe thead th {\n",
       "        text-align: right;\n",
       "    }\n",
       "</style>\n",
       "<table border=\"1\" class=\"dataframe\">\n",
       "  <thead>\n",
       "    <tr style=\"text-align: right;\">\n",
       "      <th>Idades</th>\n",
       "      <th>15-24 years</th>\n",
       "      <th>25-34 years</th>\n",
       "      <th>35-54 years</th>\n",
       "      <th>5-14 years</th>\n",
       "      <th>55-74 years</th>\n",
       "      <th>75+ years</th>\n",
       "    </tr>\n",
       "    <tr>\n",
       "      <th>Ano</th>\n",
       "      <th></th>\n",
       "      <th></th>\n",
       "      <th></th>\n",
       "      <th></th>\n",
       "      <th></th>\n",
       "      <th></th>\n",
       "    </tr>\n",
       "  </thead>\n",
       "  <tbody>\n",
       "    <tr>\n",
       "      <th>1985</th>\n",
       "      <td>470.5</td>\n",
       "      <td>530.0</td>\n",
       "      <td>653.5</td>\n",
       "      <td>38.0</td>\n",
       "      <td>341.5</td>\n",
       "      <td>80.5</td>\n",
       "    </tr>\n",
       "    <tr>\n",
       "      <th>1986</th>\n",
       "      <td>508.0</td>\n",
       "      <td>505.5</td>\n",
       "      <td>651.0</td>\n",
       "      <td>31.0</td>\n",
       "      <td>372.0</td>\n",
       "      <td>68.0</td>\n",
       "    </tr>\n",
       "    <tr>\n",
       "      <th>1987</th>\n",
       "      <td>502.0</td>\n",
       "      <td>565.5</td>\n",
       "      <td>724.5</td>\n",
       "      <td>33.5</td>\n",
       "      <td>422.0</td>\n",
       "      <td>88.5</td>\n",
       "    </tr>\n",
       "    <tr>\n",
       "      <th>1988</th>\n",
       "      <td>472.0</td>\n",
       "      <td>557.5</td>\n",
       "      <td>724.0</td>\n",
       "      <td>30.0</td>\n",
       "      <td>356.0</td>\n",
       "      <td>93.5</td>\n",
       "    </tr>\n",
       "    <tr>\n",
       "      <th>1989</th>\n",
       "      <td>491.5</td>\n",
       "      <td>569.0</td>\n",
       "      <td>692.5</td>\n",
       "      <td>31.5</td>\n",
       "      <td>354.5</td>\n",
       "      <td>92.5</td>\n",
       "    </tr>\n",
       "  </tbody>\n",
       "</table>\n",
       "</div>"
      ],
      "text/plain": [
       "Idades  15-24 years  25-34 years  35-54 years  5-14 years  55-74 years  \\\n",
       "Ano                                                                      \n",
       "1985          470.5        530.0        653.5        38.0        341.5   \n",
       "1986          508.0        505.5        651.0        31.0        372.0   \n",
       "1987          502.0        565.5        724.5        33.5        422.0   \n",
       "1988          472.0        557.5        724.0        30.0        356.0   \n",
       "1989          491.5        569.0        692.5        31.5        354.5   \n",
       "\n",
       "Idades  75+ years  \n",
       "Ano                \n",
       "1985         80.5  \n",
       "1986         68.0  \n",
       "1987         88.5  \n",
       "1988         93.5  \n",
       "1989         92.5  "
      ]
     },
     "execution_count": 24,
     "metadata": {},
     "output_type": "execute_result"
    }
   ],
   "source": [
    "idade_mais_suicidio.head()"
   ]
  },
  {
   "cell_type": "code",
   "execution_count": 25,
   "id": "56813ad1",
   "metadata": {},
   "outputs": [],
   "source": [
    "ordenando_colunas=[\"5-14 years\",\"15-24 years\",\"25-34 years\",\"35-54 years\",\"55-74 years\",\"75+ years\"]"
   ]
  },
  {
   "cell_type": "code",
   "execution_count": 26,
   "id": "a57e994a",
   "metadata": {},
   "outputs": [],
   "source": [
    "dados_novos_idades_mais_suicidios=idade_mais_suicidio.reindex(ordenando_colunas,axis=1)"
   ]
  },
  {
   "cell_type": "code",
   "execution_count": 27,
   "id": "e515d0ec",
   "metadata": {},
   "outputs": [
    {
     "data": {
      "image/png": "[encoded data removed]",
      "text/plain": [
       "<Figure size 432x288 with 1 Axes>"
      ]
     },
     "metadata": {
      "needs_background": "light"
     },
     "output_type": "display_data"
    }
   ],
   "source": [
    "fig,ax=plt.subplots()\n",
    "\n",
    "dados_novos_idades_mais_suicidios.plot(kind=\"line\",ax=ax)\n",
    "ax.set_title(\"Idade que mais comete suicidio\")\n",
    "ax.set_ylabel(\"Quantidade po Ano\")\n",
    "plt.tight_layout();"
   ]
  },
  {
   "cell_type": "code",
   "execution_count": 28,
   "id": "518f81ee",
   "metadata": {},
   "outputs": [
    {
     "data": {
      "image/png": "[encoded data removed]",
      "text/plain": [
       "<Figure size 1152x576 with 1 Axes>"
      ]
     },
     "metadata": {
      "needs_background": "light"
     },
     "output_type": "display_data"
    }
   ],
   "source": [
    "fig,ax=plt.subplots(figsize=(16,8))\n",
    "ax.set_ylabel(\"Quantidade por Ano\")\n",
    "\n",
    "dados_novos_idades_mais_suicidios.plot(kind=\"bar\",ax=ax,stacked=True)\n",
    "plt.tight_layout();"
   ]
  },
  {
   "cell_type": "markdown",
   "id": "170ab007",
   "metadata": {},
   "source": [
    "Então análisando os dois graficos podemos ver que as idades que vão dos 35 aos 54 são os mais afetados, o motivo pode ser diversos.\n",
    "\n"
   ]
  },
  {
   "cell_type": "markdown",
   "id": "897ca907",
   "metadata": {},
   "source": [
    "## Sexo que mais comete suicidios"
   ]
  },
  {
   "cell_type": "code",
   "execution_count": 29,
   "id": "4ea6108d",
   "metadata": {},
   "outputs": [],
   "source": [
    "Troca_sexo=dados_Brasil[\"Sexo\"]"
   ]
  },
  {
   "cell_type": "code",
   "execution_count": 30,
   "id": "8c2e809f",
   "metadata": {},
   "outputs": [
    {
     "data": {
      "text/plain": [
       "array(['male', 'female'], dtype=object)"
      ]
     },
     "execution_count": 30,
     "metadata": {},
     "output_type": "execute_result"
    }
   ],
   "source": [
    "Troca_sexo.unique()"
   ]
  },
  {
   "cell_type": "code",
   "execution_count": 38,
   "id": "07674cd9",
   "metadata": {},
   "outputs": [],
   "source": [
    "Troca_sexo.replace([\"male\",\"female\"],[\"Masculino\",\"Femenino\"],inplace=True)"
   ]
  },
  {
   "cell_type": "code",
   "execution_count": 39,
   "id": "514c730e",
   "metadata": {},
   "outputs": [
    {
     "data": {
      "text/plain": [
       "País\n",
       "Brazil    Masculino\n",
       "Brazil    Masculino\n",
       "Brazil    Masculino\n",
       "Brazil    Masculino\n",
       "Brazil    Masculino\n",
       "            ...    \n",
       "Brazil     Femenino\n",
       "Brazil     Femenino\n",
       "Brazil     Femenino\n",
       "Brazil    Masculino\n",
       "Brazil     Femenino\n",
       "Name: Sexo, Length: 372, dtype: object"
      ]
     },
     "execution_count": 39,
     "metadata": {},
     "output_type": "execute_result"
    }
   ],
   "source": [
    "Troca_sexo"
   ]
  },
  {
   "cell_type": "code",
   "execution_count": 41,
   "id": "50f5bdf1",
   "metadata": {},
   "outputs": [
    {
     "data": {
      "text/plain": [
       "País\n",
       "Brazil    Masculino\n",
       "Brazil    Masculino\n",
       "Brazil    Masculino\n",
       "Brazil    Masculino\n",
       "Brazil    Masculino\n",
       "            ...    \n",
       "Brazil     Femenino\n",
       "Brazil     Femenino\n",
       "Brazil     Femenino\n",
       "Brazil    Masculino\n",
       "Brazil     Femenino\n",
       "Name: Sexo, Length: 372, dtype: category\n",
       "Categories (2, object): ['Femenino', 'Masculino']"
      ]
     },
     "execution_count": 41,
     "metadata": {},
     "output_type": "execute_result"
    }
   ],
   "source": [
    "Troca_sexo.astype(\"category\")"
   ]
  },
  {
   "cell_type": "code",
   "execution_count": 42,
   "id": "e1d7ecff",
   "metadata": {},
   "outputs": [],
   "source": [
    "homens_mulheres=dados_Brasil.groupby(\"Sexo\").Numero_de_suicidio.sum()"
   ]
  },
  {
   "cell_type": "code",
   "execution_count": 43,
   "id": "23cfd833",
   "metadata": {},
   "outputs": [
    {
     "data": {
      "text/plain": [
       "Sexo\n",
       "Femenino      49015\n",
       "Masculino    177598\n",
       "Name: Numero_de_suicidio, dtype: int64"
      ]
     },
     "execution_count": 43,
     "metadata": {},
     "output_type": "execute_result"
    }
   ],
   "source": [
    "homens_mulheres"
   ]
  },
  {
   "cell_type": "code",
   "execution_count": 44,
   "id": "5228982e",
   "metadata": {},
   "outputs": [],
   "source": [
    "explode=(0.2,0)"
   ]
  },
  {
   "cell_type": "code",
   "execution_count": 45,
   "id": "ab3b7284",
   "metadata": {},
   "outputs": [
    {
     "data": {
      "image/png": "[encoded data removed]",
      "text/plain": [
       "<Figure size 432x432 with 1 Axes>"
      ]
     },
     "metadata": {},
     "output_type": "display_data"
    }
   ],
   "source": [
    "fig,ax=plt.subplots(figsize=(6,6))\n",
    "\n",
    "ax.pie(homens_mulheres,labels=[\"Mulheres\",\"Homens\"],explode=explode,shadow=True,autopct=\"%1.1f%%\")\n",
    "ax.set_title(\"Sexo que mais comete suicidios\")\n",
    "\n",
    "plt.tight_layout();"
   ]
  },
  {
   "cell_type": "markdown",
   "id": "672df369",
   "metadata": {},
   "source": [
    "# Conclusão"
   ]
  },
  {
   "cell_type": "markdown",
   "id": "11dfa4b8",
   "metadata": {},
   "source": [
    "O que eu quis trazer neste artigo foi um projeto de análise de dados visando conscientizar a comunidade Python e Data Science sobre a real importância de um problema tão latente nos dias atuais - porém negligenciado ou ignorado por boa parte das pessoas.\n",
    "\n",
    "O conjunto de dados usado aqui é simplificado, porém ideal para uma abordagem inicial, para se criar uma consciência situacional a respeito do tema.\n",
    "\n",
    "Há diversas iniciativas dentro do campo da Inteligência Artificial visando não apenas a conscientização, mas também prevenção de suicídios. Uma das mais populares diz respeito à análise de postagens em redes sociais, onde algoritmos de Machine Learning são capazes de identificar potenciais suicidas e alertar outras pessoas.\n",
    "\n",
    "A campanha é em setembro, mas falar sobre prevenção do suicídio em todos os meses do ano é fundamental -Setembro Amarelo\n",
    "\n",
    "Ainda são iniciativas muito incipientes, que esbarram em muitas questões de privacidade, porém empresas como o Facebook já tem apostado nesse caminho.\n",
    "\n",
    "Espero que este artigo tenha trazido um pouco de conhecimento e alertado você sobre um problema tão sério. Sinta-se a vontade para expandir meu notebook e compartilhar o resultado com mais pessoas.\n",
    "\n"
   ]
  },
  {
   "cell_type": "code",
   "execution_count": null,
   "id": "22996a86",
   "metadata": {},
   "outputs": [],
   "source": []
  }
 ],
 "metadata": {
  "kernelspec": {
   "display_name": "Python 3 (ipykernel)",
   "language": "python",
   "name": "python3"
  },
  "language_info": {
   "codemirror_mode": {
    "name": "ipython",
    "version": 3
   },
   "file_extension": ".py",
   "mimetype": "text/x-python",
   "name": "python",
   "nbconvert_exporter": "python",
   "pygments_lexer": "ipython3",
   "version": "3.8.10"
  }
 },
 "nbformat": 4,
 "nbformat_minor": 5
}
