{
 "cells": [
  {
   "cell_type": "markdown",
   "id": "2758ce07",
   "metadata": {},
   "source": [
    "# Ciencia De Dados - Detectando Fraudes Em Transferências Bancárias"
   ]
  },
  {
   "cell_type": "markdown",
   "id": "3deda12b",
   "metadata": {},
   "source": [
    "## Qual o Problema de Negócio\n",
    "\n",
    "Esse conjunto de dados fictício possui transações de transferências entre contas de uma mesma Instituição Financeira. São mais de 200 mil registros de transferências, sendo 490 Fraudulentas, ou seja, não foram realizadas pelo dono da conta corrente. Temos 28 variáveis explicativas e a variável Classe é o Target e assume o valor 1 em caso de fraude e 0 em caso contrário."
   ]
  },
  {
   "cell_type": "code",
   "execution_count": 73,
   "id": "debcfc39",
   "metadata": {},
   "outputs": [],
   "source": [
    "#Bibliotecas padrão\n",
    "import pandas as pd\n",
    "import seaborn as sns\n",
    "import matplotlib.pyplot as plt\n",
    "import warnings\n",
    "import numpy as np\n",
    "\n",
    "warnings.filterwarnings(action=\"ignore\")\n",
    "\n",
    "#Bibliotecas para pré-processamento de dados\n",
    "#from imblearn.over_sampling import SMOTE\n",
    "#from sklearn.model_selection import train_test_split"
   ]
  },
  {
   "cell_type": "code",
   "execution_count": 74,
   "id": "3a4b8e56",
   "metadata": {},
   "outputs": [],
   "source": [
    "df=pd.read_csv(\"transferencias.csv\")"
   ]
  },
  {
   "cell_type": "markdown",
   "id": "a81c1245",
   "metadata": {},
   "source": [
    "**Vendo a quantidade de linhas e colunas**"
   ]
  },
  {
   "cell_type": "code",
   "execution_count": 75,
   "id": "eb77db45",
   "metadata": {},
   "outputs": [
    {
     "name": "stdout",
     "output_type": "stream",
     "text": [
      "\n",
      "DIMENÇÕES DO DATAFRAME\n",
      "\n",
      "LINHAS:  284807\n",
      "COLUNAS:  31\n"
     ]
    }
   ],
   "source": [
    "print(\"\\nDIMENÇÕES DO DATAFRAME\")\n",
    "print(\"\\nLINHAS: \",df.shape[0])\n",
    "print(\"COLUNAS: \",df.shape[1])"
   ]
  },
  {
   "cell_type": "markdown",
   "id": "dca6ffab",
   "metadata": {},
   "source": [
    "**Vendo as 5 primeiras Linhas**"
   ]
  },
  {
   "cell_type": "code",
   "execution_count": 76,
   "id": "f22d524a",
   "metadata": {},
   "outputs": [
    {
     "data": {
      "text/html": [
       "<div>\n",
       "<style scoped>\n",
       "    .dataframe tbody tr th:only-of-type {\n",
       "        vertical-align: middle;\n",
       "    }\n",
       "\n",
       "    .dataframe tbody tr th {\n",
       "        vertical-align: top;\n",
       "    }\n",
       "\n",
       "    .dataframe thead th {\n",
       "        text-align: right;\n",
       "    }\n",
       "</style>\n",
       "<table border=\"1\" class=\"dataframe\">\n",
       "  <thead>\n",
       "    <tr style=\"text-align: right;\">\n",
       "      <th></th>\n",
       "      <th>Timestamp</th>\n",
       "      <th>pais</th>\n",
       "      <th>cidade</th>\n",
       "      <th>bairro</th>\n",
       "      <th>cep</th>\n",
       "      <th>ip</th>\n",
       "      <th>dia</th>\n",
       "      <th>hora</th>\n",
       "      <th>minuto</th>\n",
       "      <th>so</th>\n",
       "      <th>...</th>\n",
       "      <th>android</th>\n",
       "      <th>ios</th>\n",
       "      <th>compras</th>\n",
       "      <th>hist_navegacao</th>\n",
       "      <th>relacionamento</th>\n",
       "      <th>ind_seguranca</th>\n",
       "      <th>tempo_transacao</th>\n",
       "      <th>lim_crt</th>\n",
       "      <th>hist_saldo</th>\n",
       "      <th>Target</th>\n",
       "    </tr>\n",
       "  </thead>\n",
       "  <tbody>\n",
       "    <tr>\n",
       "      <th>0</th>\n",
       "      <td>0.0</td>\n",
       "      <td>-1.359807</td>\n",
       "      <td>-0.072781</td>\n",
       "      <td>2.536347</td>\n",
       "      <td>1.378155</td>\n",
       "      <td>-0.338321</td>\n",
       "      <td>0.462388</td>\n",
       "      <td>0.239599</td>\n",
       "      <td>0.098698</td>\n",
       "      <td>0.363787</td>\n",
       "      <td>...</td>\n",
       "      <td>-0.018307</td>\n",
       "      <td>0.277838</td>\n",
       "      <td>-0.110474</td>\n",
       "      <td>0.066928</td>\n",
       "      <td>0.128539</td>\n",
       "      <td>-0.189115</td>\n",
       "      <td>0.133558</td>\n",
       "      <td>-0.021053</td>\n",
       "      <td>149.62</td>\n",
       "      <td>0</td>\n",
       "    </tr>\n",
       "    <tr>\n",
       "      <th>1</th>\n",
       "      <td>0.0</td>\n",
       "      <td>1.191857</td>\n",
       "      <td>0.266151</td>\n",
       "      <td>0.166480</td>\n",
       "      <td>0.448154</td>\n",
       "      <td>0.060018</td>\n",
       "      <td>-0.082361</td>\n",
       "      <td>-0.078803</td>\n",
       "      <td>0.085102</td>\n",
       "      <td>-0.255425</td>\n",
       "      <td>...</td>\n",
       "      <td>-0.225775</td>\n",
       "      <td>-0.638672</td>\n",
       "      <td>0.101288</td>\n",
       "      <td>-0.339846</td>\n",
       "      <td>0.167170</td>\n",
       "      <td>0.125895</td>\n",
       "      <td>-0.008983</td>\n",
       "      <td>0.014724</td>\n",
       "      <td>2.69</td>\n",
       "      <td>0</td>\n",
       "    </tr>\n",
       "    <tr>\n",
       "      <th>2</th>\n",
       "      <td>1.0</td>\n",
       "      <td>-1.358354</td>\n",
       "      <td>-1.340163</td>\n",
       "      <td>1.773209</td>\n",
       "      <td>0.379780</td>\n",
       "      <td>-0.503198</td>\n",
       "      <td>1.800499</td>\n",
       "      <td>0.791461</td>\n",
       "      <td>0.247676</td>\n",
       "      <td>-1.514654</td>\n",
       "      <td>...</td>\n",
       "      <td>0.247998</td>\n",
       "      <td>0.771679</td>\n",
       "      <td>0.909412</td>\n",
       "      <td>-0.689281</td>\n",
       "      <td>-0.327642</td>\n",
       "      <td>-0.139097</td>\n",
       "      <td>-0.055353</td>\n",
       "      <td>-0.059752</td>\n",
       "      <td>378.66</td>\n",
       "      <td>0</td>\n",
       "    </tr>\n",
       "    <tr>\n",
       "      <th>3</th>\n",
       "      <td>1.0</td>\n",
       "      <td>-0.966272</td>\n",
       "      <td>-0.185226</td>\n",
       "      <td>1.792993</td>\n",
       "      <td>-0.863291</td>\n",
       "      <td>-0.010309</td>\n",
       "      <td>1.247203</td>\n",
       "      <td>0.237609</td>\n",
       "      <td>0.377436</td>\n",
       "      <td>-1.387024</td>\n",
       "      <td>...</td>\n",
       "      <td>-0.108300</td>\n",
       "      <td>0.005274</td>\n",
       "      <td>-0.190321</td>\n",
       "      <td>-1.175575</td>\n",
       "      <td>0.647376</td>\n",
       "      <td>-0.221929</td>\n",
       "      <td>0.062723</td>\n",
       "      <td>0.061458</td>\n",
       "      <td>123.50</td>\n",
       "      <td>0</td>\n",
       "    </tr>\n",
       "    <tr>\n",
       "      <th>4</th>\n",
       "      <td>2.0</td>\n",
       "      <td>-1.158233</td>\n",
       "      <td>0.877737</td>\n",
       "      <td>1.548718</td>\n",
       "      <td>0.403034</td>\n",
       "      <td>-0.407193</td>\n",
       "      <td>0.095921</td>\n",
       "      <td>0.592941</td>\n",
       "      <td>-0.270533</td>\n",
       "      <td>0.817739</td>\n",
       "      <td>...</td>\n",
       "      <td>-0.009431</td>\n",
       "      <td>0.798278</td>\n",
       "      <td>-0.137458</td>\n",
       "      <td>0.141267</td>\n",
       "      <td>-0.206010</td>\n",
       "      <td>0.502292</td>\n",
       "      <td>0.219422</td>\n",
       "      <td>0.215153</td>\n",
       "      <td>69.99</td>\n",
       "      <td>0</td>\n",
       "    </tr>\n",
       "  </tbody>\n",
       "</table>\n",
       "<p>5 rows × 31 columns</p>\n",
       "</div>"
      ],
      "text/plain": [
       "   Timestamp      pais    cidade    bairro       cep        ip       dia  \\\n",
       "0        0.0 -1.359807 -0.072781  2.536347  1.378155 -0.338321  0.462388   \n",
       "1        0.0  1.191857  0.266151  0.166480  0.448154  0.060018 -0.082361   \n",
       "2        1.0 -1.358354 -1.340163  1.773209  0.379780 -0.503198  1.800499   \n",
       "3        1.0 -0.966272 -0.185226  1.792993 -0.863291 -0.010309  1.247203   \n",
       "4        2.0 -1.158233  0.877737  1.548718  0.403034 -0.407193  0.095921   \n",
       "\n",
       "       hora    minuto        so  ...   android       ios   compras  \\\n",
       "0  0.239599  0.098698  0.363787  ... -0.018307  0.277838 -0.110474   \n",
       "1 -0.078803  0.085102 -0.255425  ... -0.225775 -0.638672  0.101288   \n",
       "2  0.791461  0.247676 -1.514654  ...  0.247998  0.771679  0.909412   \n",
       "3  0.237609  0.377436 -1.387024  ... -0.108300  0.005274 -0.190321   \n",
       "4  0.592941 -0.270533  0.817739  ... -0.009431  0.798278 -0.137458   \n",
       "\n",
       "   hist_navegacao  relacionamento  ind_seguranca  tempo_transacao   lim_crt  \\\n",
       "0        0.066928        0.128539      -0.189115         0.133558 -0.021053   \n",
       "1       -0.339846        0.167170       0.125895        -0.008983  0.014724   \n",
       "2       -0.689281       -0.327642      -0.139097        -0.055353 -0.059752   \n",
       "3       -1.175575        0.647376      -0.221929         0.062723  0.061458   \n",
       "4        0.141267       -0.206010       0.502292         0.219422  0.215153   \n",
       "\n",
       "   hist_saldo  Target  \n",
       "0      149.62       0  \n",
       "1        2.69       0  \n",
       "2      378.66       0  \n",
       "3      123.50       0  \n",
       "4       69.99       0  \n",
       "\n",
       "[5 rows x 31 columns]"
      ]
     },
     "execution_count": 76,
     "metadata": {},
     "output_type": "execute_result"
    }
   ],
   "source": [
    "df.head()"
   ]
  },
  {
   "cell_type": "markdown",
   "id": "a28f49a5",
   "metadata": {},
   "source": [
    "**Vendo algumas informações do nosso DataFrame**\n",
    "\n",
    "Só de olhar essas informações podemos ver que esse Dataset foi muito bem trabalhado e que não temos valores NAN ou valore infinitos"
   ]
  },
  {
   "cell_type": "code",
   "execution_count": 77,
   "id": "e73d0485",
   "metadata": {},
   "outputs": [
    {
     "data": {
      "text/plain": [
       "Timestamp          float64\n",
       "pais               float64\n",
       "cidade             float64\n",
       "bairro             float64\n",
       "cep                float64\n",
       "ip                 float64\n",
       "dia                float64\n",
       "hora               float64\n",
       "minuto             float64\n",
       "so                 float64\n",
       "valor              float64\n",
       "antecedentes       float64\n",
       "reclamacoes        float64\n",
       "qtd_trans          float64\n",
       "crt                float64\n",
       "limite_global      float64\n",
       "tipo_crt           float64\n",
       "estabelecimento    float64\n",
       "contas             float64\n",
       "emprestimos        float64\n",
       "navegador          float64\n",
       "android            float64\n",
       "ios                float64\n",
       "compras            float64\n",
       "hist_navegacao     float64\n",
       "relacionamento     float64\n",
       "ind_seguranca      float64\n",
       "tempo_transacao    float64\n",
       "lim_crt            float64\n",
       "hist_saldo         float64\n",
       "Target               int64\n",
       "dtype: object"
      ]
     },
     "execution_count": 77,
     "metadata": {},
     "output_type": "execute_result"
    }
   ],
   "source": [
    "#Vendo o tipo de cada variavel\n",
    "\n",
    "df.dtypes"
   ]
  },
  {
   "cell_type": "code",
   "execution_count": 78,
   "id": "f5ad12db",
   "metadata": {},
   "outputs": [
    {
     "data": {
      "text/plain": [
       "Timestamp          284807\n",
       "pais               284807\n",
       "cidade             284807\n",
       "bairro             284807\n",
       "cep                284807\n",
       "ip                 284807\n",
       "dia                284807\n",
       "hora               284807\n",
       "minuto             284807\n",
       "so                 284807\n",
       "valor              284807\n",
       "antecedentes       284807\n",
       "reclamacoes        284807\n",
       "qtd_trans          284807\n",
       "crt                284807\n",
       "limite_global      284807\n",
       "tipo_crt           284807\n",
       "estabelecimento    284807\n",
       "contas             284807\n",
       "emprestimos        284807\n",
       "navegador          284807\n",
       "android            284807\n",
       "ios                284807\n",
       "compras            284807\n",
       "hist_navegacao     284807\n",
       "relacionamento     284807\n",
       "ind_seguranca      284807\n",
       "tempo_transacao    284807\n",
       "lim_crt            284807\n",
       "hist_saldo         284807\n",
       "Target             284807\n",
       "dtype: int64"
      ]
     },
     "execution_count": 78,
     "metadata": {},
     "output_type": "execute_result"
    }
   ],
   "source": [
    "#Contando a quandtidade de valores em cada coluna\n",
    "df.count()"
   ]
  },
  {
   "cell_type": "code",
   "execution_count": 79,
   "id": "c3fb4c1f",
   "metadata": {},
   "outputs": [
    {
     "name": "stdout",
     "output_type": "stream",
     "text": [
      "<class 'pandas.core.frame.DataFrame'>\n",
      "RangeIndex: 284807 entries, 0 to 284806\n",
      "Data columns (total 31 columns):\n",
      " #   Column           Non-Null Count   Dtype  \n",
      "---  ------           --------------   -----  \n",
      " 0   Timestamp        284807 non-null  float64\n",
      " 1   pais             284807 non-null  float64\n",
      " 2   cidade           284807 non-null  float64\n",
      " 3   bairro           284807 non-null  float64\n",
      " 4   cep              284807 non-null  float64\n",
      " 5   ip               284807 non-null  float64\n",
      " 6   dia              284807 non-null  float64\n",
      " 7   hora             284807 non-null  float64\n",
      " 8   minuto           284807 non-null  float64\n",
      " 9   so               284807 non-null  float64\n",
      " 10  valor            284807 non-null  float64\n",
      " 11  antecedentes     284807 non-null  float64\n",
      " 12  reclamacoes      284807 non-null  float64\n",
      " 13  qtd_trans        284807 non-null  float64\n",
      " 14  crt              284807 non-null  float64\n",
      " 15  limite_global    284807 non-null  float64\n",
      " 16  tipo_crt         284807 non-null  float64\n",
      " 17  estabelecimento  284807 non-null  float64\n",
      " 18  contas           284807 non-null  float64\n",
      " 19  emprestimos      284807 non-null  float64\n",
      " 20  navegador        284807 non-null  float64\n",
      " 21  android          284807 non-null  float64\n",
      " 22  ios              284807 non-null  float64\n",
      " 23  compras          284807 non-null  float64\n",
      " 24  hist_navegacao   284807 non-null  float64\n",
      " 25  relacionamento   284807 non-null  float64\n",
      " 26  ind_seguranca    284807 non-null  float64\n",
      " 27  tempo_transacao  284807 non-null  float64\n",
      " 28  lim_crt          284807 non-null  float64\n",
      " 29  hist_saldo       284807 non-null  float64\n",
      " 30  Target           284807 non-null  int64  \n",
      "dtypes: float64(30), int64(1)\n",
      "memory usage: 67.4 MB\n"
     ]
    }
   ],
   "source": [
    "##Informações Básicas\n",
    "df.info()"
   ]
  },
  {
   "cell_type": "code",
   "execution_count": 80,
   "id": "589f3e41",
   "metadata": {},
   "outputs": [
    {
     "data": {
      "text/html": [
       "<div>\n",
       "<style scoped>\n",
       "    .dataframe tbody tr th:only-of-type {\n",
       "        vertical-align: middle;\n",
       "    }\n",
       "\n",
       "    .dataframe tbody tr th {\n",
       "        vertical-align: top;\n",
       "    }\n",
       "\n",
       "    .dataframe thead th {\n",
       "        text-align: right;\n",
       "    }\n",
       "</style>\n",
       "<table border=\"1\" class=\"dataframe\">\n",
       "  <thead>\n",
       "    <tr style=\"text-align: right;\">\n",
       "      <th></th>\n",
       "      <th>Timestamp</th>\n",
       "      <th>pais</th>\n",
       "      <th>cidade</th>\n",
       "      <th>bairro</th>\n",
       "      <th>cep</th>\n",
       "      <th>ip</th>\n",
       "      <th>dia</th>\n",
       "      <th>hora</th>\n",
       "      <th>minuto</th>\n",
       "      <th>so</th>\n",
       "      <th>...</th>\n",
       "      <th>android</th>\n",
       "      <th>ios</th>\n",
       "      <th>compras</th>\n",
       "      <th>hist_navegacao</th>\n",
       "      <th>relacionamento</th>\n",
       "      <th>ind_seguranca</th>\n",
       "      <th>tempo_transacao</th>\n",
       "      <th>lim_crt</th>\n",
       "      <th>hist_saldo</th>\n",
       "      <th>Target</th>\n",
       "    </tr>\n",
       "  </thead>\n",
       "  <tbody>\n",
       "    <tr>\n",
       "      <th>count</th>\n",
       "      <td>284807.000000</td>\n",
       "      <td>2.848070e+05</td>\n",
       "      <td>2.848070e+05</td>\n",
       "      <td>2.848070e+05</td>\n",
       "      <td>2.848070e+05</td>\n",
       "      <td>2.848070e+05</td>\n",
       "      <td>2.848070e+05</td>\n",
       "      <td>2.848070e+05</td>\n",
       "      <td>2.848070e+05</td>\n",
       "      <td>2.848070e+05</td>\n",
       "      <td>...</td>\n",
       "      <td>2.848070e+05</td>\n",
       "      <td>2.848070e+05</td>\n",
       "      <td>2.848070e+05</td>\n",
       "      <td>2.848070e+05</td>\n",
       "      <td>2.848070e+05</td>\n",
       "      <td>2.848070e+05</td>\n",
       "      <td>2.848070e+05</td>\n",
       "      <td>2.848070e+05</td>\n",
       "      <td>284807.000000</td>\n",
       "      <td>284807.000000</td>\n",
       "    </tr>\n",
       "    <tr>\n",
       "      <th>mean</th>\n",
       "      <td>94813.859575</td>\n",
       "      <td>1.168375e-15</td>\n",
       "      <td>3.416908e-16</td>\n",
       "      <td>-1.379537e-15</td>\n",
       "      <td>2.074095e-15</td>\n",
       "      <td>9.604066e-16</td>\n",
       "      <td>1.487313e-15</td>\n",
       "      <td>-5.556467e-16</td>\n",
       "      <td>1.213481e-16</td>\n",
       "      <td>-2.406331e-15</td>\n",
       "      <td>...</td>\n",
       "      <td>1.654067e-16</td>\n",
       "      <td>-3.568593e-16</td>\n",
       "      <td>2.578648e-16</td>\n",
       "      <td>4.473266e-15</td>\n",
       "      <td>5.340915e-16</td>\n",
       "      <td>1.683437e-15</td>\n",
       "      <td>-3.660091e-16</td>\n",
       "      <td>-1.227390e-16</td>\n",
       "      <td>88.349619</td>\n",
       "      <td>0.001727</td>\n",
       "    </tr>\n",
       "    <tr>\n",
       "      <th>std</th>\n",
       "      <td>47488.145955</td>\n",
       "      <td>1.958696e+00</td>\n",
       "      <td>1.651309e+00</td>\n",
       "      <td>1.516255e+00</td>\n",
       "      <td>1.415869e+00</td>\n",
       "      <td>1.380247e+00</td>\n",
       "      <td>1.332271e+00</td>\n",
       "      <td>1.237094e+00</td>\n",
       "      <td>1.194353e+00</td>\n",
       "      <td>1.098632e+00</td>\n",
       "      <td>...</td>\n",
       "      <td>7.345240e-01</td>\n",
       "      <td>7.257016e-01</td>\n",
       "      <td>6.244603e-01</td>\n",
       "      <td>6.056471e-01</td>\n",
       "      <td>5.212781e-01</td>\n",
       "      <td>4.822270e-01</td>\n",
       "      <td>4.036325e-01</td>\n",
       "      <td>3.300833e-01</td>\n",
       "      <td>250.120109</td>\n",
       "      <td>0.041527</td>\n",
       "    </tr>\n",
       "    <tr>\n",
       "      <th>min</th>\n",
       "      <td>0.000000</td>\n",
       "      <td>-5.640751e+01</td>\n",
       "      <td>-7.271573e+01</td>\n",
       "      <td>-4.832559e+01</td>\n",
       "      <td>-5.683171e+00</td>\n",
       "      <td>-1.137433e+02</td>\n",
       "      <td>-2.616051e+01</td>\n",
       "      <td>-4.355724e+01</td>\n",
       "      <td>-7.321672e+01</td>\n",
       "      <td>-1.343407e+01</td>\n",
       "      <td>...</td>\n",
       "      <td>-3.483038e+01</td>\n",
       "      <td>-1.093314e+01</td>\n",
       "      <td>-4.480774e+01</td>\n",
       "      <td>-2.836627e+00</td>\n",
       "      <td>-1.029540e+01</td>\n",
       "      <td>-2.604551e+00</td>\n",
       "      <td>-2.256568e+01</td>\n",
       "      <td>-1.543008e+01</td>\n",
       "      <td>0.000000</td>\n",
       "      <td>0.000000</td>\n",
       "    </tr>\n",
       "    <tr>\n",
       "      <th>25%</th>\n",
       "      <td>54201.500000</td>\n",
       "      <td>-9.203734e-01</td>\n",
       "      <td>-5.985499e-01</td>\n",
       "      <td>-8.903648e-01</td>\n",
       "      <td>-8.486401e-01</td>\n",
       "      <td>-6.915971e-01</td>\n",
       "      <td>-7.682956e-01</td>\n",
       "      <td>-5.540759e-01</td>\n",
       "      <td>-2.086297e-01</td>\n",
       "      <td>-6.430976e-01</td>\n",
       "      <td>...</td>\n",
       "      <td>-2.283949e-01</td>\n",
       "      <td>-5.423504e-01</td>\n",
       "      <td>-1.618463e-01</td>\n",
       "      <td>-3.545861e-01</td>\n",
       "      <td>-3.171451e-01</td>\n",
       "      <td>-3.269839e-01</td>\n",
       "      <td>-7.083953e-02</td>\n",
       "      <td>-5.295979e-02</td>\n",
       "      <td>5.600000</td>\n",
       "      <td>0.000000</td>\n",
       "    </tr>\n",
       "    <tr>\n",
       "      <th>50%</th>\n",
       "      <td>84692.000000</td>\n",
       "      <td>1.810880e-02</td>\n",
       "      <td>6.548556e-02</td>\n",
       "      <td>1.798463e-01</td>\n",
       "      <td>-1.984653e-02</td>\n",
       "      <td>-5.433583e-02</td>\n",
       "      <td>-2.741871e-01</td>\n",
       "      <td>4.010308e-02</td>\n",
       "      <td>2.235804e-02</td>\n",
       "      <td>-5.142873e-02</td>\n",
       "      <td>...</td>\n",
       "      <td>-2.945017e-02</td>\n",
       "      <td>6.781943e-03</td>\n",
       "      <td>-1.119293e-02</td>\n",
       "      <td>4.097606e-02</td>\n",
       "      <td>1.659350e-02</td>\n",
       "      <td>-5.213911e-02</td>\n",
       "      <td>1.342146e-03</td>\n",
       "      <td>1.124383e-02</td>\n",
       "      <td>22.000000</td>\n",
       "      <td>0.000000</td>\n",
       "    </tr>\n",
       "    <tr>\n",
       "      <th>75%</th>\n",
       "      <td>139320.500000</td>\n",
       "      <td>1.315642e+00</td>\n",
       "      <td>8.037239e-01</td>\n",
       "      <td>1.027196e+00</td>\n",
       "      <td>7.433413e-01</td>\n",
       "      <td>6.119264e-01</td>\n",
       "      <td>3.985649e-01</td>\n",
       "      <td>5.704361e-01</td>\n",
       "      <td>3.273459e-01</td>\n",
       "      <td>5.971390e-01</td>\n",
       "      <td>...</td>\n",
       "      <td>1.863772e-01</td>\n",
       "      <td>5.285536e-01</td>\n",
       "      <td>1.476421e-01</td>\n",
       "      <td>4.395266e-01</td>\n",
       "      <td>3.507156e-01</td>\n",
       "      <td>2.409522e-01</td>\n",
       "      <td>9.104512e-02</td>\n",
       "      <td>7.827995e-02</td>\n",
       "      <td>77.165000</td>\n",
       "      <td>0.000000</td>\n",
       "    </tr>\n",
       "    <tr>\n",
       "      <th>max</th>\n",
       "      <td>172792.000000</td>\n",
       "      <td>2.454930e+00</td>\n",
       "      <td>2.205773e+01</td>\n",
       "      <td>9.382558e+00</td>\n",
       "      <td>1.687534e+01</td>\n",
       "      <td>3.480167e+01</td>\n",
       "      <td>7.330163e+01</td>\n",
       "      <td>1.205895e+02</td>\n",
       "      <td>2.000721e+01</td>\n",
       "      <td>1.559499e+01</td>\n",
       "      <td>...</td>\n",
       "      <td>2.720284e+01</td>\n",
       "      <td>1.050309e+01</td>\n",
       "      <td>2.252841e+01</td>\n",
       "      <td>4.584549e+00</td>\n",
       "      <td>7.519589e+00</td>\n",
       "      <td>3.517346e+00</td>\n",
       "      <td>3.161220e+01</td>\n",
       "      <td>3.384781e+01</td>\n",
       "      <td>25691.160000</td>\n",
       "      <td>1.000000</td>\n",
       "    </tr>\n",
       "  </tbody>\n",
       "</table>\n",
       "<p>8 rows × 31 columns</p>\n",
       "</div>"
      ],
      "text/plain": [
       "           Timestamp          pais        cidade        bairro           cep  \\\n",
       "count  284807.000000  2.848070e+05  2.848070e+05  2.848070e+05  2.848070e+05   \n",
       "mean    94813.859575  1.168375e-15  3.416908e-16 -1.379537e-15  2.074095e-15   \n",
       "std     47488.145955  1.958696e+00  1.651309e+00  1.516255e+00  1.415869e+00   \n",
       "min         0.000000 -5.640751e+01 -7.271573e+01 -4.832559e+01 -5.683171e+00   \n",
       "25%     54201.500000 -9.203734e-01 -5.985499e-01 -8.903648e-01 -8.486401e-01   \n",
       "50%     84692.000000  1.810880e-02  6.548556e-02  1.798463e-01 -1.984653e-02   \n",
       "75%    139320.500000  1.315642e+00  8.037239e-01  1.027196e+00  7.433413e-01   \n",
       "max    172792.000000  2.454930e+00  2.205773e+01  9.382558e+00  1.687534e+01   \n",
       "\n",
       "                 ip           dia          hora        minuto            so  \\\n",
       "count  2.848070e+05  2.848070e+05  2.848070e+05  2.848070e+05  2.848070e+05   \n",
       "mean   9.604066e-16  1.487313e-15 -5.556467e-16  1.213481e-16 -2.406331e-15   \n",
       "std    1.380247e+00  1.332271e+00  1.237094e+00  1.194353e+00  1.098632e+00   \n",
       "min   -1.137433e+02 -2.616051e+01 -4.355724e+01 -7.321672e+01 -1.343407e+01   \n",
       "25%   -6.915971e-01 -7.682956e-01 -5.540759e-01 -2.086297e-01 -6.430976e-01   \n",
       "50%   -5.433583e-02 -2.741871e-01  4.010308e-02  2.235804e-02 -5.142873e-02   \n",
       "75%    6.119264e-01  3.985649e-01  5.704361e-01  3.273459e-01  5.971390e-01   \n",
       "max    3.480167e+01  7.330163e+01  1.205895e+02  2.000721e+01  1.559499e+01   \n",
       "\n",
       "       ...       android           ios       compras  hist_navegacao  \\\n",
       "count  ...  2.848070e+05  2.848070e+05  2.848070e+05    2.848070e+05   \n",
       "mean   ...  1.654067e-16 -3.568593e-16  2.578648e-16    4.473266e-15   \n",
       "std    ...  7.345240e-01  7.257016e-01  6.244603e-01    6.056471e-01   \n",
       "min    ... -3.483038e+01 -1.093314e+01 -4.480774e+01   -2.836627e+00   \n",
       "25%    ... -2.283949e-01 -5.423504e-01 -1.618463e-01   -3.545861e-01   \n",
       "50%    ... -2.945017e-02  6.781943e-03 -1.119293e-02    4.097606e-02   \n",
       "75%    ...  1.863772e-01  5.285536e-01  1.476421e-01    4.395266e-01   \n",
       "max    ...  2.720284e+01  1.050309e+01  2.252841e+01    4.584549e+00   \n",
       "\n",
       "       relacionamento  ind_seguranca  tempo_transacao       lim_crt  \\\n",
       "count    2.848070e+05   2.848070e+05     2.848070e+05  2.848070e+05   \n",
       "mean     5.340915e-16   1.683437e-15    -3.660091e-16 -1.227390e-16   \n",
       "std      5.212781e-01   4.822270e-01     4.036325e-01  3.300833e-01   \n",
       "min     -1.029540e+01  -2.604551e+00    -2.256568e+01 -1.543008e+01   \n",
       "25%     -3.171451e-01  -3.269839e-01    -7.083953e-02 -5.295979e-02   \n",
       "50%      1.659350e-02  -5.213911e-02     1.342146e-03  1.124383e-02   \n",
       "75%      3.507156e-01   2.409522e-01     9.104512e-02  7.827995e-02   \n",
       "max      7.519589e+00   3.517346e+00     3.161220e+01  3.384781e+01   \n",
       "\n",
       "          hist_saldo         Target  \n",
       "count  284807.000000  284807.000000  \n",
       "mean       88.349619       0.001727  \n",
       "std       250.120109       0.041527  \n",
       "min         0.000000       0.000000  \n",
       "25%         5.600000       0.000000  \n",
       "50%        22.000000       0.000000  \n",
       "75%        77.165000       0.000000  \n",
       "max     25691.160000       1.000000  \n",
       "\n",
       "[8 rows x 31 columns]"
      ]
     },
     "execution_count": 80,
     "metadata": {},
     "output_type": "execute_result"
    }
   ],
   "source": [
    "#Vendo algumas informações estátisticas\n",
    "\n",
    "df.describe()"
   ]
  },
  {
   "cell_type": "markdown",
   "id": "8c5adc25",
   "metadata": {},
   "source": [
    "**Verificando valores NAN**"
   ]
  },
  {
   "cell_type": "code",
   "execution_count": 81,
   "id": "1de2dd88",
   "metadata": {},
   "outputs": [
    {
     "data": {
      "text/plain": [
       "Timestamp          0.0\n",
       "pais               0.0\n",
       "cidade             0.0\n",
       "bairro             0.0\n",
       "cep                0.0\n",
       "ip                 0.0\n",
       "dia                0.0\n",
       "hora               0.0\n",
       "minuto             0.0\n",
       "so                 0.0\n",
       "valor              0.0\n",
       "antecedentes       0.0\n",
       "reclamacoes        0.0\n",
       "qtd_trans          0.0\n",
       "crt                0.0\n",
       "limite_global      0.0\n",
       "tipo_crt           0.0\n",
       "estabelecimento    0.0\n",
       "contas             0.0\n",
       "emprestimos        0.0\n",
       "navegador          0.0\n",
       "android            0.0\n",
       "ios                0.0\n",
       "compras            0.0\n",
       "hist_navegacao     0.0\n",
       "relacionamento     0.0\n",
       "ind_seguranca      0.0\n",
       "tempo_transacao    0.0\n",
       "lim_crt            0.0\n",
       "hist_saldo         0.0\n",
       "Target             0.0\n",
       "dtype: float64"
      ]
     },
     "execution_count": 81,
     "metadata": {},
     "output_type": "execute_result"
    }
   ],
   "source": [
    "#Vendo se exitem valores nulos tipo inf NaN etc..\n",
    "(df.isnull().sum())/df.shape[0]"
   ]
  },
  {
   "cell_type": "code",
   "execution_count": 82,
   "id": "b7766df8",
   "metadata": {},
   "outputs": [
    {
     "data": {
      "text/plain": [
       "Timestamp          0.0\n",
       "pais               0.0\n",
       "cidade             0.0\n",
       "bairro             0.0\n",
       "cep                0.0\n",
       "ip                 0.0\n",
       "dia                0.0\n",
       "hora               0.0\n",
       "minuto             0.0\n",
       "so                 0.0\n",
       "valor              0.0\n",
       "antecedentes       0.0\n",
       "reclamacoes        0.0\n",
       "qtd_trans          0.0\n",
       "crt                0.0\n",
       "limite_global      0.0\n",
       "tipo_crt           0.0\n",
       "estabelecimento    0.0\n",
       "contas             0.0\n",
       "emprestimos        0.0\n",
       "navegador          0.0\n",
       "android            0.0\n",
       "ios                0.0\n",
       "compras            0.0\n",
       "hist_navegacao     0.0\n",
       "relacionamento     0.0\n",
       "ind_seguranca      0.0\n",
       "tempo_transacao    0.0\n",
       "lim_crt            0.0\n",
       "hist_saldo         0.0\n",
       "Target             0.0\n",
       "dtype: float64"
      ]
     },
     "execution_count": 82,
     "metadata": {},
     "output_type": "execute_result"
    }
   ],
   "source": [
    "#Vendo se existem valores NAN\n",
    "(df.isna().sum())/df.shape[0]"
   ]
  },
  {
   "cell_type": "markdown",
   "id": "08fa0a17",
   "metadata": {},
   "source": [
    "**Plotando alguns gráficos para entendermos melhor o problema**"
   ]
  },
  {
   "cell_type": "code",
   "execution_count": 83,
   "id": "e1999ecb",
   "metadata": {},
   "outputs": [
    {
     "data": {
      "text/plain": [
       "0    0.998273\n",
       "1    0.001727\n",
       "Name: Target, dtype: float64"
      ]
     },
     "execution_count": 83,
     "metadata": {},
     "output_type": "execute_result"
    }
   ],
   "source": [
    "(df[\"Target\"].value_counts())/df.shape[0]"
   ]
  },
  {
   "cell_type": "code",
   "execution_count": 84,
   "id": "00d81f0e",
   "metadata": {},
   "outputs": [
    {
     "data": {
      "image/png": "[encoded data removed]",
      "text/plain": [
       "<Figure size 432x288 with 1 Axes>"
      ]
     },
     "metadata": {
      "needs_background": "light"
     },
     "output_type": "display_data"
    }
   ],
   "source": [
    "fig,ax=plt.subplots()\n",
    "\n",
    "\n",
    "sns.countplot(\"Target\",data=df,ax=ax)\n",
    "\n",
    "plt.tight_layout();"
   ]
  },
  {
   "cell_type": "code",
   "execution_count": 95,
   "id": "e94cad2c",
   "metadata": {},
   "outputs": [
    {
     "data": {
      "text/plain": [
       "array([284315,    492])"
      ]
     },
     "execution_count": 95,
     "metadata": {},
     "output_type": "execute_result"
    }
   ],
   "source": [
    "np.bincount(df[\"Target\"])# Veja o quando isso está desbalanciado, não conseguiremos fazer a nossa maquina preditiva"
   ]
  },
  {
   "cell_type": "markdown",
   "id": "307c3d53",
   "metadata": {},
   "source": [
    "Nos temos uma classe hiper-desbalanciada, nos temos **0-Não teve fraude e 1-Teve fraude**\n",
    "e veja que a barra do **não teve fraude** só aparece uma linha isso porque existem muito mais transferências bancarias que não são fraudes do que transferências **fraudulentas**.\n",
    "\n",
    "Só que se eu fazer uma maquina preditiva do jeito que está eu não vou conseguir fazer uma maquina preditiva que faça previsão de fraude, porque tem muito pouco registo de **Teve Fraude** então para resolver isso irei fazer um trabalho para equilibrar essa class e construir uma maquina preditiva.."
   ]
  },
  {
   "cell_type": "markdown",
   "id": "3263bbb1",
   "metadata": {},
   "source": [
    "**Explorando a correlação**"
   ]
  },
  {
   "cell_type": "code",
   "execution_count": 85,
   "id": "abff4d24",
   "metadata": {},
   "outputs": [
    {
     "data": {
      "text/plain": [
       "Target             1.000000\n",
       "antecedentes       0.154876\n",
       "cep                0.133447\n",
       "cidade             0.091289\n",
       "android            0.040413\n",
       "emprestimos        0.034783\n",
       "navegador          0.020090\n",
       "minuto             0.019875\n",
       "tempo_transacao    0.017580\n",
       "lim_crt            0.009536\n",
       "hist_saldo         0.005632\n",
       "ind_seguranca      0.004455\n",
       "relacionamento     0.003308\n",
       "ios                0.000805\n",
       "compras           -0.002685\n",
       "limite_global     -0.004223\n",
       "qtd_trans         -0.004570\n",
       "hist_navegacao    -0.007221\n",
       "Timestamp         -0.012323\n",
       "dia               -0.043643\n",
       "ip                -0.094974\n",
       "so                -0.097733\n",
       "pais              -0.101347\n",
       "contas            -0.111485\n",
       "hora              -0.187257\n",
       "bairro            -0.192961\n",
       "tipo_crt          -0.196539\n",
       "valor             -0.216883\n",
       "reclamacoes       -0.260593\n",
       "crt               -0.302544\n",
       "estabelecimento   -0.326481\n",
       "Name: Target, dtype: float64"
      ]
     },
     "execution_count": 85,
     "metadata": {},
     "output_type": "execute_result"
    }
   ],
   "source": [
    "df.corr()[\"Target\"].sort_values(ascending=False)"
   ]
  },
  {
   "cell_type": "code",
   "execution_count": 86,
   "id": "617869f0",
   "metadata": {},
   "outputs": [
    {
     "data": {
      "text/plain": [
       "<AxesSubplot:>"
      ]
     },
     "execution_count": 86,
     "metadata": {},
     "output_type": "execute_result"
    },
    {
     "data": {
      "image/png": "[encoded data removed]",
      "text/plain": [
       "<Figure size 2376x1296 with 2 Axes>"
      ]
     },
     "metadata": {
      "needs_background": "light"
     },
     "output_type": "display_data"
    }
   ],
   "source": [
    "#df.corr(method=\"spearman\")\n",
    "fig,ax=plt.subplots(figsize = (33,18))\n",
    "\n",
    "sns.heatmap(df.corr(),cmap='coolwarm', fmt='.2f', linewidths=0.1,\n",
    "            vmax=1.0, square=True, linecolor='white', annot=True,ax=ax)"
   ]
  },
  {
   "cell_type": "markdown",
   "id": "774ae2fb",
   "metadata": {},
   "source": [
    "## Pré-Processamento dos dados\n",
    "\n",
    "- Há desbalanceamento da classe (target)?\n",
    "\n",
    "- Também pode ser complicado lidar com outliers se não entendermos o domínio e o contexto do problema o suficiente."
   ]
  },
  {
   "cell_type": "code",
   "execution_count": 87,
   "id": "08257057",
   "metadata": {},
   "outputs": [],
   "source": [
    "X=df.drop(\"Target\",axis=1)"
   ]
  },
  {
   "cell_type": "code",
   "execution_count": 88,
   "id": "3879a42c",
   "metadata": {},
   "outputs": [],
   "source": [
    "Y=df[\"Target\"]"
   ]
  },
  {
   "cell_type": "code",
   "execution_count": 96,
   "id": "45661526",
   "metadata": {},
   "outputs": [],
   "source": [
    "#Balanceamento da Classe (Target)\n",
    "\n",
    "from imblearn.over_sampling import SMOTE\n",
    "from sklearn.model_selection import train_test_split"
   ]
  },
  {
   "cell_type": "code",
   "execution_count": 97,
   "id": "84bdb8ef",
   "metadata": {},
   "outputs": [],
   "source": [
    "smt=SMOTE()"
   ]
  },
  {
   "cell_type": "code",
   "execution_count": 98,
   "id": "4314bf07",
   "metadata": {},
   "outputs": [],
   "source": [
    "X,Y=smt.fit_resample(X, Y)"
   ]
  },
  {
   "cell_type": "code",
   "execution_count": 99,
   "id": "da1e31ec",
   "metadata": {},
   "outputs": [],
   "source": [
    "yi=Y.astype(int)"
   ]
  },
  {
   "cell_type": "code",
   "execution_count": 100,
   "id": "dc23aa60",
   "metadata": {},
   "outputs": [
    {
     "data": {
      "text/plain": [
       "array([284315, 284315])"
      ]
     },
     "execution_count": 100,
     "metadata": {},
     "output_type": "execute_result"
    }
   ],
   "source": [
    "np.bincount(yi)#Agora sim conseguiremos fazer a nossa maquina preditiva"
   ]
  },
  {
   "cell_type": "code",
   "execution_count": 101,
   "id": "e9c8ea09",
   "metadata": {},
   "outputs": [
    {
     "data": {
      "text/plain": [
       "<AxesSubplot:xlabel='Target', ylabel='count'>"
      ]
     },
     "execution_count": 101,
     "metadata": {},
     "output_type": "execute_result"
    },
    {
     "data": {
      "image/png": "[encoded data removed]",
      "text/plain": [
       "<Figure size 432x288 with 1 Axes>"
      ]
     },
     "metadata": {
      "needs_background": "light"
     },
     "output_type": "display_data"
    }
   ],
   "source": [
    "sns.countplot(yi)"
   ]
  },
  {
   "cell_type": "markdown",
   "id": "0fb703b9",
   "metadata": {},
   "source": [
    "Agora posso fazer a maquina preditiva avontade, isso porque já balanceamos os dados das duas classes com isso podemos fazer previsão se há ou não há fraudes"
   ]
  },
  {
   "cell_type": "code",
   "execution_count": 102,
   "id": "9695e123",
   "metadata": {},
   "outputs": [],
   "source": [
    "x_train,x_test,y_train,y_test=train_test_split(X,Y,test_size=0.3,random_state=7,stratify=Y)"
   ]
  },
  {
   "cell_type": "markdown",
   "id": "387b9528",
   "metadata": {},
   "source": [
    "## Criando a Máquina Preditiva de Detecção de Fraude"
   ]
  },
  {
   "cell_type": "code",
   "execution_count": 113,
   "id": "234d8b04",
   "metadata": {},
   "outputs": [],
   "source": [
    "from xgboost import XGBClassifier\n",
    "from sklearn.ensemble import RandomForestClassifier\n",
    "import lightgbm as lgb\n",
    "\n",
    "from sklearn.metrics import classification_report\n",
    "from sklearn.metrics import accuracy_score\n",
    "from sklearn.metrics import confusion_matrix\n",
    "from sklearn.metrics import roc_auc_score\n",
    "\n"
   ]
  },
  {
   "cell_type": "markdown",
   "id": "45d956e0",
   "metadata": {},
   "source": [
    "### XGBoost"
   ]
  },
  {
   "cell_type": "code",
   "execution_count": 114,
   "id": "235d1214",
   "metadata": {},
   "outputs": [],
   "source": [
    "modelo1=XGBClassifier()"
   ]
  },
  {
   "cell_type": "code",
   "execution_count": 115,
   "id": "b0648d9c",
   "metadata": {},
   "outputs": [
    {
     "name": "stdout",
     "output_type": "stream",
     "text": [
      "[11:45:08] WARNING: ../src/learner.cc:1095: Starting in XGBoost 1.3.0, the default evaluation metric used with the objective 'binary:logistic' was changed from 'error' to 'logloss'. Explicitly set eval_metric if you'd like to restore the old behavior.\n"
     ]
    },
    {
     "data": {
      "text/plain": [
       "XGBClassifier(base_score=0.5, booster='gbtree', colsample_bylevel=1,\n",
       "              colsample_bynode=1, colsample_bytree=1, gamma=0, gpu_id=-1,\n",
       "              importance_type='gain', interaction_constraints='',\n",
       "              learning_rate=0.300000012, max_delta_step=0, max_depth=6,\n",
       "              min_child_weight=1, missing=nan, monotone_constraints='()',\n",
       "              n_estimators=100, n_jobs=8, num_parallel_tree=1, random_state=0,\n",
       "              reg_alpha=0, reg_lambda=1, scale_pos_weight=1, subsample=1,\n",
       "              tree_method='exact', validate_parameters=1, verbosity=None)"
      ]
     },
     "execution_count": 115,
     "metadata": {},
     "output_type": "execute_result"
    }
   ],
   "source": [
    "modelo1.fit(x_train,y_train)"
   ]
  },
  {
   "cell_type": "code",
   "execution_count": 117,
   "id": "57065c85",
   "metadata": {},
   "outputs": [],
   "source": [
    "y_pred=modelo1.predict(x_test)"
   ]
  },
  {
   "cell_type": "code",
   "execution_count": 118,
   "id": "9dd1857d",
   "metadata": {},
   "outputs": [
    {
     "data": {
      "text/plain": [
       "array([0, 1, 0, ..., 1, 0, 0])"
      ]
     },
     "execution_count": 118,
     "metadata": {},
     "output_type": "execute_result"
    }
   ],
   "source": [
    "y_pred"
   ]
  },
  {
   "cell_type": "code",
   "execution_count": 119,
   "id": "e93b7a47",
   "metadata": {},
   "outputs": [],
   "source": [
    "y_pred_proba=modelo1.predict_proba(x_test)"
   ]
  },
  {
   "cell_type": "code",
   "execution_count": 120,
   "id": "2c835889",
   "metadata": {},
   "outputs": [
    {
     "data": {
      "text/plain": [
       "array([[9.9999893e-01, 1.0623360e-06],\n",
       "       [1.1932850e-04, 9.9988067e-01],\n",
       "       [9.9993968e-01, 6.0293401e-05],\n",
       "       ...,\n",
       "       [1.0728836e-06, 9.9999893e-01],\n",
       "       [9.9999994e-01, 7.2407346e-08],\n",
       "       [9.9998999e-01, 1.0000724e-05]], dtype=float32)"
      ]
     },
     "execution_count": 120,
     "metadata": {},
     "output_type": "execute_result"
    }
   ],
   "source": [
    "y_pred_proba"
   ]
  },
  {
   "cell_type": "markdown",
   "id": "5054f815",
   "metadata": {},
   "source": [
    "### Avaliando a Máquina Preditiva"
   ]
  },
  {
   "cell_type": "code",
   "execution_count": 121,
   "id": "b771e2b4",
   "metadata": {},
   "outputs": [
    {
     "data": {
      "text/html": [
       "<div>\n",
       "<style scoped>\n",
       "    .dataframe tbody tr th:only-of-type {\n",
       "        vertical-align: middle;\n",
       "    }\n",
       "\n",
       "    .dataframe tbody tr th {\n",
       "        vertical-align: top;\n",
       "    }\n",
       "\n",
       "    .dataframe thead th {\n",
       "        text-align: right;\n",
       "    }\n",
       "</style>\n",
       "<table border=\"1\" class=\"dataframe\">\n",
       "  <thead>\n",
       "    <tr style=\"text-align: right;\">\n",
       "      <th></th>\n",
       "      <th>Gabarito</th>\n",
       "      <th>Previsoes_da_Máquina</th>\n",
       "    </tr>\n",
       "  </thead>\n",
       "  <tbody>\n",
       "    <tr>\n",
       "      <th>32637</th>\n",
       "      <td>0</td>\n",
       "      <td>0</td>\n",
       "    </tr>\n",
       "    <tr>\n",
       "      <th>310248</th>\n",
       "      <td>1</td>\n",
       "      <td>1</td>\n",
       "    </tr>\n",
       "    <tr>\n",
       "      <th>239726</th>\n",
       "      <td>0</td>\n",
       "      <td>0</td>\n",
       "    </tr>\n",
       "    <tr>\n",
       "      <th>264244</th>\n",
       "      <td>0</td>\n",
       "      <td>0</td>\n",
       "    </tr>\n",
       "    <tr>\n",
       "      <th>414052</th>\n",
       "      <td>1</td>\n",
       "      <td>1</td>\n",
       "    </tr>\n",
       "    <tr>\n",
       "      <th>...</th>\n",
       "      <td>...</td>\n",
       "      <td>...</td>\n",
       "    </tr>\n",
       "    <tr>\n",
       "      <th>145904</th>\n",
       "      <td>0</td>\n",
       "      <td>0</td>\n",
       "    </tr>\n",
       "    <tr>\n",
       "      <th>57389</th>\n",
       "      <td>0</td>\n",
       "      <td>0</td>\n",
       "    </tr>\n",
       "    <tr>\n",
       "      <th>454470</th>\n",
       "      <td>1</td>\n",
       "      <td>1</td>\n",
       "    </tr>\n",
       "    <tr>\n",
       "      <th>229461</th>\n",
       "      <td>0</td>\n",
       "      <td>0</td>\n",
       "    </tr>\n",
       "    <tr>\n",
       "      <th>81718</th>\n",
       "      <td>0</td>\n",
       "      <td>0</td>\n",
       "    </tr>\n",
       "  </tbody>\n",
       "</table>\n",
       "<p>170589 rows × 2 columns</p>\n",
       "</div>"
      ],
      "text/plain": [
       "        Gabarito  Previsoes_da_Máquina\n",
       "32637          0                     0\n",
       "310248         1                     1\n",
       "239726         0                     0\n",
       "264244         0                     0\n",
       "414052         1                     1\n",
       "...          ...                   ...\n",
       "145904         0                     0\n",
       "57389          0                     0\n",
       "454470         1                     1\n",
       "229461         0                     0\n",
       "81718          0                     0\n",
       "\n",
       "[170589 rows x 2 columns]"
      ]
     },
     "execution_count": 121,
     "metadata": {},
     "output_type": "execute_result"
    }
   ],
   "source": [
    "gabarito = pd.DataFrame({'Gabarito': y_test,'Previsoes_da_Máquina': y_pred})\n",
    "gabarito"
   ]
  },
  {
   "cell_type": "code",
   "execution_count": 123,
   "id": "3bed0496",
   "metadata": {},
   "outputs": [
    {
     "name": "stdout",
     "output_type": "stream",
     "text": [
      "Classification metrics: \n",
      "               precision    recall  f1-score   support\n",
      "\n",
      "           0       1.00      1.00      1.00     85294\n",
      "           1       1.00      1.00      1.00     85295\n",
      "\n",
      "    accuracy                           1.00    170589\n",
      "   macro avg       1.00      1.00      1.00    170589\n",
      "weighted avg       1.00      1.00      1.00    170589\n",
      "\n"
     ]
    }
   ],
   "source": [
    "# Evaluate model\n",
    "print('Classification metrics: \\n', classification_report(y_test, y_pred))\n"
   ]
  },
  {
   "cell_type": "code",
   "execution_count": 124,
   "id": "0dd46a74",
   "metadata": {},
   "outputs": [
    {
     "name": "stdout",
     "output_type": "stream",
     "text": [
      "Acurácia: \n",
      " 0.9998241387193781\n"
     ]
    }
   ],
   "source": [
    "print('Acurácia: \\n', accuracy_score(y_test, y_pred))\n"
   ]
  },
  {
   "cell_type": "code",
   "execution_count": 125,
   "id": "1b1cdd13",
   "metadata": {},
   "outputs": [
    {
     "name": "stdout",
     "output_type": "stream",
     "text": [
      "Confusion Matrix: \n",
      " [[85264    30]\n",
      " [    0 85295]]\n"
     ]
    }
   ],
   "source": [
    "\n",
    "print('Confusion Matrix: \\n', confusion_matrix(y_test, y_pred))"
   ]
  },
  {
   "cell_type": "markdown",
   "id": "484484a9",
   "metadata": {},
   "source": [
    "### Light GBM"
   ]
  },
  {
   "cell_type": "code",
   "execution_count": 126,
   "id": "d6829fe4",
   "metadata": {},
   "outputs": [
    {
     "name": "stdout",
     "output_type": "stream",
     "text": [
      "[LightGBM] [Info] Number of positive: 199020, number of negative: 199021\n",
      "[LightGBM] [Warning] Auto-choosing col-wise multi-threading, the overhead of testing was 0.047009 seconds.\n",
      "You can set `force_col_wise=true` to remove the overhead.\n",
      "[LightGBM] [Info] Total Bins 6000\n",
      "[LightGBM] [Info] Number of data points in the train set: 398041, number of used features: 30\n",
      "[LightGBM] [Info] [binary:BoostFromScore]: pavg=0.499999 -> initscore=-0.000005\n",
      "[LightGBM] [Info] Start training from score -0.000005\n",
      "[LightGBM] [Warning] No further splits with positive gain, best gain: -inf\n",
      "[LightGBM] [Warning] No further splits with positive gain, best gain: -inf\n",
      "[LightGBM] [Warning] No further splits with positive gain, best gain: -inf\n",
      "[LightGBM] [Warning] No further splits with positive gain, best gain: -inf\n",
      "[LightGBM] [Warning] No further splits with positive gain, best gain: -inf\n",
      "[LightGBM] [Warning] No further splits with positive gain, best gain: -inf\n",
      "[LightGBM] [Warning] No further splits with positive gain, best gain: -inf\n",
      "[LightGBM] [Warning] No further splits with positive gain, best gain: -inf\n",
      "[LightGBM] [Warning] No further splits with positive gain, best gain: -inf\n",
      "[LightGBM] [Warning] No further splits with positive gain, best gain: -inf\n",
      "[LightGBM] [Warning] No further splits with positive gain, best gain: -inf\n",
      "[LightGBM] [Warning] No further splits with positive gain, best gain: -inf\n",
      "[LightGBM] [Warning] No further splits with positive gain, best gain: -inf\n",
      "[LightGBM] [Warning] No further splits with positive gain, best gain: -inf\n",
      "[LightGBM] [Warning] No further splits with positive gain, best gain: -inf\n",
      "[LightGBM] [Warning] No further splits with positive gain, best gain: -inf\n",
      "[LightGBM] [Warning] No further splits with positive gain, best gain: -inf\n",
      "[LightGBM] [Warning] No further splits with positive gain, best gain: -inf\n",
      "[LightGBM] [Warning] No further splits with positive gain, best gain: -inf\n",
      "[LightGBM] [Warning] No further splits with positive gain, best gain: -inf\n",
      "[LightGBM] [Warning] No further splits with positive gain, best gain: -inf\n",
      "[LightGBM] [Warning] No further splits with positive gain, best gain: -inf\n",
      "[LightGBM] [Warning] No further splits with positive gain, best gain: -inf\n",
      "[LightGBM] [Warning] No further splits with positive gain, best gain: -inf\n",
      "[LightGBM] [Warning] No further splits with positive gain, best gain: -inf\n",
      "[LightGBM] [Warning] No further splits with positive gain, best gain: -inf\n",
      "[LightGBM] [Warning] No further splits with positive gain, best gain: -inf\n",
      "[LightGBM] [Warning] No further splits with positive gain, best gain: -inf\n",
      "[LightGBM] [Warning] No further splits with positive gain, best gain: -inf\n",
      "[LightGBM] [Warning] No further splits with positive gain, best gain: -inf\n",
      "[LightGBM] [Warning] No further splits with positive gain, best gain: -inf\n",
      "[LightGBM] [Warning] No further splits with positive gain, best gain: -inf\n",
      "[LightGBM] [Warning] No further splits with positive gain, best gain: -inf\n",
      "[LightGBM] [Warning] No further splits with positive gain, best gain: -inf\n",
      "[LightGBM] [Warning] No further splits with positive gain, best gain: -inf\n",
      "[LightGBM] [Warning] No further splits with positive gain, best gain: -inf\n",
      "[LightGBM] [Warning] No further splits with positive gain, best gain: -inf\n",
      "[LightGBM] [Warning] No further splits with positive gain, best gain: -inf\n",
      "[LightGBM] [Warning] No further splits with positive gain, best gain: -inf\n",
      "[LightGBM] [Warning] No further splits with positive gain, best gain: -inf\n",
      "[LightGBM] [Warning] No further splits with positive gain, best gain: -inf\n",
      "[LightGBM] [Warning] No further splits with positive gain, best gain: -inf\n",
      "[LightGBM] [Warning] No further splits with positive gain, best gain: -inf\n",
      "[LightGBM] [Warning] No further splits with positive gain, best gain: -inf\n",
      "[LightGBM] [Warning] No further splits with positive gain, best gain: -inf\n",
      "[LightGBM] [Warning] No further splits with positive gain, best gain: -inf\n",
      "[LightGBM] [Warning] No further splits with positive gain, best gain: -inf\n",
      "[LightGBM] [Warning] No further splits with positive gain, best gain: -inf\n",
      "[LightGBM] [Warning] No further splits with positive gain, best gain: -inf\n",
      "[LightGBM] [Warning] No further splits with positive gain, best gain: -inf\n"
     ]
    }
   ],
   "source": [
    "# Light GBM\n",
    "train_data=lgb.Dataset(x_train,label=y_train)\n",
    "#setting parameters for lightgbm\n",
    "param = {'num_leaves':1000,         #número de folhas em uma árvore; padrão = 31; type = int\n",
    "         'objective':'binary',     \n",
    "         'max_depth':7,\n",
    "         'learning_rate':.01,\n",
    "         'max_bin':200}\n",
    "\n",
    "param['metric'] = ['auc', 'binary_logloss']\n",
    "\n",
    "#training our model using light gbm\n",
    "num_round=50\n",
    "\n",
    "lgbm=lgb.train(param,train_data,num_round)\n"
   ]
  },
  {
   "cell_type": "code",
   "execution_count": 128,
   "id": "4dda08a2",
   "metadata": {},
   "outputs": [],
   "source": [
    "y_predict = lgbm.predict(x_test)"
   ]
  },
  {
   "cell_type": "code",
   "execution_count": 129,
   "id": "bf5641c5",
   "metadata": {},
   "outputs": [
    {
     "data": {
      "text/plain": [
       "array([0.30500955, 0.69689373, 0.35754018, ..., 0.69689373, 0.30500955,\n",
       "       0.31337046])"
      ]
     },
     "execution_count": 129,
     "metadata": {},
     "output_type": "execute_result"
    }
   ],
   "source": [
    "y_predict"
   ]
  },
  {
   "cell_type": "code",
   "execution_count": 130,
   "id": "447831fc",
   "metadata": {},
   "outputs": [
    {
     "data": {
      "text/html": [
       "<div>\n",
       "<style scoped>\n",
       "    .dataframe tbody tr th:only-of-type {\n",
       "        vertical-align: middle;\n",
       "    }\n",
       "\n",
       "    .dataframe tbody tr th {\n",
       "        vertical-align: top;\n",
       "    }\n",
       "\n",
       "    .dataframe thead th {\n",
       "        text-align: right;\n",
       "    }\n",
       "</style>\n",
       "<table border=\"1\" class=\"dataframe\">\n",
       "  <thead>\n",
       "    <tr style=\"text-align: right;\">\n",
       "      <th></th>\n",
       "      <th>Gabarito</th>\n",
       "      <th>Previsoes_da_Máquina</th>\n",
       "    </tr>\n",
       "  </thead>\n",
       "  <tbody>\n",
       "    <tr>\n",
       "      <th>32637</th>\n",
       "      <td>0</td>\n",
       "      <td>0.305010</td>\n",
       "    </tr>\n",
       "    <tr>\n",
       "      <th>310248</th>\n",
       "      <td>1</td>\n",
       "      <td>0.696894</td>\n",
       "    </tr>\n",
       "    <tr>\n",
       "      <th>239726</th>\n",
       "      <td>0</td>\n",
       "      <td>0.357540</td>\n",
       "    </tr>\n",
       "    <tr>\n",
       "      <th>264244</th>\n",
       "      <td>0</td>\n",
       "      <td>0.305010</td>\n",
       "    </tr>\n",
       "    <tr>\n",
       "      <th>414052</th>\n",
       "      <td>1</td>\n",
       "      <td>0.696894</td>\n",
       "    </tr>\n",
       "    <tr>\n",
       "      <th>...</th>\n",
       "      <td>...</td>\n",
       "      <td>...</td>\n",
       "    </tr>\n",
       "    <tr>\n",
       "      <th>145904</th>\n",
       "      <td>0</td>\n",
       "      <td>0.306764</td>\n",
       "    </tr>\n",
       "    <tr>\n",
       "      <th>57389</th>\n",
       "      <td>0</td>\n",
       "      <td>0.305010</td>\n",
       "    </tr>\n",
       "    <tr>\n",
       "      <th>454470</th>\n",
       "      <td>1</td>\n",
       "      <td>0.696894</td>\n",
       "    </tr>\n",
       "    <tr>\n",
       "      <th>229461</th>\n",
       "      <td>0</td>\n",
       "      <td>0.305010</td>\n",
       "    </tr>\n",
       "    <tr>\n",
       "      <th>81718</th>\n",
       "      <td>0</td>\n",
       "      <td>0.313370</td>\n",
       "    </tr>\n",
       "  </tbody>\n",
       "</table>\n",
       "<p>170589 rows × 2 columns</p>\n",
       "</div>"
      ],
      "text/plain": [
       "        Gabarito  Previsoes_da_Máquina\n",
       "32637          0              0.305010\n",
       "310248         1              0.696894\n",
       "239726         0              0.357540\n",
       "264244         0              0.305010\n",
       "414052         1              0.696894\n",
       "...          ...                   ...\n",
       "145904         0              0.306764\n",
       "57389          0              0.305010\n",
       "454470         1              0.696894\n",
       "229461         0              0.305010\n",
       "81718          0              0.313370\n",
       "\n",
       "[170589 rows x 2 columns]"
      ]
     },
     "execution_count": 130,
     "metadata": {},
     "output_type": "execute_result"
    }
   ],
   "source": [
    "gabarito = pd.DataFrame({'Gabarito': y_test,'Previsoes_da_Máquina': y_predict})\n",
    "gabarito"
   ]
  },
  {
   "cell_type": "code",
   "execution_count": 131,
   "id": "eface70e",
   "metadata": {},
   "outputs": [
    {
     "data": {
      "text/plain": [
       "170589"
      ]
     },
     "execution_count": 131,
     "metadata": {},
     "output_type": "execute_result"
    }
   ],
   "source": [
    "y_predict.size"
   ]
  },
  {
   "cell_type": "code",
   "execution_count": 132,
   "id": "1fe6b249",
   "metadata": {},
   "outputs": [],
   "source": [
    "#converting probabilities into 0 or 1\n",
    "for i in range(0,170589):\n",
    "    if y_predict[i]>=.5:       # setting threshold to .5\n",
    "       y_predict[i]=1\n",
    "    else:  \n",
    "       y_predict[i]=0"
   ]
  },
  {
   "cell_type": "code",
   "execution_count": 141,
   "id": "3fcb32d5",
   "metadata": {},
   "outputs": [
    {
     "name": "stdout",
     "output_type": "stream",
     "text": [
      "Classification metrics: \n",
      "               precision    recall  f1-score   support\n",
      "\n",
      "           0       0.98      0.99      0.99     85294\n",
      "           1       0.99      0.98      0.98     85295\n",
      "\n",
      "    accuracy                           0.98    170589\n",
      "   macro avg       0.99      0.98      0.98    170589\n",
      "weighted avg       0.99      0.98      0.98    170589\n",
      "\n",
      "Acurácia: \n",
      " 0.98494627437877\n",
      "Confusion Matrix: \n",
      " [[84607   687]\n",
      " [ 1881 83414]]\n"
     ]
    }
   ],
   "source": [
    "print('Classification metrics: \\n', classification_report(y_test, y_predict))\n",
    "print('Acurácia: \\n', accuracy_score(y_test, y_predict))\n",
    "#0.9843  F1 98%\n",
    "print('Confusion Matrix: \\n', confusion_matrix(y_test, y_predict))"
   ]
  },
  {
   "cell_type": "markdown",
   "id": "0549dc6a",
   "metadata": {},
   "source": [
    "### Random Forest"
   ]
  },
  {
   "cell_type": "code",
   "execution_count": 145,
   "id": "2dc1b2c4",
   "metadata": {},
   "outputs": [],
   "source": [
    "modelo3=RandomForestClassifier()"
   ]
  },
  {
   "cell_type": "code",
   "execution_count": 146,
   "id": "23ce9063",
   "metadata": {},
   "outputs": [
    {
     "data": {
      "text/plain": [
       "RandomForestClassifier()"
      ]
     },
     "execution_count": 146,
     "metadata": {},
     "output_type": "execute_result"
    }
   ],
   "source": [
    "modelo3.fit(x_train,y_train)"
   ]
  },
  {
   "cell_type": "code",
   "execution_count": null,
   "id": "1f6cd420",
   "metadata": {},
   "outputs": [],
   "source": [
    "y_pred=modelo3.predict(x_test)"
   ]
  }
 ],
 "metadata": {
  "kernelspec": {
   "display_name": "Python 3 (ipykernel)",
   "language": "python",
   "name": "python3"
  },
  "language_info": {
   "codemirror_mode": {
    "name": "ipython",
    "version": 3
   },
   "file_extension": ".py",
   "mimetype": "text/x-python",
   "name": "python",
   "nbconvert_exporter": "python",
   "pygments_lexer": "ipython3",
   "version": "3.8.10"
  }
 },
 "nbformat": 4,
 "nbformat_minor": 5
}
