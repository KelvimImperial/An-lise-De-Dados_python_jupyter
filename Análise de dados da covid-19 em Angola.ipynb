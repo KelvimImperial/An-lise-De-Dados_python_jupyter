{
 "cells": [
  {
   "cell_type": "markdown",
   "metadata": {},
   "source": [
    "# Análise De Dados Da Covid Em Angola\n",
    "\n",
    "Este notebook tem como objetivo análisar a propagação da covid-19 no  territorio Angolano"
   ]
  },
  {
   "cell_type": "markdown",
   "metadata": {},
   "source": [
    "# Contextualização do Problema\n",
    "\n",
    "A covid-19 é um problema que está abalando não só Angola mais o mundo todo, o meu objetivo é analisarmos a propagação do covid-19 em Angola.\n",
    "\n"
   ]
  },
  {
   "cell_type": "markdown",
   "metadata": {},
   "source": [
    "# O meu objetivo hoje é análisar simplesmente a coluna \"Total_casos\""
   ]
  },
  {
   "cell_type": "code",
   "execution_count": 72,
   "metadata": {},
   "outputs": [],
   "source": [
    "#importando as bibliotecas\n",
    "import pandas as pd\n",
    "import matplotlib.pyplot as plt\n",
    "import seaborn as sns\n",
    "import numpy as np\n",
    "\n",
    "%matplotlib inline"
   ]
  },
  {
   "cell_type": "markdown",
   "metadata": {},
   "source": [
    "## Vamos Importar os dados que pegamos de um site Angolano"
   ]
  },
  {
   "cell_type": "code",
   "execution_count": 73,
   "metadata": {},
   "outputs": [],
   "source": [
    "dados=pd.read_csv(\"summary.csv\",parse_dates=[\"Data\"])"
   ]
  },
  {
   "cell_type": "code",
   "execution_count": 74,
   "metadata": {},
   "outputs": [],
   "source": [
    "#Mudando o nome dados colunas\n",
    "\n",
    "\n",
    "\n",
    "colunas={\n",
    "    \n",
    "    'Novos Casos':'Novos_Casos', \n",
    "    'Total de Casos':'Total_casos', \n",
    "    'Novos Óbitos':'Novos_obitos', \n",
    "    'Total de Óbitos':'Total_Obitos',\n",
    "    'Novos Recuperados':'Novos_Recuperados', \n",
    "    'Total de Recuperados':'Total_recuperados'\n",
    "    \n",
    "    \n",
    "}\n",
    "\n",
    "dados.rename(colunas,axis=1,inplace=True)"
   ]
  },
  {
   "cell_type": "code",
   "execution_count": 75,
   "metadata": {},
   "outputs": [
    {
     "data": {
      "text/html": [
       "<div>\n",
       "<style scoped>\n",
       "    .dataframe tbody tr th:only-of-type {\n",
       "        vertical-align: middle;\n",
       "    }\n",
       "\n",
       "    .dataframe tbody tr th {\n",
       "        vertical-align: top;\n",
       "    }\n",
       "\n",
       "    .dataframe thead th {\n",
       "        text-align: right;\n",
       "    }\n",
       "</style>\n",
       "<table border=\"1\" class=\"dataframe\">\n",
       "  <thead>\n",
       "    <tr style=\"text-align: right;\">\n",
       "      <th></th>\n",
       "      <th>Data</th>\n",
       "      <th>Novos_Casos</th>\n",
       "      <th>Total_casos</th>\n",
       "      <th>Novos_obitos</th>\n",
       "      <th>Total_Obitos</th>\n",
       "      <th>Novos_Recuperados</th>\n",
       "      <th>Total_recuperados</th>\n",
       "    </tr>\n",
       "  </thead>\n",
       "  <tbody>\n",
       "    <tr>\n",
       "      <th>0</th>\n",
       "      <td>2020-03-21</td>\n",
       "      <td>2</td>\n",
       "      <td>2</td>\n",
       "      <td>0</td>\n",
       "      <td>0</td>\n",
       "      <td>0</td>\n",
       "      <td>0</td>\n",
       "    </tr>\n",
       "    <tr>\n",
       "      <th>1</th>\n",
       "      <td>2020-03-22</td>\n",
       "      <td>0</td>\n",
       "      <td>2</td>\n",
       "      <td>0</td>\n",
       "      <td>0</td>\n",
       "      <td>0</td>\n",
       "      <td>0</td>\n",
       "    </tr>\n",
       "    <tr>\n",
       "      <th>2</th>\n",
       "      <td>2020-03-23</td>\n",
       "      <td>1</td>\n",
       "      <td>3</td>\n",
       "      <td>0</td>\n",
       "      <td>0</td>\n",
       "      <td>0</td>\n",
       "      <td>0</td>\n",
       "    </tr>\n",
       "    <tr>\n",
       "      <th>3</th>\n",
       "      <td>2020-03-24</td>\n",
       "      <td>0</td>\n",
       "      <td>3</td>\n",
       "      <td>0</td>\n",
       "      <td>0</td>\n",
       "      <td>0</td>\n",
       "      <td>0</td>\n",
       "    </tr>\n",
       "    <tr>\n",
       "      <th>4</th>\n",
       "      <td>2020-03-25</td>\n",
       "      <td>0</td>\n",
       "      <td>3</td>\n",
       "      <td>0</td>\n",
       "      <td>0</td>\n",
       "      <td>0</td>\n",
       "      <td>0</td>\n",
       "    </tr>\n",
       "  </tbody>\n",
       "</table>\n",
       "</div>"
      ],
      "text/plain": [
       "        Data  Novos_Casos  Total_casos  Novos_obitos  Total_Obitos  \\\n",
       "0 2020-03-21            2            2             0             0   \n",
       "1 2020-03-22            0            2             0             0   \n",
       "2 2020-03-23            1            3             0             0   \n",
       "3 2020-03-24            0            3             0             0   \n",
       "4 2020-03-25            0            3             0             0   \n",
       "\n",
       "   Novos_Recuperados  Total_recuperados  \n",
       "0                  0                  0  \n",
       "1                  0                  0  \n",
       "2                  0                  0  \n",
       "3                  0                  0  \n",
       "4                  0                  0  "
      ]
     },
     "execution_count": 75,
     "metadata": {},
     "output_type": "execute_result"
    }
   ],
   "source": [
    "dados.head()"
   ]
  },
  {
   "cell_type": "code",
   "execution_count": 76,
   "metadata": {},
   "outputs": [
    {
     "name": "stdout",
     "output_type": "stream",
     "text": [
      "<class 'pandas.core.frame.DataFrame'>\n",
      "RangeIndex: 424 entries, 0 to 423\n",
      "Data columns (total 7 columns):\n",
      " #   Column             Non-Null Count  Dtype         \n",
      "---  ------             --------------  -----         \n",
      " 0   Data               424 non-null    datetime64[ns]\n",
      " 1   Novos_Casos        424 non-null    int64         \n",
      " 2   Total_casos        424 non-null    int64         \n",
      " 3   Novos_obitos       424 non-null    int64         \n",
      " 4   Total_Obitos       424 non-null    int64         \n",
      " 5   Novos_Recuperados  424 non-null    int64         \n",
      " 6   Total_recuperados  424 non-null    int64         \n",
      "dtypes: datetime64[ns](1), int64(6)\n",
      "memory usage: 23.3 KB\n"
     ]
    }
   ],
   "source": [
    "#Vamos ver algumas informações\n",
    "dados.info()"
   ]
  },
  {
   "cell_type": "code",
   "execution_count": 77,
   "metadata": {},
   "outputs": [
    {
     "data": {
      "text/plain": [
       "Data                 424\n",
       "Novos_Casos          424\n",
       "Total_casos          424\n",
       "Novos_obitos         424\n",
       "Total_Obitos         424\n",
       "Novos_Recuperados    424\n",
       "Total_recuperados    424\n",
       "dtype: int64"
      ]
     },
     "execution_count": 77,
     "metadata": {},
     "output_type": "execute_result"
    }
   ],
   "source": [
    "# Veja que não temos nenhum valor NAN\n",
    "\n",
    "dados.count()"
   ]
  },
  {
   "cell_type": "code",
   "execution_count": 78,
   "metadata": {},
   "outputs": [],
   "source": [
    "#Transformando nossa coluna Data em index\n",
    "dados.set_index(\"Data\",inplace=True)"
   ]
  },
  {
   "cell_type": "markdown",
   "metadata": {},
   "source": [
    "## Análisando o progresso da covid-19 em 2020"
   ]
  },
  {
   "cell_type": "code",
   "execution_count": 79,
   "metadata": {},
   "outputs": [
    {
     "data": {
      "text/plain": [
       "Novos_Casos          286\n",
       "Total_casos          286\n",
       "Novos_obitos         286\n",
       "Total_Obitos         286\n",
       "Novos_Recuperados    286\n",
       "Total_recuperados    286\n",
       "dtype: int64"
      ]
     },
     "execution_count": 79,
     "metadata": {},
     "output_type": "execute_result"
    }
   ],
   "source": [
    "\n",
    "dados.loc[\"2020\"].count()"
   ]
  },
  {
   "cell_type": "markdown",
   "metadata": {},
   "source": [
    "## Análisando o progresso da covid-19 em 2021"
   ]
  },
  {
   "cell_type": "code",
   "execution_count": 80,
   "metadata": {},
   "outputs": [
    {
     "data": {
      "text/plain": [
       "Novos_Casos          138\n",
       "Total_casos          138\n",
       "Novos_obitos         138\n",
       "Total_Obitos         138\n",
       "Novos_Recuperados    138\n",
       "Total_recuperados    138\n",
       "dtype: int64"
      ]
     },
     "execution_count": 80,
     "metadata": {},
     "output_type": "execute_result"
    }
   ],
   "source": [
    "dados.loc[\"2021\"].count()"
   ]
  },
  {
   "cell_type": "code",
   "execution_count": 84,
   "metadata": {},
   "outputs": [
    {
     "data": {
      "text/html": [
       "<div>\n",
       "<style scoped>\n",
       "    .dataframe tbody tr th:only-of-type {\n",
       "        vertical-align: middle;\n",
       "    }\n",
       "\n",
       "    .dataframe tbody tr th {\n",
       "        vertical-align: top;\n",
       "    }\n",
       "\n",
       "    .dataframe thead th {\n",
       "        text-align: right;\n",
       "    }\n",
       "</style>\n",
       "<table border=\"1\" class=\"dataframe\">\n",
       "  <thead>\n",
       "    <tr style=\"text-align: right;\">\n",
       "      <th></th>\n",
       "      <th>Novos_Casos</th>\n",
       "      <th>Total_casos</th>\n",
       "      <th>Novos_obitos</th>\n",
       "      <th>Total_Obitos</th>\n",
       "      <th>Novos_Recuperados</th>\n",
       "      <th>Total_recuperados</th>\n",
       "    </tr>\n",
       "    <tr>\n",
       "      <th>Data</th>\n",
       "      <th></th>\n",
       "      <th></th>\n",
       "      <th></th>\n",
       "      <th></th>\n",
       "      <th></th>\n",
       "      <th></th>\n",
       "    </tr>\n",
       "  </thead>\n",
       "  <tbody>\n",
       "    <tr>\n",
       "      <th>2021-05-14</th>\n",
       "      <td>335</td>\n",
       "      <td>30043</td>\n",
       "      <td>2</td>\n",
       "      <td>653</td>\n",
       "      <td>21</td>\n",
       "      <td>25411</td>\n",
       "    </tr>\n",
       "    <tr>\n",
       "      <th>2021-05-15</th>\n",
       "      <td>324</td>\n",
       "      <td>30367</td>\n",
       "      <td>4</td>\n",
       "      <td>657</td>\n",
       "      <td>53</td>\n",
       "      <td>25464</td>\n",
       "    </tr>\n",
       "    <tr>\n",
       "      <th>2021-05-16</th>\n",
       "      <td>283</td>\n",
       "      <td>30650</td>\n",
       "      <td>4</td>\n",
       "      <td>661</td>\n",
       "      <td>12</td>\n",
       "      <td>25476</td>\n",
       "    </tr>\n",
       "    <tr>\n",
       "      <th>2021-05-17</th>\n",
       "      <td>154</td>\n",
       "      <td>30804</td>\n",
       "      <td>18</td>\n",
       "      <td>679</td>\n",
       "      <td>280</td>\n",
       "      <td>25756</td>\n",
       "    </tr>\n",
       "    <tr>\n",
       "      <th>2021-05-18</th>\n",
       "      <td>258</td>\n",
       "      <td>31062</td>\n",
       "      <td>8</td>\n",
       "      <td>687</td>\n",
       "      <td>18</td>\n",
       "      <td>25774</td>\n",
       "    </tr>\n",
       "  </tbody>\n",
       "</table>\n",
       "</div>"
      ],
      "text/plain": [
       "            Novos_Casos  Total_casos  Novos_obitos  Total_Obitos  \\\n",
       "Data                                                               \n",
       "2021-05-14          335        30043             2           653   \n",
       "2021-05-15          324        30367             4           657   \n",
       "2021-05-16          283        30650             4           661   \n",
       "2021-05-17          154        30804            18           679   \n",
       "2021-05-18          258        31062             8           687   \n",
       "\n",
       "            Novos_Recuperados  Total_recuperados  \n",
       "Data                                              \n",
       "2021-05-14                 21              25411  \n",
       "2021-05-15                 53              25464  \n",
       "2021-05-16                 12              25476  \n",
       "2021-05-17                280              25756  \n",
       "2021-05-18                 18              25774  "
      ]
     },
     "execution_count": 84,
     "metadata": {},
     "output_type": "execute_result"
    }
   ],
   "source": [
    "#Pegando os 5 ultimos dados\n",
    "dados.tail()"
   ]
  },
  {
   "cell_type": "markdown",
   "metadata": {},
   "source": [
    "## Análisando o Total de casos em 2020"
   ]
  },
  {
   "cell_type": "code",
   "execution_count": 86,
   "metadata": {},
   "outputs": [],
   "source": [
    "total_casos_2020=dados.loc[\"2020\",\"Total_casos\"]"
   ]
  },
  {
   "cell_type": "code",
   "execution_count": 87,
   "metadata": {},
   "outputs": [
    {
     "data": {
      "text/plain": [
       "Data\n",
       "2020-03-21        2\n",
       "2020-03-22        2\n",
       "2020-03-23        3\n",
       "2020-03-24        3\n",
       "2020-03-25        3\n",
       "              ...  \n",
       "2020-12-27    17240\n",
       "2020-12-28    17296\n",
       "2020-12-29    17371\n",
       "2020-12-30    17433\n",
       "2020-12-31    17553\n",
       "Name: Total_casos, Length: 286, dtype: int64"
      ]
     },
     "execution_count": 87,
     "metadata": {},
     "output_type": "execute_result"
    }
   ],
   "source": [
    "total_casos_2020"
   ]
  },
  {
   "cell_type": "code",
   "execution_count": 89,
   "metadata": {},
   "outputs": [
    {
     "data": {
      "text/plain": [
       "4698.27972027972"
      ]
     },
     "execution_count": 89,
     "metadata": {},
     "output_type": "execute_result"
    }
   ],
   "source": [
    "# A media dos casos de 2020\n",
    "total_casos_2020.mean()"
   ]
  },
  {
   "cell_type": "code",
   "execution_count": 129,
   "metadata": {},
   "outputs": [
    {
     "data": {
      "text/plain": [
       "<matplotlib.axes._subplots.AxesSubplot at 0x218aefdd280>"
      ]
     },
     "execution_count": 129,
     "metadata": {},
     "output_type": "execute_result"
    },
    {
     "data": {
      "image/png": "[encoded data removed]",
      "text/plain": [
       "<Figure size 432x288 with 1 Axes>"
      ]
     },
     "metadata": {
      "needs_background": "light"
     },
     "output_type": "display_data"
    }
   ],
   "source": [
    "#Plotando o gráfico vemos que apartir de abrir de 2020 os casos em Angola começaram a subir\n",
    "total_casos_2020.plot()"
   ]
  },
  {
   "cell_type": "markdown",
   "metadata": {},
   "source": [
    "## Análisando o Total de casos em 2021"
   ]
  },
  {
   "cell_type": "code",
   "execution_count": 137,
   "metadata": {},
   "outputs": [],
   "source": [
    "total_casos_2021=dados.loc[\"2021\",\"Total_casos\"]"
   ]
  },
  {
   "cell_type": "code",
   "execution_count": 138,
   "metadata": {},
   "outputs": [
    {
     "data": {
      "text/plain": [
       "Data\n",
       "2021-01-01    17568\n",
       "2021-01-02    17608\n",
       "2021-01-03    17642\n",
       "2021-01-04    17684\n",
       "2021-01-05    17756\n",
       "Name: Total_casos, dtype: int64"
      ]
     },
     "execution_count": 138,
     "metadata": {},
     "output_type": "execute_result"
    }
   ],
   "source": [
    "total_casos_2021.head()"
   ]
  },
  {
   "cell_type": "code",
   "execution_count": 139,
   "metadata": {},
   "outputs": [
    {
     "data": {
      "text/plain": [
       "22185.41304347826"
      ]
     },
     "execution_count": 139,
     "metadata": {},
     "output_type": "execute_result"
    }
   ],
   "source": [
    "# A media dos casos de 2021\n",
    "total_casos_2021.mean()"
   ]
  },
  {
   "cell_type": "code",
   "execution_count": 140,
   "metadata": {},
   "outputs": [
    {
     "data": {
      "text/plain": [
       "<matplotlib.axes._subplots.AxesSubplot at 0x218af08ab20>"
      ]
     },
     "execution_count": 140,
     "metadata": {},
     "output_type": "execute_result"
    },
    {
     "data": {
      "image/png": "[encoded data removed]",
      "text/plain": [
       "<Figure size 432x288 with 1 Axes>"
      ]
     },
     "metadata": {
      "needs_background": "light"
     },
     "output_type": "display_data"
    }
   ],
   "source": [
    "#Plotando o gráfico vemos que apartir de abrir de 2021 os casos em Angola continuam  a aumentar\n",
    "total_casos_2021.plot()"
   ]
  },
  {
   "cell_type": "code",
   "execution_count": null,
   "metadata": {},
   "outputs": [],
   "source": []
  }
 ],
 "metadata": {
  "kernelspec": {
   "display_name": "Python 3",
   "language": "python",
   "name": "python3"
  },
  "language_info": {
   "codemirror_mode": {
    "name": "ipython",
    "version": 3
   },
   "file_extension": ".py",
   "mimetype": "text/x-python",
   "name": "python",
   "nbconvert_exporter": "python",
   "pygments_lexer": "ipython3",
   "version": "3.8.3"
  }
 },
 "nbformat": 4,
 "nbformat_minor": 4
}
