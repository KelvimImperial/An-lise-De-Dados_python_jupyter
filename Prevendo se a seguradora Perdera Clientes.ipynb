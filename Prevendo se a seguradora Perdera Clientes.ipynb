{
 "cells": [
  {
   "cell_type": "markdown",
   "id": "061ae4ab",
   "metadata": {},
   "source": [
    "# Prevendo se a seguradora Perdera Clientes\n"
   ]
  },
  {
   "cell_type": "markdown",
   "id": "1a442d82",
   "metadata": {},
   "source": [
    "Você certamente já fez algum seguro na vida, seguro de carro, vida, imobiliario etc.. Nós vamos prever evasão de clientes da seguradora.\n",
    " \n",
    "Imagina que você decide montar uma seguradora e aí voce sai adquirindo clientes então você trabalha só com seguros de vida, então voce junta lá um capital e aí voce vai correr atraz de clientes para voce oferecer seguro de vida e aí mensalmente os seus clientes vão lá depositando para você, o sinistro que é a morte do cliente ele é um negocio que está muito lá afrente as pessoas têm uma expectativa de vida de muito grande, então oque acontece é geralmente é um risco grande se o cliente morrer  a seguradora tem que desembolsar e fazer o pagamento do seguro, mais existem muitos cientistas de dados nessas instituições para fazerem os mais diversos tipos de calculos e construções de maquinas preditivas para prever exatamente  a ocasião desse sinistro e assim ele vai montando o preço.\n",
    "\n",
    "Para uma indústria em que a aquisição e retenção de clientes são igualmente importantes, e a primeira sendo um processo mais caro, as seguradoras contam com OS DADOS para entender o comportamento do cliente e aumentar a retenção.\n",
    "\n",
    "Assim, saber se um cliente possivelmente quer cancelar o seguro de antemão dá às seguradoras a oportunidade de criar estratégias para evitar que isso realmente aconteça"
   ]
  },
  {
   "cell_type": "markdown",
   "id": "4b99e698",
   "metadata": {},
   "source": [
    "## 1° Problema de Negócio\n",
    "\n",
    "Seu objetivo como cientista de dados é construir um modelo de aprendizado de máquina, uma Máquina Preditiva, que possa prever se a seguradora perderá um cliente ou não. Você recebe 16 variáveis anônimas (feature_0 a feature 15) que influenciam a rotatividade de clientes no setor de seguros."
   ]
  },
  {
   "cell_type": "code",
   "execution_count": 27,
   "id": "407bb629",
   "metadata": {},
   "outputs": [],
   "source": [
    "import pandas as pd\n",
    "import seaborn as sns\n",
    "import lightgbm as lgb\n",
    "from sklearn.metrics import accuracy_score,f1_score\n",
    "import matplotlib.pyplot as plt\n",
    "from sklearn.model_selection import train_test_split\n"
   ]
  },
  {
   "cell_type": "markdown",
   "id": "ef8a44f4",
   "metadata": {},
   "source": [
    "## 2° Análise Exploratória de dados"
   ]
  },
  {
   "cell_type": "code",
   "execution_count": 2,
   "id": "b9a08d88",
   "metadata": {},
   "outputs": [],
   "source": [
    "#IMportando os dados\n",
    "dados=pd.read_csv(\"Train.csv\")"
   ]
  },
  {
   "cell_type": "code",
   "execution_count": 3,
   "id": "4e4c13ef",
   "metadata": {},
   "outputs": [
    {
     "data": {
      "text/html": [
       "<div>\n",
       "<style scoped>\n",
       "    .dataframe tbody tr th:only-of-type {\n",
       "        vertical-align: middle;\n",
       "    }\n",
       "\n",
       "    .dataframe tbody tr th {\n",
       "        vertical-align: top;\n",
       "    }\n",
       "\n",
       "    .dataframe thead th {\n",
       "        text-align: right;\n",
       "    }\n",
       "</style>\n",
       "<table border=\"1\" class=\"dataframe\">\n",
       "  <thead>\n",
       "    <tr style=\"text-align: right;\">\n",
       "      <th></th>\n",
       "      <th>feature_0</th>\n",
       "      <th>feature_1</th>\n",
       "      <th>feature_2</th>\n",
       "      <th>feature_3</th>\n",
       "      <th>feature_4</th>\n",
       "      <th>feature_5</th>\n",
       "      <th>feature_6</th>\n",
       "      <th>feature_7</th>\n",
       "      <th>feature_8</th>\n",
       "      <th>feature_9</th>\n",
       "      <th>feature_10</th>\n",
       "      <th>feature_11</th>\n",
       "      <th>feature_12</th>\n",
       "      <th>feature_13</th>\n",
       "      <th>feature_14</th>\n",
       "      <th>feature_15</th>\n",
       "      <th>labels</th>\n",
       "    </tr>\n",
       "  </thead>\n",
       "  <tbody>\n",
       "    <tr>\n",
       "      <th>0</th>\n",
       "      <td>-0.276515</td>\n",
       "      <td>-0.424429</td>\n",
       "      <td>1.344997</td>\n",
       "      <td>-0.012283</td>\n",
       "      <td>0.076230</td>\n",
       "      <td>1.076648</td>\n",
       "      <td>0.182198</td>\n",
       "      <td>3</td>\n",
       "      <td>0</td>\n",
       "      <td>1</td>\n",
       "      <td>0</td>\n",
       "      <td>0</td>\n",
       "      <td>0</td>\n",
       "      <td>0</td>\n",
       "      <td>10</td>\n",
       "      <td>2</td>\n",
       "      <td>1</td>\n",
       "    </tr>\n",
       "    <tr>\n",
       "      <th>1</th>\n",
       "      <td>0.853573</td>\n",
       "      <td>0.150991</td>\n",
       "      <td>0.503892</td>\n",
       "      <td>-0.979179</td>\n",
       "      <td>-0.569351</td>\n",
       "      <td>-0.411453</td>\n",
       "      <td>-0.251940</td>\n",
       "      <td>4</td>\n",
       "      <td>1</td>\n",
       "      <td>2</td>\n",
       "      <td>0</td>\n",
       "      <td>1</td>\n",
       "      <td>0</td>\n",
       "      <td>0</td>\n",
       "      <td>0</td>\n",
       "      <td>3</td>\n",
       "      <td>0</td>\n",
       "    </tr>\n",
       "    <tr>\n",
       "      <th>2</th>\n",
       "      <td>0.947747</td>\n",
       "      <td>-0.173832</td>\n",
       "      <td>1.825628</td>\n",
       "      <td>-0.703478</td>\n",
       "      <td>0.076230</td>\n",
       "      <td>-0.411453</td>\n",
       "      <td>-0.251940</td>\n",
       "      <td>6</td>\n",
       "      <td>1</td>\n",
       "      <td>2</td>\n",
       "      <td>0</td>\n",
       "      <td>0</td>\n",
       "      <td>0</td>\n",
       "      <td>0</td>\n",
       "      <td>5</td>\n",
       "      <td>3</td>\n",
       "      <td>0</td>\n",
       "    </tr>\n",
       "    <tr>\n",
       "      <th>3</th>\n",
       "      <td>0.853573</td>\n",
       "      <td>-0.381404</td>\n",
       "      <td>0.984523</td>\n",
       "      <td>-0.039464</td>\n",
       "      <td>-0.569351</td>\n",
       "      <td>-0.411453</td>\n",
       "      <td>-0.251940</td>\n",
       "      <td>4</td>\n",
       "      <td>0</td>\n",
       "      <td>2</td>\n",
       "      <td>0</td>\n",
       "      <td>1</td>\n",
       "      <td>0</td>\n",
       "      <td>0</td>\n",
       "      <td>5</td>\n",
       "      <td>3</td>\n",
       "      <td>0</td>\n",
       "    </tr>\n",
       "    <tr>\n",
       "      <th>4</th>\n",
       "      <td>1.324443</td>\n",
       "      <td>1.590527</td>\n",
       "      <td>-1.178318</td>\n",
       "      <td>-0.097711</td>\n",
       "      <td>-0.246560</td>\n",
       "      <td>-0.411453</td>\n",
       "      <td>-0.251940</td>\n",
       "      <td>0</td>\n",
       "      <td>1</td>\n",
       "      <td>1</td>\n",
       "      <td>0</td>\n",
       "      <td>0</td>\n",
       "      <td>0</td>\n",
       "      <td>0</td>\n",
       "      <td>8</td>\n",
       "      <td>3</td>\n",
       "      <td>0</td>\n",
       "    </tr>\n",
       "  </tbody>\n",
       "</table>\n",
       "</div>"
      ],
      "text/plain": [
       "   feature_0  feature_1  feature_2  feature_3  feature_4  feature_5  \\\n",
       "0  -0.276515  -0.424429   1.344997  -0.012283   0.076230   1.076648   \n",
       "1   0.853573   0.150991   0.503892  -0.979179  -0.569351  -0.411453   \n",
       "2   0.947747  -0.173832   1.825628  -0.703478   0.076230  -0.411453   \n",
       "3   0.853573  -0.381404   0.984523  -0.039464  -0.569351  -0.411453   \n",
       "4   1.324443   1.590527  -1.178318  -0.097711  -0.246560  -0.411453   \n",
       "\n",
       "   feature_6  feature_7  feature_8  feature_9  feature_10  feature_11  \\\n",
       "0   0.182198          3          0          1           0           0   \n",
       "1  -0.251940          4          1          2           0           1   \n",
       "2  -0.251940          6          1          2           0           0   \n",
       "3  -0.251940          4          0          2           0           1   \n",
       "4  -0.251940          0          1          1           0           0   \n",
       "\n",
       "   feature_12  feature_13  feature_14  feature_15  labels  \n",
       "0           0           0          10           2       1  \n",
       "1           0           0           0           3       0  \n",
       "2           0           0           5           3       0  \n",
       "3           0           0           5           3       0  \n",
       "4           0           0           8           3       0  "
      ]
     },
     "execution_count": 3,
     "metadata": {},
     "output_type": "execute_result"
    }
   ],
   "source": [
    "#Vendo as 5 primeiras Linhas\n",
    "dados.head()"
   ]
  },
  {
   "cell_type": "code",
   "execution_count": 4,
   "id": "9fa8465e",
   "metadata": {},
   "outputs": [
    {
     "data": {
      "text/plain": [
       "feature_0       77\n",
       "feature_1     6434\n",
       "feature_2       31\n",
       "feature_3     1482\n",
       "feature_4       47\n",
       "feature_5      517\n",
       "feature_6       36\n",
       "feature_7       12\n",
       "feature_8        3\n",
       "feature_9        4\n",
       "feature_10       2\n",
       "feature_11       2\n",
       "feature_12       2\n",
       "feature_13       3\n",
       "feature_14      12\n",
       "feature_15       4\n",
       "labels           2\n",
       "dtype: int64"
      ]
     },
     "execution_count": 4,
     "metadata": {},
     "output_type": "execute_result"
    }
   ],
   "source": [
    "#Contagem de valores unicos para cada variavel\n",
    "dados.nunique()"
   ]
  },
  {
   "cell_type": "code",
   "execution_count": 5,
   "id": "3e614026",
   "metadata": {},
   "outputs": [
    {
     "data": {
      "text/plain": [
       "feature_0     0\n",
       "feature_1     0\n",
       "feature_2     0\n",
       "feature_3     0\n",
       "feature_4     0\n",
       "feature_5     0\n",
       "feature_6     0\n",
       "feature_7     0\n",
       "feature_8     0\n",
       "feature_9     0\n",
       "feature_10    0\n",
       "feature_11    0\n",
       "feature_12    0\n",
       "feature_13    0\n",
       "feature_14    0\n",
       "feature_15    0\n",
       "labels        0\n",
       "dtype: int64"
      ]
     },
     "execution_count": 5,
     "metadata": {},
     "output_type": "execute_result"
    }
   ],
   "source": [
    "#Verificar valores NAN\n",
    "dados.isnull().sum()"
   ]
  },
  {
   "cell_type": "code",
   "execution_count": 6,
   "id": "be652a65",
   "metadata": {},
   "outputs": [
    {
     "data": {
      "text/plain": [
       "0"
      ]
     },
     "execution_count": 6,
     "metadata": {},
     "output_type": "execute_result"
    }
   ],
   "source": [
    "#Verificar registos duplicados\n",
    "dados.duplicated().sum()"
   ]
  },
  {
   "cell_type": "code",
   "execution_count": 7,
   "id": "2b4d9f2b",
   "metadata": {},
   "outputs": [
    {
     "data": {
      "text/html": [
       "<div>\n",
       "<style scoped>\n",
       "    .dataframe tbody tr th:only-of-type {\n",
       "        vertical-align: middle;\n",
       "    }\n",
       "\n",
       "    .dataframe tbody tr th {\n",
       "        vertical-align: top;\n",
       "    }\n",
       "\n",
       "    .dataframe thead th {\n",
       "        text-align: right;\n",
       "    }\n",
       "</style>\n",
       "<table border=\"1\" class=\"dataframe\">\n",
       "  <thead>\n",
       "    <tr style=\"text-align: right;\">\n",
       "      <th></th>\n",
       "      <th>feature_0</th>\n",
       "      <th>feature_1</th>\n",
       "      <th>feature_2</th>\n",
       "      <th>feature_3</th>\n",
       "      <th>feature_4</th>\n",
       "      <th>feature_5</th>\n",
       "      <th>feature_6</th>\n",
       "      <th>feature_7</th>\n",
       "      <th>feature_8</th>\n",
       "      <th>feature_9</th>\n",
       "      <th>feature_10</th>\n",
       "      <th>feature_11</th>\n",
       "      <th>feature_12</th>\n",
       "      <th>feature_13</th>\n",
       "      <th>feature_14</th>\n",
       "      <th>feature_15</th>\n",
       "      <th>labels</th>\n",
       "    </tr>\n",
       "  </thead>\n",
       "  <tbody>\n",
       "    <tr>\n",
       "      <th>count</th>\n",
       "      <td>33908.000000</td>\n",
       "      <td>33908.000000</td>\n",
       "      <td>33908.000000</td>\n",
       "      <td>33908.000000</td>\n",
       "      <td>33908.000000</td>\n",
       "      <td>33908.000000</td>\n",
       "      <td>33908.000000</td>\n",
       "      <td>33908.000000</td>\n",
       "      <td>33908.000000</td>\n",
       "      <td>33908.000000</td>\n",
       "      <td>33908.000000</td>\n",
       "      <td>33908.000000</td>\n",
       "      <td>33908.000000</td>\n",
       "      <td>33908.000000</td>\n",
       "      <td>33908.000000</td>\n",
       "      <td>33908.000000</td>\n",
       "      <td>33908.000000</td>\n",
       "    </tr>\n",
       "    <tr>\n",
       "      <th>mean</th>\n",
       "      <td>-0.004158</td>\n",
       "      <td>0.002584</td>\n",
       "      <td>-0.000213</td>\n",
       "      <td>-0.000053</td>\n",
       "      <td>-0.000298</td>\n",
       "      <td>-0.004652</td>\n",
       "      <td>-0.007498</td>\n",
       "      <td>4.336381</td>\n",
       "      <td>1.171051</td>\n",
       "      <td>1.225345</td>\n",
       "      <td>0.018137</td>\n",
       "      <td>0.555503</td>\n",
       "      <td>0.159667</td>\n",
       "      <td>0.639407</td>\n",
       "      <td>5.520497</td>\n",
       "      <td>2.562375</td>\n",
       "      <td>0.116993</td>\n",
       "    </tr>\n",
       "    <tr>\n",
       "      <th>std</th>\n",
       "      <td>0.999776</td>\n",
       "      <td>1.014268</td>\n",
       "      <td>1.000872</td>\n",
       "      <td>1.002512</td>\n",
       "      <td>1.003724</td>\n",
       "      <td>0.993984</td>\n",
       "      <td>0.802696</td>\n",
       "      <td>3.273376</td>\n",
       "      <td>0.606730</td>\n",
       "      <td>0.749104</td>\n",
       "      <td>0.133450</td>\n",
       "      <td>0.496917</td>\n",
       "      <td>0.366303</td>\n",
       "      <td>0.897627</td>\n",
       "      <td>3.003241</td>\n",
       "      <td>0.987148</td>\n",
       "      <td>0.321417</td>\n",
       "    </tr>\n",
       "    <tr>\n",
       "      <th>min</th>\n",
       "      <td>-2.159994</td>\n",
       "      <td>-3.081149</td>\n",
       "      <td>-1.779108</td>\n",
       "      <td>-1.002478</td>\n",
       "      <td>-0.569351</td>\n",
       "      <td>-0.411453</td>\n",
       "      <td>-0.251940</td>\n",
       "      <td>0.000000</td>\n",
       "      <td>0.000000</td>\n",
       "      <td>0.000000</td>\n",
       "      <td>0.000000</td>\n",
       "      <td>0.000000</td>\n",
       "      <td>0.000000</td>\n",
       "      <td>0.000000</td>\n",
       "      <td>0.000000</td>\n",
       "      <td>0.000000</td>\n",
       "      <td>0.000000</td>\n",
       "    </tr>\n",
       "    <tr>\n",
       "      <th>25%</th>\n",
       "      <td>-0.747384</td>\n",
       "      <td>-0.422787</td>\n",
       "      <td>-0.938003</td>\n",
       "      <td>-0.602517</td>\n",
       "      <td>-0.569351</td>\n",
       "      <td>-0.411453</td>\n",
       "      <td>-0.251940</td>\n",
       "      <td>1.000000</td>\n",
       "      <td>1.000000</td>\n",
       "      <td>1.000000</td>\n",
       "      <td>0.000000</td>\n",
       "      <td>0.000000</td>\n",
       "      <td>0.000000</td>\n",
       "      <td>0.000000</td>\n",
       "      <td>3.000000</td>\n",
       "      <td>3.000000</td>\n",
       "      <td>0.000000</td>\n",
       "    </tr>\n",
       "    <tr>\n",
       "      <th>50%</th>\n",
       "      <td>-0.182341</td>\n",
       "      <td>-0.297324</td>\n",
       "      <td>0.023260</td>\n",
       "      <td>-0.303517</td>\n",
       "      <td>-0.246560</td>\n",
       "      <td>-0.411453</td>\n",
       "      <td>-0.251940</td>\n",
       "      <td>4.000000</td>\n",
       "      <td>1.000000</td>\n",
       "      <td>1.000000</td>\n",
       "      <td>0.000000</td>\n",
       "      <td>1.000000</td>\n",
       "      <td>0.000000</td>\n",
       "      <td>0.000000</td>\n",
       "      <td>6.000000</td>\n",
       "      <td>3.000000</td>\n",
       "      <td>0.000000</td>\n",
       "    </tr>\n",
       "    <tr>\n",
       "      <th>75%</th>\n",
       "      <td>0.665225</td>\n",
       "      <td>0.022901</td>\n",
       "      <td>0.624050</td>\n",
       "      <td>0.236237</td>\n",
       "      <td>0.076230</td>\n",
       "      <td>-0.411453</td>\n",
       "      <td>-0.251940</td>\n",
       "      <td>7.000000</td>\n",
       "      <td>2.000000</td>\n",
       "      <td>2.000000</td>\n",
       "      <td>0.000000</td>\n",
       "      <td>1.000000</td>\n",
       "      <td>0.000000</td>\n",
       "      <td>2.000000</td>\n",
       "      <td>8.000000</td>\n",
       "      <td>3.000000</td>\n",
       "      <td>0.000000</td>\n",
       "    </tr>\n",
       "    <tr>\n",
       "      <th>max</th>\n",
       "      <td>5.091402</td>\n",
       "      <td>33.094776</td>\n",
       "      <td>1.825628</td>\n",
       "      <td>18.094700</td>\n",
       "      <td>19.443647</td>\n",
       "      <td>8.127648</td>\n",
       "      <td>23.625644</td>\n",
       "      <td>11.000000</td>\n",
       "      <td>2.000000</td>\n",
       "      <td>3.000000</td>\n",
       "      <td>1.000000</td>\n",
       "      <td>1.000000</td>\n",
       "      <td>1.000000</td>\n",
       "      <td>2.000000</td>\n",
       "      <td>11.000000</td>\n",
       "      <td>3.000000</td>\n",
       "      <td>1.000000</td>\n",
       "    </tr>\n",
       "  </tbody>\n",
       "</table>\n",
       "</div>"
      ],
      "text/plain": [
       "          feature_0     feature_1     feature_2     feature_3     feature_4  \\\n",
       "count  33908.000000  33908.000000  33908.000000  33908.000000  33908.000000   \n",
       "mean      -0.004158      0.002584     -0.000213     -0.000053     -0.000298   \n",
       "std        0.999776      1.014268      1.000872      1.002512      1.003724   \n",
       "min       -2.159994     -3.081149     -1.779108     -1.002478     -0.569351   \n",
       "25%       -0.747384     -0.422787     -0.938003     -0.602517     -0.569351   \n",
       "50%       -0.182341     -0.297324      0.023260     -0.303517     -0.246560   \n",
       "75%        0.665225      0.022901      0.624050      0.236237      0.076230   \n",
       "max        5.091402     33.094776      1.825628     18.094700     19.443647   \n",
       "\n",
       "          feature_5     feature_6     feature_7     feature_8     feature_9  \\\n",
       "count  33908.000000  33908.000000  33908.000000  33908.000000  33908.000000   \n",
       "mean      -0.004652     -0.007498      4.336381      1.171051      1.225345   \n",
       "std        0.993984      0.802696      3.273376      0.606730      0.749104   \n",
       "min       -0.411453     -0.251940      0.000000      0.000000      0.000000   \n",
       "25%       -0.411453     -0.251940      1.000000      1.000000      1.000000   \n",
       "50%       -0.411453     -0.251940      4.000000      1.000000      1.000000   \n",
       "75%       -0.411453     -0.251940      7.000000      2.000000      2.000000   \n",
       "max        8.127648     23.625644     11.000000      2.000000      3.000000   \n",
       "\n",
       "         feature_10    feature_11    feature_12    feature_13    feature_14  \\\n",
       "count  33908.000000  33908.000000  33908.000000  33908.000000  33908.000000   \n",
       "mean       0.018137      0.555503      0.159667      0.639407      5.520497   \n",
       "std        0.133450      0.496917      0.366303      0.897627      3.003241   \n",
       "min        0.000000      0.000000      0.000000      0.000000      0.000000   \n",
       "25%        0.000000      0.000000      0.000000      0.000000      3.000000   \n",
       "50%        0.000000      1.000000      0.000000      0.000000      6.000000   \n",
       "75%        0.000000      1.000000      0.000000      2.000000      8.000000   \n",
       "max        1.000000      1.000000      1.000000      2.000000     11.000000   \n",
       "\n",
       "         feature_15        labels  \n",
       "count  33908.000000  33908.000000  \n",
       "mean       2.562375      0.116993  \n",
       "std        0.987148      0.321417  \n",
       "min        0.000000      0.000000  \n",
       "25%        3.000000      0.000000  \n",
       "50%        3.000000      0.000000  \n",
       "75%        3.000000      0.000000  \n",
       "max        3.000000      1.000000  "
      ]
     },
     "execution_count": 7,
     "metadata": {},
     "output_type": "execute_result"
    }
   ],
   "source": [
    "#Dados um describe\n",
    "\n",
    "dados.describe()"
   ]
  },
  {
   "cell_type": "code",
   "execution_count": 8,
   "id": "089ff518",
   "metadata": {},
   "outputs": [
    {
     "data": {
      "text/plain": [
       "0    0.883007\n",
       "1    0.116993\n",
       "Name: labels, dtype: float64"
      ]
     },
     "execution_count": 8,
     "metadata": {},
     "output_type": "execute_result"
    }
   ],
   "source": [
    "dados[\"labels\"].value_counts(normalize=True)"
   ]
  },
  {
   "cell_type": "code",
   "execution_count": 9,
   "id": "8e491e6c",
   "metadata": {},
   "outputs": [
    {
     "data": {
      "image/png": "[encoded data removed]",
      "text/plain": [
       "<Figure size 432x288 with 1 Axes>"
      ]
     },
     "metadata": {
      "needs_background": "light"
     },
     "output_type": "display_data"
    }
   ],
   "source": [
    "sns.countplot(dados[\"labels\"]);"
   ]
  },
  {
   "cell_type": "code",
   "execution_count": 10,
   "id": "94d8e0ae",
   "metadata": {},
   "outputs": [
    {
     "data": {
      "text/plain": [
       "<AxesSubplot:xlabel='feature_2'>"
      ]
     },
     "execution_count": 10,
     "metadata": {},
     "output_type": "execute_result"
    },
    {
     "data": {
      "image/png": "[encoded data removed]",
      "text/plain": [
       "<Figure size 432x288 with 1 Axes>"
      ]
     },
     "metadata": {
      "needs_background": "light"
     },
     "output_type": "display_data"
    }
   ],
   "source": [
    "dados[\"feature_2\"].value_counts(normalize=True)\n",
    "sns.boxplot(dados[\"feature_2\"])"
   ]
  },
  {
   "cell_type": "code",
   "execution_count": 11,
   "id": "35ae014a",
   "metadata": {},
   "outputs": [
    {
     "data": {
      "image/png": "[encoded data removed]",
      "text/plain": [
       "<Figure size 432x288 with 1 Axes>"
      ]
     },
     "metadata": {
      "needs_background": "light"
     },
     "output_type": "display_data"
    }
   ],
   "source": [
    "dados[\"feature_3\"].value_counts(normalize=True)\n",
    "plt.hist(dados[\"feature_3\"],bins=50);"
   ]
  },
  {
   "cell_type": "code",
   "execution_count": 12,
   "id": "ea593291",
   "metadata": {},
   "outputs": [
    {
     "data": {
      "image/png": "[encoded data removed]",
      "text/plain": [
       "<Figure size 432x288 with 1 Axes>"
      ]
     },
     "metadata": {
      "needs_background": "light"
     },
     "output_type": "display_data"
    }
   ],
   "source": [
    "dados[\"feature_5\"].value_counts(normalize=True)\n",
    "plt.hist(dados[\"feature_5\"],bins=50);"
   ]
  },
  {
   "cell_type": "code",
   "execution_count": 13,
   "id": "19bcc41d",
   "metadata": {},
   "outputs": [
    {
     "data": {
      "image/png": "[encoded data removed]",
      "text/plain": [
       "<Figure size 432x288 with 1 Axes>"
      ]
     },
     "metadata": {
      "needs_background": "light"
     },
     "output_type": "display_data"
    }
   ],
   "source": [
    "dados[\"feature_11\"].value_counts(normalize=True)\n",
    "sns.countplot(dados[\"feature_11\"]);"
   ]
  },
  {
   "cell_type": "code",
   "execution_count": 14,
   "id": "13ee6cff",
   "metadata": {},
   "outputs": [
    {
     "data": {
      "image/png": "[encoded data removed]",
      "text/plain": [
       "<Figure size 432x288 with 1 Axes>"
      ]
     },
     "metadata": {
      "needs_background": "light"
     },
     "output_type": "display_data"
    }
   ],
   "source": [
    "dados[\"feature_13\"].value_counts(normalize=True)\n",
    "sns.countplot(dados[\"feature_13\"]);"
   ]
  },
  {
   "cell_type": "code",
   "execution_count": 15,
   "id": "863c12a2",
   "metadata": {},
   "outputs": [
    {
     "data": {
      "image/png": "[encoded data removed]",
      "text/plain": [
       "<Figure size 432x288 with 1 Axes>"
      ]
     },
     "metadata": {
      "needs_background": "light"
     },
     "output_type": "display_data"
    }
   ],
   "source": [
    "dados[\"feature_14\"].value_counts(normalize=True)\n",
    "sns.countplot(dados[\"feature_14\"]);"
   ]
  },
  {
   "cell_type": "code",
   "execution_count": 16,
   "id": "8ecdd815",
   "metadata": {},
   "outputs": [
    {
     "data": {
      "image/png": "[encoded data removed]",
      "text/plain": [
       "<Figure size 432x288 with 1 Axes>"
      ]
     },
     "metadata": {
      "needs_background": "light"
     },
     "output_type": "display_data"
    }
   ],
   "source": [
    "dados[\"feature_15\"].value_counts(normalize=True)\n",
    "sns.countplot(dados[\"feature_15\"]);"
   ]
  },
  {
   "cell_type": "code",
   "execution_count": 17,
   "id": "9499ce55",
   "metadata": {},
   "outputs": [],
   "source": [
    "corr=dados.corr()\n"
   ]
  },
  {
   "cell_type": "code",
   "execution_count": 19,
   "id": "728f662b",
   "metadata": {},
   "outputs": [
    {
     "data": {
      "text/plain": [
       "<AxesSubplot:>"
      ]
     },
     "execution_count": 19,
     "metadata": {},
     "output_type": "execute_result"
    },
    {
     "data": {
      "image/png": "[encoded data removed]",
      "text/plain": [
       "<Figure size 432x288 with 2 Axes>"
      ]
     },
     "metadata": {
      "needs_background": "light"
     },
     "output_type": "display_data"
    }
   ],
   "source": [
    "sns.heatmap(corr)"
   ]
  },
  {
   "cell_type": "markdown",
   "id": "014d50bf",
   "metadata": {},
   "source": [
    "## 3° Pré-Processamento dos Dados"
   ]
  },
  {
   "cell_type": "markdown",
   "id": "48d41988",
   "metadata": {},
   "source": [
    "**Balanceamento da Classe**\n",
    "\n",
    "O conjunto de dados está altamente desbalanceado e precisa de tratamento. Vamos usar uma Hiperparâmetro do Algoritmo ao invés de usar funções específicas como o SMOTE."
   ]
  },
  {
   "cell_type": "markdown",
   "id": "d2b89d69",
   "metadata": {},
   "source": [
    "### Seleção das Variáveis - Feature Select"
   ]
  },
  {
   "cell_type": "code",
   "execution_count": 20,
   "id": "cfc20f80",
   "metadata": {},
   "outputs": [],
   "source": [
    "#Separar os valores para realizar  o treinamento\n",
    "array=dados.values"
   ]
  },
  {
   "cell_type": "code",
   "execution_count": 21,
   "id": "89dbdae8",
   "metadata": {},
   "outputs": [
    {
     "data": {
      "text/plain": [
       "array([[-2.76514595e-01, -4.24428814e-01,  1.34499695e+00, ...,\n",
       "         1.00000000e+01,  2.00000000e+00,  1.00000000e+00],\n",
       "       [ 8.53573137e-01,  1.50991259e-01,  5.03891812e-01, ...,\n",
       "         0.00000000e+00,  3.00000000e+00,  0.00000000e+00],\n",
       "       [ 9.47747115e-01, -1.73832058e-01,  1.82562845e+00, ...,\n",
       "         5.00000000e+00,  3.00000000e+00,  0.00000000e+00],\n",
       "       ...,\n",
       "       [ 6.00733785e-03, -3.95526436e-01,  9.84523317e-01, ...,\n",
       "         7.00000000e+00,  3.00000000e+00,  0.00000000e+00],\n",
       "       [-8.81666398e-02,  7.89142630e-01,  5.03891812e-01, ...,\n",
       "         9.00000000e+00,  3.00000000e+00,  0.00000000e+00],\n",
       "       [ 9.47747115e-01, -4.06364828e-01, -9.38002703e-01, ...,\n",
       "         8.00000000e+00,  3.00000000e+00,  0.00000000e+00]])"
      ]
     },
     "execution_count": 21,
     "metadata": {},
     "output_type": "execute_result"
    }
   ],
   "source": [
    "array"
   ]
  },
  {
   "cell_type": "code",
   "execution_count": 22,
   "id": "0993bf68",
   "metadata": {},
   "outputs": [],
   "source": [
    "# Separando o array em componentes de input e output (variáveis explicativas e Target(Y))\n",
    "#Ou seja estamos separando as variaveis que iremos usar\n",
    "X=array[:,[2,3,5,11,13,14,15]]\n",
    "Y=array[:,16]"
   ]
  },
  {
   "cell_type": "code",
   "execution_count": 25,
   "id": "d5de8dbe",
   "metadata": {},
   "outputs": [],
   "source": [
    "# Definindo o tamanho dos dados de treino e de teste\n",
    "teste_size=0.38\n",
    "seed=7"
   ]
  },
  {
   "cell_type": "code",
   "execution_count": 31,
   "id": "49f2727a",
   "metadata": {},
   "outputs": [],
   "source": [
    "#Criando o dataset de treinio e de teste\n",
    "\n",
    "x_train,x_test,y_train,y_test=train_test_split(X,Y,test_size=teste_size,random_state=seed)"
   ]
  },
  {
   "cell_type": "markdown",
   "id": "9056185b",
   "metadata": {},
   "source": [
    "### 4° Construíndo a Máquina Preditiva"
   ]
  },
  {
   "cell_type": "code",
   "execution_count": 32,
   "id": "a378f8e4",
   "metadata": {},
   "outputs": [],
   "source": [
    "modelo_lgbm=lgb.LGBMClassifier(\n",
    "                                n_estimators=95,\n",
    "                                learning_rate=0.1,\n",
    "                                scale_pos_weight=3,\n",
    "                                random_state=7)"
   ]
  },
  {
   "cell_type": "code",
   "execution_count": 33,
   "id": "9eb3af1a",
   "metadata": {},
   "outputs": [
    {
     "data": {
      "text/plain": [
       "LGBMClassifier(n_estimators=95, random_state=7, scale_pos_weight=3)"
      ]
     },
     "execution_count": 33,
     "metadata": {},
     "output_type": "execute_result"
    }
   ],
   "source": [
    "modelo_lgbm.fit(x_train,y_train)"
   ]
  },
  {
   "cell_type": "code",
   "execution_count": 34,
   "id": "c5e58e60",
   "metadata": {},
   "outputs": [],
   "source": [
    "y_pred=modelo_lgbm.predict(x_test)"
   ]
  },
  {
   "cell_type": "code",
   "execution_count": 35,
   "id": "ddd5bb6f",
   "metadata": {},
   "outputs": [],
   "source": [
    "y_pred_proba=modelo_lgbm.predict_proba(x_test)"
   ]
  },
  {
   "cell_type": "code",
   "execution_count": 36,
   "id": "1cc19439",
   "metadata": {},
   "outputs": [
    {
     "data": {
      "text/plain": [
       "array([0., 1., 0., 0., 0.])"
      ]
     },
     "execution_count": 36,
     "metadata": {},
     "output_type": "execute_result"
    }
   ],
   "source": [
    "y_pred[:5]"
   ]
  },
  {
   "cell_type": "code",
   "execution_count": 37,
   "id": "8fc22603",
   "metadata": {},
   "outputs": [
    {
     "data": {
      "text/plain": [
       "array([[9.85804312e-01, 1.41956878e-02],\n",
       "       [3.05642525e-01, 6.94357475e-01],\n",
       "       [9.95053370e-01, 4.94663003e-03],\n",
       "       [9.80264471e-01, 1.97355293e-02],\n",
       "       [9.99128430e-01, 8.71570164e-04]])"
      ]
     },
     "execution_count": 37,
     "metadata": {},
     "output_type": "execute_result"
    }
   ],
   "source": [
    "y_pred_proba[:5]"
   ]
  },
  {
   "cell_type": "code",
   "execution_count": 38,
   "id": "69c35904",
   "metadata": {},
   "outputs": [],
   "source": [
    "previsoes=[round(value) for value in y_pred]"
   ]
  },
  {
   "cell_type": "code",
   "execution_count": 40,
   "id": "f16b161a",
   "metadata": {},
   "outputs": [],
   "source": [
    "#previsoes"
   ]
  },
  {
   "cell_type": "code",
   "execution_count": 41,
   "id": "cbc8b678",
   "metadata": {},
   "outputs": [],
   "source": [
    "accuracy=accuracy_score(y_test,previsoes)"
   ]
  },
  {
   "cell_type": "code",
   "execution_count": 43,
   "id": "bf2fe70f",
   "metadata": {},
   "outputs": [
    {
     "name": "stdout",
     "output_type": "stream",
     "text": [
      "Acurácia: 89.59%\n"
     ]
    }
   ],
   "source": [
    "print(\"Acurácia: %.2f%%\"%(accuracy*100.0))"
   ]
  },
  {
   "cell_type": "code",
   "execution_count": 44,
   "id": "bdd4d276",
   "metadata": {},
   "outputs": [],
   "source": [
    "f1=f1_score(y_test,previsoes)"
   ]
  },
  {
   "cell_type": "code",
   "execution_count": 45,
   "id": "25749e0c",
   "metadata": {},
   "outputs": [
    {
     "data": {
      "text/plain": [
       "0.6286662977310459"
      ]
     },
     "execution_count": 45,
     "metadata": {},
     "output_type": "execute_result"
    }
   ],
   "source": [
    "f1"
   ]
  },
  {
   "cell_type": "code",
   "execution_count": null,
   "id": "cf64319b",
   "metadata": {},
   "outputs": [],
   "source": []
  }
 ],
 "metadata": {
  "kernelspec": {
   "display_name": "Python 3 (ipykernel)",
   "language": "python",
   "name": "python3"
  },
  "language_info": {
   "codemirror_mode": {
    "name": "ipython",
    "version": 3
   },
   "file_extension": ".py",
   "mimetype": "text/x-python",
   "name": "python",
   "nbconvert_exporter": "python",
   "pygments_lexer": "ipython3",
   "version": "3.8.10"
  }
 },
 "nbformat": 4,
 "nbformat_minor": 5
}
